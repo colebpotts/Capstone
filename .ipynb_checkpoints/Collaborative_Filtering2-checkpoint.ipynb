{
 "cells": [
  {
   "cell_type": "markdown",
   "id": "837f6a50",
   "metadata": {
    "id": "837f6a50"
   },
   "source": [
    "# Sp.3 - Capstone - Collaborative Filtering\n",
    "\n",
    "\n",
    "**Project:** Movie Reccomender System (Capstone)\n",
    "\n",
    "**Date Created:** January 4th 2024\n",
    "\n",
    "**Author:** Cole Beevor-Potts\n"
   ]
  },
  {
   "cell_type": "markdown",
   "id": "d16cbccf",
   "metadata": {},
   "source": [
    "# Table of Contents\n",
    "- [Introduction](#Introduction)\n",
    "- [Extra EDA](#Extra-EDA)\n",
    "- [User-Movie Matrix](#User-Movie-Matrix)\n",
    "- [Matrix Factorization (FunkSVD)](#Matrix-Factorization-(FunkSVD))\n",
    "- [Baseline FunkSVD Model](#Baseline-FunkSVD-Model)\n",
    "- [Predictions](#Predictions)\n",
    "- [Evaluation Metrics](#Evaluation-Metrics)\n",
    "- [Model Optimization](#Model-Optimization)\n",
    "- [Conclusion](#Conclusion)"
   ]
  },
  {
   "cell_type": "markdown",
   "id": "9732a3bf",
   "metadata": {
    "id": "9732a3bf"
   },
   "source": [
    "## Introduction\n",
    "This workbook is part of my movie reccomender system for my Brainstation Capstone Project. This workbook will be devoted to collaborative filtering. \n",
    "\n",
    "We will work on a Letterboxd dataset from Kaggle. This dataset has 3 files:\n",
    "* Movies data\n",
    "* Users Data\n",
    "* Ratings data\n",
    "\n",
    "This workbook will look at the ratings data.\n",
    "\n",
    "So far we have looked at making content based reccomendations using movie description. That approach focuses on finding the most similar movies in the vector space.\n",
    "\n",
    "Now We will be performing **collaborative filtering** using FunkSVD. Rather than look at content, this approach will look at the hidden latent factors unearthing the relationship between users and between movies. Using these latent factors we can be used to predict how a given user would rate a movie. \n",
    "\n",
    "**FunkSVD** predicts unknown user-movie ratings by reconstructing the original matrix using the learned latent factors. By multiplying the user and movie matrices together, the model can estimate missing values or predict ratings for user-item pairs that haven't been rated. Hoping to pick up on some of the latent meaning behind ratings.\n",
    "\n",
    "We will be able to evaluate our collaborative model with Root Mean Square Error as our key metric.\n",
    "\n",
    "Lets dive in."
   ]
  },
  {
   "cell_type": "code",
   "execution_count": 1,
   "id": "698452ef",
   "metadata": {
    "id": "698452ef"
   },
   "outputs": [],
   "source": [
    "import pandas as pd\n",
    "import numpy as np\n",
    "import matplotlib.pyplot as plt\n",
    "import seaborn as sns\n",
    "\n",
    "from surprise import Dataset\n",
    "from surprise.reader import Reader\n",
    "from surprise import accuracy, SVD\n",
    "from surprise.model_selection import train_test_split\n"
   ]
  },
  {
   "cell_type": "code",
   "execution_count": 2,
   "id": "oRVZvpsmNV7Y",
   "metadata": {
    "id": "oRVZvpsmNV7Y"
   },
   "outputs": [],
   "source": [
    "ratings = pd.read_csv(\"data/ratings_export.csv\")"
   ]
  },
  {
   "cell_type": "code",
   "execution_count": 4,
   "id": "2f14ab45",
   "metadata": {
    "colab": {
     "base_uri": "https://localhost:8080/"
    },
    "id": "2f14ab45",
    "outputId": "166e3ee5-61fd-4c6e-d605-1ec9bb14b504",
    "scrolled": true
   },
   "outputs": [
    {
     "data": {
      "text/plain": [
       "(11078167, 4)"
      ]
     },
     "execution_count": 4,
     "metadata": {},
     "output_type": "execute_result"
    }
   ],
   "source": [
    "ratings.shape"
   ]
  },
  {
   "cell_type": "markdown",
   "id": "cd5274e4",
   "metadata": {
    "id": "cd5274e4"
   },
   "source": [
    "We have 11 million unique ratings. We will probably set a minimum threshold so that we only look at movies with a certain number of ratings.\n",
    "\n",
    "For the content side of our reccomendation system, we set this threshold to 400 ratings."
   ]
  },
  {
   "cell_type": "code",
   "execution_count": 5,
   "id": "849634a9",
   "metadata": {
    "colab": {
     "base_uri": "https://localhost:8080/",
     "height": 206
    },
    "id": "849634a9",
    "outputId": "82e74439-6faa-4944-9da2-dc7851e3a425",
    "scrolled": true
   },
   "outputs": [
    {
     "data": {
      "text/html": [
       "\n",
       "  <div id=\"df-1565320f-b3bb-4f33-9ccf-20d7251d1253\" class=\"colab-df-container\">\n",
       "    <div>\n",
       "<style scoped>\n",
       "    .dataframe tbody tr th:only-of-type {\n",
       "        vertical-align: middle;\n",
       "    }\n",
       "\n",
       "    .dataframe tbody tr th {\n",
       "        vertical-align: top;\n",
       "    }\n",
       "\n",
       "    .dataframe thead th {\n",
       "        text-align: right;\n",
       "    }\n",
       "</style>\n",
       "<table border=\"1\" class=\"dataframe\">\n",
       "  <thead>\n",
       "    <tr style=\"text-align: right;\">\n",
       "      <th></th>\n",
       "      <th>_id</th>\n",
       "      <th>movie_id</th>\n",
       "      <th>rating_val</th>\n",
       "      <th>user_id</th>\n",
       "    </tr>\n",
       "  </thead>\n",
       "  <tbody>\n",
       "    <tr>\n",
       "      <th>0</th>\n",
       "      <td>5fc57c5d6758f6963451a07f</td>\n",
       "      <td>feast-2014</td>\n",
       "      <td>7</td>\n",
       "      <td>deathproof</td>\n",
       "    </tr>\n",
       "    <tr>\n",
       "      <th>1</th>\n",
       "      <td>5fc57c5d6758f6963451a063</td>\n",
       "      <td>loving-2016</td>\n",
       "      <td>7</td>\n",
       "      <td>deathproof</td>\n",
       "    </tr>\n",
       "    <tr>\n",
       "      <th>2</th>\n",
       "      <td>5fc57c5d6758f6963451a0ef</td>\n",
       "      <td>scripted-content</td>\n",
       "      <td>7</td>\n",
       "      <td>deathproof</td>\n",
       "    </tr>\n",
       "    <tr>\n",
       "      <th>3</th>\n",
       "      <td>5fc57c5d6758f6963451a060</td>\n",
       "      <td>the-future</td>\n",
       "      <td>4</td>\n",
       "      <td>deathproof</td>\n",
       "    </tr>\n",
       "    <tr>\n",
       "      <th>4</th>\n",
       "      <td>5fc57c5c6758f69634519398</td>\n",
       "      <td>mank</td>\n",
       "      <td>5</td>\n",
       "      <td>deathproof</td>\n",
       "    </tr>\n",
       "  </tbody>\n",
       "</table>\n",
       "</div>\n",
       "    <div class=\"colab-df-buttons\">\n",
       "\n",
       "  <div class=\"colab-df-container\">\n",
       "    <button class=\"colab-df-convert\" onclick=\"convertToInteractive('df-1565320f-b3bb-4f33-9ccf-20d7251d1253')\"\n",
       "            title=\"Convert this dataframe to an interactive table.\"\n",
       "            style=\"display:none;\">\n",
       "\n",
       "  <svg xmlns=\"http://www.w3.org/2000/svg\" height=\"24px\" viewBox=\"0 -960 960 960\">\n",
       "    <path d=\"M120-120v-720h720v720H120Zm60-500h600v-160H180v160Zm220 220h160v-160H400v160Zm0 220h160v-160H400v160ZM180-400h160v-160H180v160Zm440 0h160v-160H620v160ZM180-180h160v-160H180v160Zm440 0h160v-160H620v160Z\"/>\n",
       "  </svg>\n",
       "    </button>\n",
       "\n",
       "  <style>\n",
       "    .colab-df-container {\n",
       "      display:flex;\n",
       "      gap: 12px;\n",
       "    }\n",
       "\n",
       "    .colab-df-convert {\n",
       "      background-color: #E8F0FE;\n",
       "      border: none;\n",
       "      border-radius: 50%;\n",
       "      cursor: pointer;\n",
       "      display: none;\n",
       "      fill: #1967D2;\n",
       "      height: 32px;\n",
       "      padding: 0 0 0 0;\n",
       "      width: 32px;\n",
       "    }\n",
       "\n",
       "    .colab-df-convert:hover {\n",
       "      background-color: #E2EBFA;\n",
       "      box-shadow: 0px 1px 2px rgba(60, 64, 67, 0.3), 0px 1px 3px 1px rgba(60, 64, 67, 0.15);\n",
       "      fill: #174EA6;\n",
       "    }\n",
       "\n",
       "    .colab-df-buttons div {\n",
       "      margin-bottom: 4px;\n",
       "    }\n",
       "\n",
       "    [theme=dark] .colab-df-convert {\n",
       "      background-color: #3B4455;\n",
       "      fill: #D2E3FC;\n",
       "    }\n",
       "\n",
       "    [theme=dark] .colab-df-convert:hover {\n",
       "      background-color: #434B5C;\n",
       "      box-shadow: 0px 1px 3px 1px rgba(0, 0, 0, 0.15);\n",
       "      filter: drop-shadow(0px 1px 2px rgba(0, 0, 0, 0.3));\n",
       "      fill: #FFFFFF;\n",
       "    }\n",
       "  </style>\n",
       "\n",
       "    <script>\n",
       "      const buttonEl =\n",
       "        document.querySelector('#df-1565320f-b3bb-4f33-9ccf-20d7251d1253 button.colab-df-convert');\n",
       "      buttonEl.style.display =\n",
       "        google.colab.kernel.accessAllowed ? 'block' : 'none';\n",
       "\n",
       "      async function convertToInteractive(key) {\n",
       "        const element = document.querySelector('#df-1565320f-b3bb-4f33-9ccf-20d7251d1253');\n",
       "        const dataTable =\n",
       "          await google.colab.kernel.invokeFunction('convertToInteractive',\n",
       "                                                    [key], {});\n",
       "        if (!dataTable) return;\n",
       "\n",
       "        const docLinkHtml = 'Like what you see? Visit the ' +\n",
       "          '<a target=\"_blank\" href=https://colab.research.google.com/notebooks/data_table.ipynb>data table notebook</a>'\n",
       "          + ' to learn more about interactive tables.';\n",
       "        element.innerHTML = '';\n",
       "        dataTable['output_type'] = 'display_data';\n",
       "        await google.colab.output.renderOutput(dataTable, element);\n",
       "        const docLink = document.createElement('div');\n",
       "        docLink.innerHTML = docLinkHtml;\n",
       "        element.appendChild(docLink);\n",
       "      }\n",
       "    </script>\n",
       "  </div>\n",
       "\n",
       "\n",
       "<div id=\"df-54e06b04-59ac-4dc9-a621-69eda91ed1e8\">\n",
       "  <button class=\"colab-df-quickchart\" onclick=\"quickchart('df-54e06b04-59ac-4dc9-a621-69eda91ed1e8')\"\n",
       "            title=\"Suggest charts\"\n",
       "            style=\"display:none;\">\n",
       "\n",
       "<svg xmlns=\"http://www.w3.org/2000/svg\" height=\"24px\"viewBox=\"0 0 24 24\"\n",
       "     width=\"24px\">\n",
       "    <g>\n",
       "        <path d=\"M19 3H5c-1.1 0-2 .9-2 2v14c0 1.1.9 2 2 2h14c1.1 0 2-.9 2-2V5c0-1.1-.9-2-2-2zM9 17H7v-7h2v7zm4 0h-2V7h2v10zm4 0h-2v-4h2v4z\"/>\n",
       "    </g>\n",
       "</svg>\n",
       "  </button>\n",
       "\n",
       "<style>\n",
       "  .colab-df-quickchart {\n",
       "      --bg-color: #E8F0FE;\n",
       "      --fill-color: #1967D2;\n",
       "      --hover-bg-color: #E2EBFA;\n",
       "      --hover-fill-color: #174EA6;\n",
       "      --disabled-fill-color: #AAA;\n",
       "      --disabled-bg-color: #DDD;\n",
       "  }\n",
       "\n",
       "  [theme=dark] .colab-df-quickchart {\n",
       "      --bg-color: #3B4455;\n",
       "      --fill-color: #D2E3FC;\n",
       "      --hover-bg-color: #434B5C;\n",
       "      --hover-fill-color: #FFFFFF;\n",
       "      --disabled-bg-color: #3B4455;\n",
       "      --disabled-fill-color: #666;\n",
       "  }\n",
       "\n",
       "  .colab-df-quickchart {\n",
       "    background-color: var(--bg-color);\n",
       "    border: none;\n",
       "    border-radius: 50%;\n",
       "    cursor: pointer;\n",
       "    display: none;\n",
       "    fill: var(--fill-color);\n",
       "    height: 32px;\n",
       "    padding: 0;\n",
       "    width: 32px;\n",
       "  }\n",
       "\n",
       "  .colab-df-quickchart:hover {\n",
       "    background-color: var(--hover-bg-color);\n",
       "    box-shadow: 0 1px 2px rgba(60, 64, 67, 0.3), 0 1px 3px 1px rgba(60, 64, 67, 0.15);\n",
       "    fill: var(--button-hover-fill-color);\n",
       "  }\n",
       "\n",
       "  .colab-df-quickchart-complete:disabled,\n",
       "  .colab-df-quickchart-complete:disabled:hover {\n",
       "    background-color: var(--disabled-bg-color);\n",
       "    fill: var(--disabled-fill-color);\n",
       "    box-shadow: none;\n",
       "  }\n",
       "\n",
       "  .colab-df-spinner {\n",
       "    border: 2px solid var(--fill-color);\n",
       "    border-color: transparent;\n",
       "    border-bottom-color: var(--fill-color);\n",
       "    animation:\n",
       "      spin 1s steps(1) infinite;\n",
       "  }\n",
       "\n",
       "  @keyframes spin {\n",
       "    0% {\n",
       "      border-color: transparent;\n",
       "      border-bottom-color: var(--fill-color);\n",
       "      border-left-color: var(--fill-color);\n",
       "    }\n",
       "    20% {\n",
       "      border-color: transparent;\n",
       "      border-left-color: var(--fill-color);\n",
       "      border-top-color: var(--fill-color);\n",
       "    }\n",
       "    30% {\n",
       "      border-color: transparent;\n",
       "      border-left-color: var(--fill-color);\n",
       "      border-top-color: var(--fill-color);\n",
       "      border-right-color: var(--fill-color);\n",
       "    }\n",
       "    40% {\n",
       "      border-color: transparent;\n",
       "      border-right-color: var(--fill-color);\n",
       "      border-top-color: var(--fill-color);\n",
       "    }\n",
       "    60% {\n",
       "      border-color: transparent;\n",
       "      border-right-color: var(--fill-color);\n",
       "    }\n",
       "    80% {\n",
       "      border-color: transparent;\n",
       "      border-right-color: var(--fill-color);\n",
       "      border-bottom-color: var(--fill-color);\n",
       "    }\n",
       "    90% {\n",
       "      border-color: transparent;\n",
       "      border-bottom-color: var(--fill-color);\n",
       "    }\n",
       "  }\n",
       "</style>\n",
       "\n",
       "  <script>\n",
       "    async function quickchart(key) {\n",
       "      const quickchartButtonEl =\n",
       "        document.querySelector('#' + key + ' button');\n",
       "      quickchartButtonEl.disabled = true;  // To prevent multiple clicks.\n",
       "      quickchartButtonEl.classList.add('colab-df-spinner');\n",
       "      try {\n",
       "        const charts = await google.colab.kernel.invokeFunction(\n",
       "            'suggestCharts', [key], {});\n",
       "      } catch (error) {\n",
       "        console.error('Error during call to suggestCharts:', error);\n",
       "      }\n",
       "      quickchartButtonEl.classList.remove('colab-df-spinner');\n",
       "      quickchartButtonEl.classList.add('colab-df-quickchart-complete');\n",
       "    }\n",
       "    (() => {\n",
       "      let quickchartButtonEl =\n",
       "        document.querySelector('#df-54e06b04-59ac-4dc9-a621-69eda91ed1e8 button');\n",
       "      quickchartButtonEl.style.display =\n",
       "        google.colab.kernel.accessAllowed ? 'block' : 'none';\n",
       "    })();\n",
       "  </script>\n",
       "</div>\n",
       "\n",
       "    </div>\n",
       "  </div>\n"
      ],
      "text/plain": [
       "                        _id          movie_id  rating_val     user_id\n",
       "0  5fc57c5d6758f6963451a07f        feast-2014           7  deathproof\n",
       "1  5fc57c5d6758f6963451a063       loving-2016           7  deathproof\n",
       "2  5fc57c5d6758f6963451a0ef  scripted-content           7  deathproof\n",
       "3  5fc57c5d6758f6963451a060        the-future           4  deathproof\n",
       "4  5fc57c5c6758f69634519398              mank           5  deathproof"
      ]
     },
     "execution_count": 5,
     "metadata": {},
     "output_type": "execute_result"
    }
   ],
   "source": [
    "ratings.head()"
   ]
  },
  {
   "cell_type": "markdown",
   "id": "44f2fef8",
   "metadata": {
    "id": "44f2fef8"
   },
   "source": [
    "This is a nice a simple table we wont have to do much more pre-processing on to get our User-Movie utility matrix."
   ]
  },
  {
   "cell_type": "markdown",
   "id": "de1cad53",
   "metadata": {
    "id": "de1cad53"
   },
   "source": [
    "### Extra EDA\n",
    "\n",
    "Lets look quickly at the distribution of ratings per movie."
   ]
  },
  {
   "cell_type": "code",
   "execution_count": null,
   "id": "ad3dffdd",
   "metadata": {
    "id": "ad3dffdd",
    "outputId": "f00f0dfa-3be0-4b36-d1e1-a143e14475d6",
    "scrolled": false
   },
   "outputs": [
    {
     "data": {
      "image/png": "[encoded data removed]",
      "text/plain": [
       "<Figure size 1000x600 with 1 Axes>"
      ]
     },
     "metadata": {},
     "output_type": "display_data"
    }
   ],
   "source": [
    "#Ratings per movie:\n",
    "# Grouping by movie_id and counting the number of ratings for each movie\n",
    "ratings_per_movie = ratings.groupby('movie_id').size()\n",
    "\n",
    "# Plotting the distribution of reviews per movie\n",
    "plt.figure(figsize=(10, 6))\n",
    "plt.hist(ratings_per_movie, bins=200, color='skyblue', edgecolor='black')\n",
    "plt.title('Distribution of Reviews per Movie')\n",
    "plt.xlabel('Number of Reviews')\n",
    "plt.ylabel('Frequency')\n",
    "plt.grid(True)\n",
    "plt.show()"
   ]
  },
  {
   "cell_type": "markdown",
   "id": "e6e2e1a8",
   "metadata": {
    "id": "e6e2e1a8"
   },
   "source": [
    "As we can see this is greatly skewed right, we will probably set a threshold so that we do not have to deal with so many nulls (even though SVD should make this easier).\n",
    "\n",
    "**Note that there are approximately 286k movies in our dataset as is.**"
   ]
  },
  {
   "cell_type": "code",
   "execution_count": null,
   "id": "c1781809",
   "metadata": {
    "id": "c1781809",
    "outputId": "7921accd-ae7c-4bfc-f331-3c89bf94acb4",
    "scrolled": false
   },
   "outputs": [
    {
     "data": {
      "text/plain": [
       "286070"
      ]
     },
     "execution_count": 6,
     "metadata": {},
     "output_type": "execute_result"
    }
   ],
   "source": [
    "ratings['movie_id'].nunique()"
   ]
  },
  {
   "cell_type": "code",
   "execution_count": null,
   "id": "f79f8c3a",
   "metadata": {
    "id": "f79f8c3a",
    "outputId": "b0e4ce5a-7be5-4770-9850-75f98f25554b"
   },
   "outputs": [
    {
     "data": {
      "text/plain": [
       "7477"
      ]
     },
     "execution_count": 102,
     "metadata": {},
     "output_type": "execute_result"
    }
   ],
   "source": [
    "#unique users in our dataset\n",
    "ratings['user_id'].nunique()"
   ]
  },
  {
   "cell_type": "markdown",
   "id": "91683bc8",
   "metadata": {
    "id": "91683bc8"
   },
   "source": [
    "**Note:** On the content based reccomendation side we set a minimum threshold of 400 votes to be considered. \n",
    "\n",
    "Since we have over 11 million ratings lets set a higher threshold for computation purposes, lets see what a threshold of 1500 would look like."
   ]
  },
  {
   "cell_type": "code",
   "execution_count": 25,
   "id": "1ceee856",
   "metadata": {
    "id": "1ceee856"
   },
   "outputs": [],
   "source": [
    "threshold = 1500\n",
    "\n",
    "# Grouping by movie_id and counting the number of ratings for each movie\n",
    "movie_ratings_count = ratings.groupby('movie_id').size()\n",
    "\n",
    "# Filtering movies meeting the threshold value of ratings\n",
    "popular_movies = movie_ratings_count[movie_ratings_count >= threshold]\n",
    "\n",
    "# Extracting the movie IDs that meet the criteria\n",
    "popular_movie_ids = popular_movies.index.tolist()\n",
    "\n",
    "# Filtering the original DataFrame for movies with at least 400 ratings\n",
    "ratings_min = ratings[ratings['movie_id'].isin(popular_movie_ids)]"
   ]
  },
  {
   "cell_type": "code",
   "execution_count": 7,
   "id": "b34dcb6e",
   "metadata": {
    "colab": {
     "base_uri": "https://localhost:8080/",
     "height": 206
    },
    "id": "b34dcb6e",
    "outputId": "96f3d7f5-5280-4342-fedc-e0b979ca4437",
    "scrolled": false
   },
   "outputs": [
    {
     "data": {
      "text/html": [
       "\n",
       "  <div id=\"df-8aa9611f-e614-4091-b5cf-1fd518ee0bfa\" class=\"colab-df-container\">\n",
       "    <div>\n",
       "<style scoped>\n",
       "    .dataframe tbody tr th:only-of-type {\n",
       "        vertical-align: middle;\n",
       "    }\n",
       "\n",
       "    .dataframe tbody tr th {\n",
       "        vertical-align: top;\n",
       "    }\n",
       "\n",
       "    .dataframe thead th {\n",
       "        text-align: right;\n",
       "    }\n",
       "</style>\n",
       "<table border=\"1\" class=\"dataframe\">\n",
       "  <thead>\n",
       "    <tr style=\"text-align: right;\">\n",
       "      <th></th>\n",
       "      <th>_id</th>\n",
       "      <th>movie_id</th>\n",
       "      <th>rating_val</th>\n",
       "      <th>user_id</th>\n",
       "    </tr>\n",
       "  </thead>\n",
       "  <tbody>\n",
       "    <tr>\n",
       "      <th>4</th>\n",
       "      <td>5fc57c5c6758f69634519398</td>\n",
       "      <td>mank</td>\n",
       "      <td>5</td>\n",
       "      <td>deathproof</td>\n",
       "    </tr>\n",
       "    <tr>\n",
       "      <th>6</th>\n",
       "      <td>5fc57c5d6758f6963451a172</td>\n",
       "      <td>the-social-network</td>\n",
       "      <td>10</td>\n",
       "      <td>deathproof</td>\n",
       "    </tr>\n",
       "    <tr>\n",
       "      <th>8</th>\n",
       "      <td>5fc57c5d6758f6963451a0a0</td>\n",
       "      <td>saw-iii</td>\n",
       "      <td>7</td>\n",
       "      <td>deathproof</td>\n",
       "    </tr>\n",
       "    <tr>\n",
       "      <th>10</th>\n",
       "      <td>5fc57c5d6758f6963451a0e0</td>\n",
       "      <td>the-girl-on-the-train-2016</td>\n",
       "      <td>8</td>\n",
       "      <td>deathproof</td>\n",
       "    </tr>\n",
       "    <tr>\n",
       "      <th>11</th>\n",
       "      <td>5fc57c5d6758f6963451a11d</td>\n",
       "      <td>yes-man</td>\n",
       "      <td>6</td>\n",
       "      <td>deathproof</td>\n",
       "    </tr>\n",
       "  </tbody>\n",
       "</table>\n",
       "</div>\n",
       "    <div class=\"colab-df-buttons\">\n",
       "\n",
       "  <div class=\"colab-df-container\">\n",
       "    <button class=\"colab-df-convert\" onclick=\"convertToInteractive('df-8aa9611f-e614-4091-b5cf-1fd518ee0bfa')\"\n",
       "            title=\"Convert this dataframe to an interactive table.\"\n",
       "            style=\"display:none;\">\n",
       "\n",
       "  <svg xmlns=\"http://www.w3.org/2000/svg\" height=\"24px\" viewBox=\"0 -960 960 960\">\n",
       "    <path d=\"M120-120v-720h720v720H120Zm60-500h600v-160H180v160Zm220 220h160v-160H400v160Zm0 220h160v-160H400v160ZM180-400h160v-160H180v160Zm440 0h160v-160H620v160ZM180-180h160v-160H180v160Zm440 0h160v-160H620v160Z\"/>\n",
       "  </svg>\n",
       "    </button>\n",
       "\n",
       "  <style>\n",
       "    .colab-df-container {\n",
       "      display:flex;\n",
       "      gap: 12px;\n",
       "    }\n",
       "\n",
       "    .colab-df-convert {\n",
       "      background-color: #E8F0FE;\n",
       "      border: none;\n",
       "      border-radius: 50%;\n",
       "      cursor: pointer;\n",
       "      display: none;\n",
       "      fill: #1967D2;\n",
       "      height: 32px;\n",
       "      padding: 0 0 0 0;\n",
       "      width: 32px;\n",
       "    }\n",
       "\n",
       "    .colab-df-convert:hover {\n",
       "      background-color: #E2EBFA;\n",
       "      box-shadow: 0px 1px 2px rgba(60, 64, 67, 0.3), 0px 1px 3px 1px rgba(60, 64, 67, 0.15);\n",
       "      fill: #174EA6;\n",
       "    }\n",
       "\n",
       "    .colab-df-buttons div {\n",
       "      margin-bottom: 4px;\n",
       "    }\n",
       "\n",
       "    [theme=dark] .colab-df-convert {\n",
       "      background-color: #3B4455;\n",
       "      fill: #D2E3FC;\n",
       "    }\n",
       "\n",
       "    [theme=dark] .colab-df-convert:hover {\n",
       "      background-color: #434B5C;\n",
       "      box-shadow: 0px 1px 3px 1px rgba(0, 0, 0, 0.15);\n",
       "      filter: drop-shadow(0px 1px 2px rgba(0, 0, 0, 0.3));\n",
       "      fill: #FFFFFF;\n",
       "    }\n",
       "  </style>\n",
       "\n",
       "    <script>\n",
       "      const buttonEl =\n",
       "        document.querySelector('#df-8aa9611f-e614-4091-b5cf-1fd518ee0bfa button.colab-df-convert');\n",
       "      buttonEl.style.display =\n",
       "        google.colab.kernel.accessAllowed ? 'block' : 'none';\n",
       "\n",
       "      async function convertToInteractive(key) {\n",
       "        const element = document.querySelector('#df-8aa9611f-e614-4091-b5cf-1fd518ee0bfa');\n",
       "        const dataTable =\n",
       "          await google.colab.kernel.invokeFunction('convertToInteractive',\n",
       "                                                    [key], {});\n",
       "        if (!dataTable) return;\n",
       "\n",
       "        const docLinkHtml = 'Like what you see? Visit the ' +\n",
       "          '<a target=\"_blank\" href=https://colab.research.google.com/notebooks/data_table.ipynb>data table notebook</a>'\n",
       "          + ' to learn more about interactive tables.';\n",
       "        element.innerHTML = '';\n",
       "        dataTable['output_type'] = 'display_data';\n",
       "        await google.colab.output.renderOutput(dataTable, element);\n",
       "        const docLink = document.createElement('div');\n",
       "        docLink.innerHTML = docLinkHtml;\n",
       "        element.appendChild(docLink);\n",
       "      }\n",
       "    </script>\n",
       "  </div>\n",
       "\n",
       "\n",
       "<div id=\"df-378db9a1-d342-4b3f-b379-8d441efc34ff\">\n",
       "  <button class=\"colab-df-quickchart\" onclick=\"quickchart('df-378db9a1-d342-4b3f-b379-8d441efc34ff')\"\n",
       "            title=\"Suggest charts\"\n",
       "            style=\"display:none;\">\n",
       "\n",
       "<svg xmlns=\"http://www.w3.org/2000/svg\" height=\"24px\"viewBox=\"0 0 24 24\"\n",
       "     width=\"24px\">\n",
       "    <g>\n",
       "        <path d=\"M19 3H5c-1.1 0-2 .9-2 2v14c0 1.1.9 2 2 2h14c1.1 0 2-.9 2-2V5c0-1.1-.9-2-2-2zM9 17H7v-7h2v7zm4 0h-2V7h2v10zm4 0h-2v-4h2v4z\"/>\n",
       "    </g>\n",
       "</svg>\n",
       "  </button>\n",
       "\n",
       "<style>\n",
       "  .colab-df-quickchart {\n",
       "      --bg-color: #E8F0FE;\n",
       "      --fill-color: #1967D2;\n",
       "      --hover-bg-color: #E2EBFA;\n",
       "      --hover-fill-color: #174EA6;\n",
       "      --disabled-fill-color: #AAA;\n",
       "      --disabled-bg-color: #DDD;\n",
       "  }\n",
       "\n",
       "  [theme=dark] .colab-df-quickchart {\n",
       "      --bg-color: #3B4455;\n",
       "      --fill-color: #D2E3FC;\n",
       "      --hover-bg-color: #434B5C;\n",
       "      --hover-fill-color: #FFFFFF;\n",
       "      --disabled-bg-color: #3B4455;\n",
       "      --disabled-fill-color: #666;\n",
       "  }\n",
       "\n",
       "  .colab-df-quickchart {\n",
       "    background-color: var(--bg-color);\n",
       "    border: none;\n",
       "    border-radius: 50%;\n",
       "    cursor: pointer;\n",
       "    display: none;\n",
       "    fill: var(--fill-color);\n",
       "    height: 32px;\n",
       "    padding: 0;\n",
       "    width: 32px;\n",
       "  }\n",
       "\n",
       "  .colab-df-quickchart:hover {\n",
       "    background-color: var(--hover-bg-color);\n",
       "    box-shadow: 0 1px 2px rgba(60, 64, 67, 0.3), 0 1px 3px 1px rgba(60, 64, 67, 0.15);\n",
       "    fill: var(--button-hover-fill-color);\n",
       "  }\n",
       "\n",
       "  .colab-df-quickchart-complete:disabled,\n",
       "  .colab-df-quickchart-complete:disabled:hover {\n",
       "    background-color: var(--disabled-bg-color);\n",
       "    fill: var(--disabled-fill-color);\n",
       "    box-shadow: none;\n",
       "  }\n",
       "\n",
       "  .colab-df-spinner {\n",
       "    border: 2px solid var(--fill-color);\n",
       "    border-color: transparent;\n",
       "    border-bottom-color: var(--fill-color);\n",
       "    animation:\n",
       "      spin 1s steps(1) infinite;\n",
       "  }\n",
       "\n",
       "  @keyframes spin {\n",
       "    0% {\n",
       "      border-color: transparent;\n",
       "      border-bottom-color: var(--fill-color);\n",
       "      border-left-color: var(--fill-color);\n",
       "    }\n",
       "    20% {\n",
       "      border-color: transparent;\n",
       "      border-left-color: var(--fill-color);\n",
       "      border-top-color: var(--fill-color);\n",
       "    }\n",
       "    30% {\n",
       "      border-color: transparent;\n",
       "      border-left-color: var(--fill-color);\n",
       "      border-top-color: var(--fill-color);\n",
       "      border-right-color: var(--fill-color);\n",
       "    }\n",
       "    40% {\n",
       "      border-color: transparent;\n",
       "      border-right-color: var(--fill-color);\n",
       "      border-top-color: var(--fill-color);\n",
       "    }\n",
       "    60% {\n",
       "      border-color: transparent;\n",
       "      border-right-color: var(--fill-color);\n",
       "    }\n",
       "    80% {\n",
       "      border-color: transparent;\n",
       "      border-right-color: var(--fill-color);\n",
       "      border-bottom-color: var(--fill-color);\n",
       "    }\n",
       "    90% {\n",
       "      border-color: transparent;\n",
       "      border-bottom-color: var(--fill-color);\n",
       "    }\n",
       "  }\n",
       "</style>\n",
       "\n",
       "  <script>\n",
       "    async function quickchart(key) {\n",
       "      const quickchartButtonEl =\n",
       "        document.querySelector('#' + key + ' button');\n",
       "      quickchartButtonEl.disabled = true;  // To prevent multiple clicks.\n",
       "      quickchartButtonEl.classList.add('colab-df-spinner');\n",
       "      try {\n",
       "        const charts = await google.colab.kernel.invokeFunction(\n",
       "            'suggestCharts', [key], {});\n",
       "      } catch (error) {\n",
       "        console.error('Error during call to suggestCharts:', error);\n",
       "      }\n",
       "      quickchartButtonEl.classList.remove('colab-df-spinner');\n",
       "      quickchartButtonEl.classList.add('colab-df-quickchart-complete');\n",
       "    }\n",
       "    (() => {\n",
       "      let quickchartButtonEl =\n",
       "        document.querySelector('#df-378db9a1-d342-4b3f-b379-8d441efc34ff button');\n",
       "      quickchartButtonEl.style.display =\n",
       "        google.colab.kernel.accessAllowed ? 'block' : 'none';\n",
       "    })();\n",
       "  </script>\n",
       "</div>\n",
       "\n",
       "    </div>\n",
       "  </div>\n"
      ],
      "text/plain": [
       "                         _id                    movie_id  rating_val  \\\n",
       "4   5fc57c5c6758f69634519398                        mank           5   \n",
       "6   5fc57c5d6758f6963451a172          the-social-network          10   \n",
       "8   5fc57c5d6758f6963451a0a0                     saw-iii           7   \n",
       "10  5fc57c5d6758f6963451a0e0  the-girl-on-the-train-2016           8   \n",
       "11  5fc57c5d6758f6963451a11d                     yes-man           6   \n",
       "\n",
       "       user_id  \n",
       "4   deathproof  \n",
       "6   deathproof  \n",
       "8   deathproof  \n",
       "10  deathproof  \n",
       "11  deathproof  "
      ]
     },
     "execution_count": 7,
     "metadata": {},
     "output_type": "execute_result"
    }
   ],
   "source": [
    "#sanity check\n",
    "ratings_min.head()"
   ]
  },
  {
   "cell_type": "code",
   "execution_count": 4,
   "id": "6519d6a3",
   "metadata": {
    "id": "6519d6a3",
    "outputId": "9415d5f6-47bd-4ddd-915c-f9bb94314c18",
    "scrolled": true
   },
   "outputs": [
    {
     "data": {
      "text/plain": [
       "(3583886, 4)"
      ]
     },
     "execution_count": 4,
     "metadata": {},
     "output_type": "execute_result"
    }
   ],
   "source": [
    "#shape of new ratings dataset with threshold\n",
    "ratings_min.shape"
   ]
  },
  {
   "cell_type": "code",
   "execution_count": 5,
   "id": "6e8fe37f",
   "metadata": {
    "colab": {
     "base_uri": "https://localhost:8080/"
    },
    "id": "6e8fe37f",
    "outputId": "caa016ea-9db6-4dfd-dd47-220037e74296",
    "scrolled": false
   },
   "outputs": [
    {
     "data": {
      "text/plain": [
       "1434"
      ]
     },
     "execution_count": 5,
     "metadata": {},
     "output_type": "execute_result"
    }
   ],
   "source": [
    "#number of movies in our new df\n",
    "ratings_min['movie_id'].nunique()"
   ]
  },
  {
   "cell_type": "code",
   "execution_count": 6,
   "id": "1b8f48fb",
   "metadata": {
    "colab": {
     "base_uri": "https://localhost:8080/"
    },
    "id": "1b8f48fb",
    "outputId": "30768ac7-4932-4541-ebac-bb99e5af67dd"
   },
   "outputs": [
    {
     "data": {
      "text/plain": [
       "7454"
      ]
     },
     "execution_count": 6,
     "metadata": {},
     "output_type": "execute_result"
    }
   ],
   "source": [
    "#number of users in our new df\n",
    "ratings_min['user_id'].nunique()"
   ]
  },
  {
   "cell_type": "code",
   "execution_count": 8,
   "id": "64281bcf",
   "metadata": {
    "colab": {
     "base_uri": "https://localhost:8080/"
    },
    "id": "64281bcf",
    "outputId": "cbfdc8cc-c56e-4513-95c6-9782f87589fd",
    "scrolled": true
   },
   "outputs": [
    {
     "name": "stdout",
     "output_type": "stream",
     "text": [
      "Percentage of ratings: 32.35089342848867, Percentage of movies: 0.5012759114901947\n"
     ]
    }
   ],
   "source": [
    "#Percent of ratings from original ratings df\n",
    "threshold_effect_ratings = 100 * ratings_min.shape[0]/ratings.shape[0]\n",
    "\n",
    "#Percent of movies from original ratings df\n",
    "threshold_effect_movies = 100 * ratings_min['movie_id'].nunique()/ratings['movie_id'].nunique()\n",
    "\n",
    "print(f\"Percentage of ratings: {threshold_effect_ratings}, Percentage of movies: {threshold_effect_movies}\")"
   ]
  },
  {
   "cell_type": "markdown",
   "id": "b32d631d",
   "metadata": {
    "id": "b32d631d"
   },
   "source": [
    "Though we only kept a mere 0.5% of our orignal 286k movies (1434 movies), we kept a whopping 32.35% of our ~11 million ratings (3,583,886 ratings). \n",
    "\n",
    "I am comfortable keeping our Threshold as is for now including only movies with a minimum of 1500 ratings. \n",
    "\n",
    "\n",
    "## User-Movie Matrix\n",
    "Lets build a utility matrix now:\n"
   ]
  },
  {
   "cell_type": "code",
   "execution_count": null,
   "id": "3d1cf7b4",
   "metadata": {
    "id": "3d1cf7b4"
   },
   "outputs": [],
   "source": [
    "# Create a user-item matrix (assuming unique users and movies)\n",
    "users = ratings_min['user_id'].unique()\n",
    "movies = ratings_min['movie_id'].unique()\n",
    "\n",
    "num_users = len(users)\n",
    "num_movies = len(movies)\n",
    "\n",
    "# np.nan means they user has not reviewed the movie\n",
    "R = np.full((num_users, num_movies), np.nan)\n",
    "\n",
    "# Build the user-item matrix\n",
    "for row in ratings_min.itertuples():\n",
    "    user = np.where(users == row.user_id)[0][0]  # Index of user\n",
    "    movie = np.where(movies == row.movie_id)[0][0]  # Index of movie\n",
    "    rating = row.rating_val\n",
    "\n",
    "    R[user, movie] = rating\n",
    "\n",
    "R_df = pd.DataFrame(data=R, index=users, columns=movies)"
   ]
  },
  {
   "cell_type": "code",
   "execution_count": null,
   "id": "fff890e4",
   "metadata": {
    "id": "fff890e4",
    "outputId": "c9ea53b5-2a89-4df5-edec-fe462826bc5e",
    "scrolled": true
   },
   "outputs": [
    {
     "data": {
      "text/html": [
       "<div>\n",
       "<style scoped>\n",
       "    .dataframe tbody tr th:only-of-type {\n",
       "        vertical-align: middle;\n",
       "    }\n",
       "\n",
       "    .dataframe tbody tr th {\n",
       "        vertical-align: top;\n",
       "    }\n",
       "\n",
       "    .dataframe thead th {\n",
       "        text-align: right;\n",
       "    }\n",
       "</style>\n",
       "<table border=\"1\" class=\"dataframe\">\n",
       "  <thead>\n",
       "    <tr style=\"text-align: right;\">\n",
       "      <th></th>\n",
       "      <th>mank</th>\n",
       "      <th>the-social-network</th>\n",
       "      <th>saw-iii</th>\n",
       "      <th>the-girl-on-the-train-2016</th>\n",
       "      <th>yes-man</th>\n",
       "      <th>insidious</th>\n",
       "      <th>nerve-2016</th>\n",
       "      <th>mud</th>\n",
       "      <th>hush-2016</th>\n",
       "      <th>deadpool</th>\n",
       "      <th>...</th>\n",
       "      <th>eternals</th>\n",
       "      <th>malignant-2021</th>\n",
       "      <th>squid-game</th>\n",
       "      <th>licorice-pizza</th>\n",
       "      <th>house-of-gucci</th>\n",
       "      <th>tick-tick-boom-2021</th>\n",
       "      <th>encanto</th>\n",
       "      <th>nightmare-alley-2021</th>\n",
       "      <th>ex-machina-2015</th>\n",
       "      <th>scream-2022</th>\n",
       "    </tr>\n",
       "  </thead>\n",
       "  <tbody>\n",
       "    <tr>\n",
       "      <th>deathproof</th>\n",
       "      <td>5.0</td>\n",
       "      <td>10.0</td>\n",
       "      <td>7.0</td>\n",
       "      <td>8.0</td>\n",
       "      <td>6.0</td>\n",
       "      <td>10.0</td>\n",
       "      <td>7.0</td>\n",
       "      <td>4.0</td>\n",
       "      <td>8.0</td>\n",
       "      <td>5.0</td>\n",
       "      <td>...</td>\n",
       "      <td>6.0</td>\n",
       "      <td>8.0</td>\n",
       "      <td>NaN</td>\n",
       "      <td>7.0</td>\n",
       "      <td>NaN</td>\n",
       "      <td>NaN</td>\n",
       "      <td>NaN</td>\n",
       "      <td>6.0</td>\n",
       "      <td>9.0</td>\n",
       "      <td>7.0</td>\n",
       "    </tr>\n",
       "    <tr>\n",
       "      <th>kurstboy</th>\n",
       "      <td>6.0</td>\n",
       "      <td>10.0</td>\n",
       "      <td>NaN</td>\n",
       "      <td>NaN</td>\n",
       "      <td>NaN</td>\n",
       "      <td>NaN</td>\n",
       "      <td>NaN</td>\n",
       "      <td>NaN</td>\n",
       "      <td>NaN</td>\n",
       "      <td>5.0</td>\n",
       "      <td>...</td>\n",
       "      <td>NaN</td>\n",
       "      <td>7.0</td>\n",
       "      <td>NaN</td>\n",
       "      <td>8.0</td>\n",
       "      <td>7.0</td>\n",
       "      <td>8.0</td>\n",
       "      <td>7.0</td>\n",
       "      <td>8.0</td>\n",
       "      <td>9.0</td>\n",
       "      <td>NaN</td>\n",
       "    </tr>\n",
       "    <tr>\n",
       "      <th>davidehrlich</th>\n",
       "      <td>8.0</td>\n",
       "      <td>10.0</td>\n",
       "      <td>NaN</td>\n",
       "      <td>3.0</td>\n",
       "      <td>NaN</td>\n",
       "      <td>NaN</td>\n",
       "      <td>7.0</td>\n",
       "      <td>NaN</td>\n",
       "      <td>NaN</td>\n",
       "      <td>3.0</td>\n",
       "      <td>...</td>\n",
       "      <td>5.0</td>\n",
       "      <td>NaN</td>\n",
       "      <td>NaN</td>\n",
       "      <td>10.0</td>\n",
       "      <td>7.0</td>\n",
       "      <td>7.0</td>\n",
       "      <td>NaN</td>\n",
       "      <td>7.0</td>\n",
       "      <td>6.0</td>\n",
       "      <td>NaN</td>\n",
       "    </tr>\n",
       "    <tr>\n",
       "      <th>adrianbalboa</th>\n",
       "      <td>8.0</td>\n",
       "      <td>10.0</td>\n",
       "      <td>7.0</td>\n",
       "      <td>7.0</td>\n",
       "      <td>NaN</td>\n",
       "      <td>NaN</td>\n",
       "      <td>5.0</td>\n",
       "      <td>8.0</td>\n",
       "      <td>8.0</td>\n",
       "      <td>7.0</td>\n",
       "      <td>...</td>\n",
       "      <td>NaN</td>\n",
       "      <td>NaN</td>\n",
       "      <td>NaN</td>\n",
       "      <td>NaN</td>\n",
       "      <td>NaN</td>\n",
       "      <td>NaN</td>\n",
       "      <td>NaN</td>\n",
       "      <td>NaN</td>\n",
       "      <td>NaN</td>\n",
       "      <td>NaN</td>\n",
       "    </tr>\n",
       "    <tr>\n",
       "      <th>ingridgoeswest</th>\n",
       "      <td>NaN</td>\n",
       "      <td>10.0</td>\n",
       "      <td>NaN</td>\n",
       "      <td>1.0</td>\n",
       "      <td>4.0</td>\n",
       "      <td>9.0</td>\n",
       "      <td>7.0</td>\n",
       "      <td>9.0</td>\n",
       "      <td>7.0</td>\n",
       "      <td>7.0</td>\n",
       "      <td>...</td>\n",
       "      <td>NaN</td>\n",
       "      <td>9.0</td>\n",
       "      <td>NaN</td>\n",
       "      <td>7.0</td>\n",
       "      <td>7.0</td>\n",
       "      <td>NaN</td>\n",
       "      <td>NaN</td>\n",
       "      <td>7.0</td>\n",
       "      <td>10.0</td>\n",
       "      <td>NaN</td>\n",
       "    </tr>\n",
       "    <tr>\n",
       "      <th>...</th>\n",
       "      <td>...</td>\n",
       "      <td>...</td>\n",
       "      <td>...</td>\n",
       "      <td>...</td>\n",
       "      <td>...</td>\n",
       "      <td>...</td>\n",
       "      <td>...</td>\n",
       "      <td>...</td>\n",
       "      <td>...</td>\n",
       "      <td>...</td>\n",
       "      <td>...</td>\n",
       "      <td>...</td>\n",
       "      <td>...</td>\n",
       "      <td>...</td>\n",
       "      <td>...</td>\n",
       "      <td>...</td>\n",
       "      <td>...</td>\n",
       "      <td>...</td>\n",
       "      <td>...</td>\n",
       "      <td>...</td>\n",
       "      <td>...</td>\n",
       "    </tr>\n",
       "    <tr>\n",
       "      <th>mateazember</th>\n",
       "      <td>NaN</td>\n",
       "      <td>NaN</td>\n",
       "      <td>NaN</td>\n",
       "      <td>NaN</td>\n",
       "      <td>NaN</td>\n",
       "      <td>NaN</td>\n",
       "      <td>NaN</td>\n",
       "      <td>NaN</td>\n",
       "      <td>NaN</td>\n",
       "      <td>NaN</td>\n",
       "      <td>...</td>\n",
       "      <td>NaN</td>\n",
       "      <td>NaN</td>\n",
       "      <td>NaN</td>\n",
       "      <td>NaN</td>\n",
       "      <td>NaN</td>\n",
       "      <td>NaN</td>\n",
       "      <td>2.0</td>\n",
       "      <td>NaN</td>\n",
       "      <td>NaN</td>\n",
       "      <td>NaN</td>\n",
       "    </tr>\n",
       "    <tr>\n",
       "      <th>finnvor1</th>\n",
       "      <td>NaN</td>\n",
       "      <td>NaN</td>\n",
       "      <td>NaN</td>\n",
       "      <td>NaN</td>\n",
       "      <td>NaN</td>\n",
       "      <td>NaN</td>\n",
       "      <td>NaN</td>\n",
       "      <td>NaN</td>\n",
       "      <td>NaN</td>\n",
       "      <td>NaN</td>\n",
       "      <td>...</td>\n",
       "      <td>NaN</td>\n",
       "      <td>NaN</td>\n",
       "      <td>NaN</td>\n",
       "      <td>10.0</td>\n",
       "      <td>NaN</td>\n",
       "      <td>10.0</td>\n",
       "      <td>NaN</td>\n",
       "      <td>NaN</td>\n",
       "      <td>8.0</td>\n",
       "      <td>NaN</td>\n",
       "    </tr>\n",
       "    <tr>\n",
       "      <th>daniel</th>\n",
       "      <td>6.0</td>\n",
       "      <td>8.0</td>\n",
       "      <td>5.0</td>\n",
       "      <td>6.0</td>\n",
       "      <td>NaN</td>\n",
       "      <td>6.0</td>\n",
       "      <td>6.0</td>\n",
       "      <td>NaN</td>\n",
       "      <td>6.0</td>\n",
       "      <td>7.0</td>\n",
       "      <td>...</td>\n",
       "      <td>4.0</td>\n",
       "      <td>7.0</td>\n",
       "      <td>NaN</td>\n",
       "      <td>NaN</td>\n",
       "      <td>NaN</td>\n",
       "      <td>NaN</td>\n",
       "      <td>NaN</td>\n",
       "      <td>7.0</td>\n",
       "      <td>8.0</td>\n",
       "      <td>NaN</td>\n",
       "    </tr>\n",
       "    <tr>\n",
       "      <th>butterflyfilms</th>\n",
       "      <td>8.0</td>\n",
       "      <td>NaN</td>\n",
       "      <td>7.0</td>\n",
       "      <td>NaN</td>\n",
       "      <td>6.0</td>\n",
       "      <td>NaN</td>\n",
       "      <td>NaN</td>\n",
       "      <td>NaN</td>\n",
       "      <td>NaN</td>\n",
       "      <td>8.0</td>\n",
       "      <td>...</td>\n",
       "      <td>6.0</td>\n",
       "      <td>NaN</td>\n",
       "      <td>6.0</td>\n",
       "      <td>NaN</td>\n",
       "      <td>NaN</td>\n",
       "      <td>NaN</td>\n",
       "      <td>5.0</td>\n",
       "      <td>NaN</td>\n",
       "      <td>NaN</td>\n",
       "      <td>NaN</td>\n",
       "    </tr>\n",
       "    <tr>\n",
       "      <th>poellnerson</th>\n",
       "      <td>6.0</td>\n",
       "      <td>8.0</td>\n",
       "      <td>4.0</td>\n",
       "      <td>NaN</td>\n",
       "      <td>5.0</td>\n",
       "      <td>3.0</td>\n",
       "      <td>5.0</td>\n",
       "      <td>NaN</td>\n",
       "      <td>7.0</td>\n",
       "      <td>7.0</td>\n",
       "      <td>...</td>\n",
       "      <td>4.0</td>\n",
       "      <td>NaN</td>\n",
       "      <td>7.0</td>\n",
       "      <td>7.0</td>\n",
       "      <td>6.0</td>\n",
       "      <td>7.0</td>\n",
       "      <td>6.0</td>\n",
       "      <td>7.0</td>\n",
       "      <td>NaN</td>\n",
       "      <td>NaN</td>\n",
       "    </tr>\n",
       "  </tbody>\n",
       "</table>\n",
       "<p>7454 rows × 1434 columns</p>\n",
       "</div>"
      ],
      "text/plain": [
       "                mank  the-social-network  saw-iii  the-girl-on-the-train-2016  \\\n",
       "deathproof       5.0                10.0      7.0                         8.0   \n",
       "kurstboy         6.0                10.0      NaN                         NaN   \n",
       "davidehrlich     8.0                10.0      NaN                         3.0   \n",
       "adrianbalboa     8.0                10.0      7.0                         7.0   \n",
       "ingridgoeswest   NaN                10.0      NaN                         1.0   \n",
       "...              ...                 ...      ...                         ...   \n",
       "mateazember      NaN                 NaN      NaN                         NaN   \n",
       "finnvor1         NaN                 NaN      NaN                         NaN   \n",
       "daniel           6.0                 8.0      5.0                         6.0   \n",
       "butterflyfilms   8.0                 NaN      7.0                         NaN   \n",
       "poellnerson      6.0                 8.0      4.0                         NaN   \n",
       "\n",
       "                yes-man  insidious  nerve-2016  mud  hush-2016  deadpool  ...  \\\n",
       "deathproof          6.0       10.0         7.0  4.0        8.0       5.0  ...   \n",
       "kurstboy            NaN        NaN         NaN  NaN        NaN       5.0  ...   \n",
       "davidehrlich        NaN        NaN         7.0  NaN        NaN       3.0  ...   \n",
       "adrianbalboa        NaN        NaN         5.0  8.0        8.0       7.0  ...   \n",
       "ingridgoeswest      4.0        9.0         7.0  9.0        7.0       7.0  ...   \n",
       "...                 ...        ...         ...  ...        ...       ...  ...   \n",
       "mateazember         NaN        NaN         NaN  NaN        NaN       NaN  ...   \n",
       "finnvor1            NaN        NaN         NaN  NaN        NaN       NaN  ...   \n",
       "daniel              NaN        6.0         6.0  NaN        6.0       7.0  ...   \n",
       "butterflyfilms      6.0        NaN         NaN  NaN        NaN       8.0  ...   \n",
       "poellnerson         5.0        3.0         5.0  NaN        7.0       7.0  ...   \n",
       "\n",
       "                eternals  malignant-2021  squid-game  licorice-pizza  \\\n",
       "deathproof           6.0             8.0         NaN             7.0   \n",
       "kurstboy             NaN             7.0         NaN             8.0   \n",
       "davidehrlich         5.0             NaN         NaN            10.0   \n",
       "adrianbalboa         NaN             NaN         NaN             NaN   \n",
       "ingridgoeswest       NaN             9.0         NaN             7.0   \n",
       "...                  ...             ...         ...             ...   \n",
       "mateazember          NaN             NaN         NaN             NaN   \n",
       "finnvor1             NaN             NaN         NaN            10.0   \n",
       "daniel               4.0             7.0         NaN             NaN   \n",
       "butterflyfilms       6.0             NaN         6.0             NaN   \n",
       "poellnerson          4.0             NaN         7.0             7.0   \n",
       "\n",
       "                house-of-gucci  tick-tick-boom-2021  encanto  \\\n",
       "deathproof                 NaN                  NaN      NaN   \n",
       "kurstboy                   7.0                  8.0      7.0   \n",
       "davidehrlich               7.0                  7.0      NaN   \n",
       "adrianbalboa               NaN                  NaN      NaN   \n",
       "ingridgoeswest             7.0                  NaN      NaN   \n",
       "...                        ...                  ...      ...   \n",
       "mateazember                NaN                  NaN      2.0   \n",
       "finnvor1                   NaN                 10.0      NaN   \n",
       "daniel                     NaN                  NaN      NaN   \n",
       "butterflyfilms             NaN                  NaN      5.0   \n",
       "poellnerson                6.0                  7.0      6.0   \n",
       "\n",
       "                nightmare-alley-2021  ex-machina-2015  scream-2022  \n",
       "deathproof                       6.0              9.0          7.0  \n",
       "kurstboy                         8.0              9.0          NaN  \n",
       "davidehrlich                     7.0              6.0          NaN  \n",
       "adrianbalboa                     NaN              NaN          NaN  \n",
       "ingridgoeswest                   7.0             10.0          NaN  \n",
       "...                              ...              ...          ...  \n",
       "mateazember                      NaN              NaN          NaN  \n",
       "finnvor1                         NaN              8.0          NaN  \n",
       "daniel                           7.0              8.0          NaN  \n",
       "butterflyfilms                   NaN              NaN          NaN  \n",
       "poellnerson                      7.0              NaN          NaN  \n",
       "\n",
       "[7454 rows x 1434 columns]"
      ]
     },
     "execution_count": 89,
     "metadata": {},
     "output_type": "execute_result"
    }
   ],
   "source": [
    "R_df"
   ]
  },
  {
   "cell_type": "markdown",
   "id": "9ee03293",
   "metadata": {
    "id": "9ee03293"
   },
   "source": [
    "Wicked! Lets save this as a CSV as it took 45 minutes to run."
   ]
  },
  {
   "cell_type": "code",
   "execution_count": null,
   "id": "2a224e3e",
   "metadata": {
    "id": "2a224e3e"
   },
   "outputs": [],
   "source": [
    "#Saving utility matrix\n",
    "R_df.to_csv('data/R_df_smaller.csv')"
   ]
  },
  {
   "cell_type": "markdown",
   "id": "5ce78409",
   "metadata": {
    "id": "5ce78409"
   },
   "source": [
    "# Matrix Factorization (FunkSVD)\n",
    "Now that we have our User-Item utility matrix, we'll be employing a specific matrix factorization technique known as FunkSVD (short for Funk Singular Value Decomposition). This approach tackles the challenge as an optimization puzzle.\n",
    "\n",
    "Our starting point is a matrix with known data, R, and our goal is to uncover 𝑥 latent variables. The aim is to discover two matrices, 𝑈 and 𝑀, that closely approximate the values already identified in our dataset.\n",
    "\n",
    "First, lets pip install scikit learn's surprise package which we will need:"
   ]
  },
  {
   "cell_type": "code",
   "execution_count": 7,
   "id": "a716e5b8",
   "metadata": {
    "colab": {
     "base_uri": "https://localhost:8080/"
    },
    "id": "a716e5b8",
    "outputId": "d5af5a10-3958-4519-f5a2-cd5f3ba58611",
    "scrolled": true
   },
   "outputs": [
    {
     "name": "stdout",
     "output_type": "stream",
     "text": [
      "Requirement already satisfied: scikit-surprise in /Users/colebeevor-potts/anaconda3/lib/python3.11/site-packages (1.1.3)\n",
      "Requirement already satisfied: joblib>=1.0.0 in /Users/colebeevor-potts/anaconda3/lib/python3.11/site-packages (from scikit-surprise) (1.2.0)\n",
      "Requirement already satisfied: numpy>=1.17.3 in /Users/colebeevor-potts/anaconda3/lib/python3.11/site-packages (from scikit-surprise) (1.24.3)\n",
      "Requirement already satisfied: scipy>=1.3.2 in /Users/colebeevor-potts/anaconda3/lib/python3.11/site-packages (from scikit-surprise) (1.11.3)\n"
     ]
    }
   ],
   "source": [
    "!pip install scikit-surprise"
   ]
  },
  {
   "cell_type": "code",
   "execution_count": 12,
   "id": "ef582956",
   "metadata": {
    "colab": {
     "base_uri": "https://localhost:8080/",
     "height": 206
    },
    "id": "ef582956",
    "outputId": "eeadf485-8add-43c3-c9a2-a0123a028ce4"
   },
   "outputs": [
    {
     "data": {
      "text/html": [
       "\n",
       "  <div id=\"df-f52a90ed-b28b-491e-9a36-1944172f2070\" class=\"colab-df-container\">\n",
       "    <div>\n",
       "<style scoped>\n",
       "    .dataframe tbody tr th:only-of-type {\n",
       "        vertical-align: middle;\n",
       "    }\n",
       "\n",
       "    .dataframe tbody tr th {\n",
       "        vertical-align: top;\n",
       "    }\n",
       "\n",
       "    .dataframe thead th {\n",
       "        text-align: right;\n",
       "    }\n",
       "</style>\n",
       "<table border=\"1\" class=\"dataframe\">\n",
       "  <thead>\n",
       "    <tr style=\"text-align: right;\">\n",
       "      <th></th>\n",
       "      <th>_id</th>\n",
       "      <th>movie_id</th>\n",
       "      <th>rating_val</th>\n",
       "      <th>user_id</th>\n",
       "    </tr>\n",
       "  </thead>\n",
       "  <tbody>\n",
       "    <tr>\n",
       "      <th>4</th>\n",
       "      <td>5fc57c5c6758f69634519398</td>\n",
       "      <td>mank</td>\n",
       "      <td>5</td>\n",
       "      <td>deathproof</td>\n",
       "    </tr>\n",
       "    <tr>\n",
       "      <th>6</th>\n",
       "      <td>5fc57c5d6758f6963451a172</td>\n",
       "      <td>the-social-network</td>\n",
       "      <td>10</td>\n",
       "      <td>deathproof</td>\n",
       "    </tr>\n",
       "    <tr>\n",
       "      <th>8</th>\n",
       "      <td>5fc57c5d6758f6963451a0a0</td>\n",
       "      <td>saw-iii</td>\n",
       "      <td>7</td>\n",
       "      <td>deathproof</td>\n",
       "    </tr>\n",
       "    <tr>\n",
       "      <th>10</th>\n",
       "      <td>5fc57c5d6758f6963451a0e0</td>\n",
       "      <td>the-girl-on-the-train-2016</td>\n",
       "      <td>8</td>\n",
       "      <td>deathproof</td>\n",
       "    </tr>\n",
       "    <tr>\n",
       "      <th>11</th>\n",
       "      <td>5fc57c5d6758f6963451a11d</td>\n",
       "      <td>yes-man</td>\n",
       "      <td>6</td>\n",
       "      <td>deathproof</td>\n",
       "    </tr>\n",
       "  </tbody>\n",
       "</table>\n",
       "</div>\n",
       "    <div class=\"colab-df-buttons\">\n",
       "\n",
       "  <div class=\"colab-df-container\">\n",
       "    <button class=\"colab-df-convert\" onclick=\"convertToInteractive('df-f52a90ed-b28b-491e-9a36-1944172f2070')\"\n",
       "            title=\"Convert this dataframe to an interactive table.\"\n",
       "            style=\"display:none;\">\n",
       "\n",
       "  <svg xmlns=\"http://www.w3.org/2000/svg\" height=\"24px\" viewBox=\"0 -960 960 960\">\n",
       "    <path d=\"M120-120v-720h720v720H120Zm60-500h600v-160H180v160Zm220 220h160v-160H400v160Zm0 220h160v-160H400v160ZM180-400h160v-160H180v160Zm440 0h160v-160H620v160ZM180-180h160v-160H180v160Zm440 0h160v-160H620v160Z\"/>\n",
       "  </svg>\n",
       "    </button>\n",
       "\n",
       "  <style>\n",
       "    .colab-df-container {\n",
       "      display:flex;\n",
       "      gap: 12px;\n",
       "    }\n",
       "\n",
       "    .colab-df-convert {\n",
       "      background-color: #E8F0FE;\n",
       "      border: none;\n",
       "      border-radius: 50%;\n",
       "      cursor: pointer;\n",
       "      display: none;\n",
       "      fill: #1967D2;\n",
       "      height: 32px;\n",
       "      padding: 0 0 0 0;\n",
       "      width: 32px;\n",
       "    }\n",
       "\n",
       "    .colab-df-convert:hover {\n",
       "      background-color: #E2EBFA;\n",
       "      box-shadow: 0px 1px 2px rgba(60, 64, 67, 0.3), 0px 1px 3px 1px rgba(60, 64, 67, 0.15);\n",
       "      fill: #174EA6;\n",
       "    }\n",
       "\n",
       "    .colab-df-buttons div {\n",
       "      margin-bottom: 4px;\n",
       "    }\n",
       "\n",
       "    [theme=dark] .colab-df-convert {\n",
       "      background-color: #3B4455;\n",
       "      fill: #D2E3FC;\n",
       "    }\n",
       "\n",
       "    [theme=dark] .colab-df-convert:hover {\n",
       "      background-color: #434B5C;\n",
       "      box-shadow: 0px 1px 3px 1px rgba(0, 0, 0, 0.15);\n",
       "      filter: drop-shadow(0px 1px 2px rgba(0, 0, 0, 0.3));\n",
       "      fill: #FFFFFF;\n",
       "    }\n",
       "  </style>\n",
       "\n",
       "    <script>\n",
       "      const buttonEl =\n",
       "        document.querySelector('#df-f52a90ed-b28b-491e-9a36-1944172f2070 button.colab-df-convert');\n",
       "      buttonEl.style.display =\n",
       "        google.colab.kernel.accessAllowed ? 'block' : 'none';\n",
       "\n",
       "      async function convertToInteractive(key) {\n",
       "        const element = document.querySelector('#df-f52a90ed-b28b-491e-9a36-1944172f2070');\n",
       "        const dataTable =\n",
       "          await google.colab.kernel.invokeFunction('convertToInteractive',\n",
       "                                                    [key], {});\n",
       "        if (!dataTable) return;\n",
       "\n",
       "        const docLinkHtml = 'Like what you see? Visit the ' +\n",
       "          '<a target=\"_blank\" href=https://colab.research.google.com/notebooks/data_table.ipynb>data table notebook</a>'\n",
       "          + ' to learn more about interactive tables.';\n",
       "        element.innerHTML = '';\n",
       "        dataTable['output_type'] = 'display_data';\n",
       "        await google.colab.output.renderOutput(dataTable, element);\n",
       "        const docLink = document.createElement('div');\n",
       "        docLink.innerHTML = docLinkHtml;\n",
       "        element.appendChild(docLink);\n",
       "      }\n",
       "    </script>\n",
       "  </div>\n",
       "\n",
       "\n",
       "<div id=\"df-605b05b2-01db-42ed-95b2-e6afb34119a5\">\n",
       "  <button class=\"colab-df-quickchart\" onclick=\"quickchart('df-605b05b2-01db-42ed-95b2-e6afb34119a5')\"\n",
       "            title=\"Suggest charts\"\n",
       "            style=\"display:none;\">\n",
       "\n",
       "<svg xmlns=\"http://www.w3.org/2000/svg\" height=\"24px\"viewBox=\"0 0 24 24\"\n",
       "     width=\"24px\">\n",
       "    <g>\n",
       "        <path d=\"M19 3H5c-1.1 0-2 .9-2 2v14c0 1.1.9 2 2 2h14c1.1 0 2-.9 2-2V5c0-1.1-.9-2-2-2zM9 17H7v-7h2v7zm4 0h-2V7h2v10zm4 0h-2v-4h2v4z\"/>\n",
       "    </g>\n",
       "</svg>\n",
       "  </button>\n",
       "\n",
       "<style>\n",
       "  .colab-df-quickchart {\n",
       "      --bg-color: #E8F0FE;\n",
       "      --fill-color: #1967D2;\n",
       "      --hover-bg-color: #E2EBFA;\n",
       "      --hover-fill-color: #174EA6;\n",
       "      --disabled-fill-color: #AAA;\n",
       "      --disabled-bg-color: #DDD;\n",
       "  }\n",
       "\n",
       "  [theme=dark] .colab-df-quickchart {\n",
       "      --bg-color: #3B4455;\n",
       "      --fill-color: #D2E3FC;\n",
       "      --hover-bg-color: #434B5C;\n",
       "      --hover-fill-color: #FFFFFF;\n",
       "      --disabled-bg-color: #3B4455;\n",
       "      --disabled-fill-color: #666;\n",
       "  }\n",
       "\n",
       "  .colab-df-quickchart {\n",
       "    background-color: var(--bg-color);\n",
       "    border: none;\n",
       "    border-radius: 50%;\n",
       "    cursor: pointer;\n",
       "    display: none;\n",
       "    fill: var(--fill-color);\n",
       "    height: 32px;\n",
       "    padding: 0;\n",
       "    width: 32px;\n",
       "  }\n",
       "\n",
       "  .colab-df-quickchart:hover {\n",
       "    background-color: var(--hover-bg-color);\n",
       "    box-shadow: 0 1px 2px rgba(60, 64, 67, 0.3), 0 1px 3px 1px rgba(60, 64, 67, 0.15);\n",
       "    fill: var(--button-hover-fill-color);\n",
       "  }\n",
       "\n",
       "  .colab-df-quickchart-complete:disabled,\n",
       "  .colab-df-quickchart-complete:disabled:hover {\n",
       "    background-color: var(--disabled-bg-color);\n",
       "    fill: var(--disabled-fill-color);\n",
       "    box-shadow: none;\n",
       "  }\n",
       "\n",
       "  .colab-df-spinner {\n",
       "    border: 2px solid var(--fill-color);\n",
       "    border-color: transparent;\n",
       "    border-bottom-color: var(--fill-color);\n",
       "    animation:\n",
       "      spin 1s steps(1) infinite;\n",
       "  }\n",
       "\n",
       "  @keyframes spin {\n",
       "    0% {\n",
       "      border-color: transparent;\n",
       "      border-bottom-color: var(--fill-color);\n",
       "      border-left-color: var(--fill-color);\n",
       "    }\n",
       "    20% {\n",
       "      border-color: transparent;\n",
       "      border-left-color: var(--fill-color);\n",
       "      border-top-color: var(--fill-color);\n",
       "    }\n",
       "    30% {\n",
       "      border-color: transparent;\n",
       "      border-left-color: var(--fill-color);\n",
       "      border-top-color: var(--fill-color);\n",
       "      border-right-color: var(--fill-color);\n",
       "    }\n",
       "    40% {\n",
       "      border-color: transparent;\n",
       "      border-right-color: var(--fill-color);\n",
       "      border-top-color: var(--fill-color);\n",
       "    }\n",
       "    60% {\n",
       "      border-color: transparent;\n",
       "      border-right-color: var(--fill-color);\n",
       "    }\n",
       "    80% {\n",
       "      border-color: transparent;\n",
       "      border-right-color: var(--fill-color);\n",
       "      border-bottom-color: var(--fill-color);\n",
       "    }\n",
       "    90% {\n",
       "      border-color: transparent;\n",
       "      border-bottom-color: var(--fill-color);\n",
       "    }\n",
       "  }\n",
       "</style>\n",
       "\n",
       "  <script>\n",
       "    async function quickchart(key) {\n",
       "      const quickchartButtonEl =\n",
       "        document.querySelector('#' + key + ' button');\n",
       "      quickchartButtonEl.disabled = true;  // To prevent multiple clicks.\n",
       "      quickchartButtonEl.classList.add('colab-df-spinner');\n",
       "      try {\n",
       "        const charts = await google.colab.kernel.invokeFunction(\n",
       "            'suggestCharts', [key], {});\n",
       "      } catch (error) {\n",
       "        console.error('Error during call to suggestCharts:', error);\n",
       "      }\n",
       "      quickchartButtonEl.classList.remove('colab-df-spinner');\n",
       "      quickchartButtonEl.classList.add('colab-df-quickchart-complete');\n",
       "    }\n",
       "    (() => {\n",
       "      let quickchartButtonEl =\n",
       "        document.querySelector('#df-605b05b2-01db-42ed-95b2-e6afb34119a5 button');\n",
       "      quickchartButtonEl.style.display =\n",
       "        google.colab.kernel.accessAllowed ? 'block' : 'none';\n",
       "    })();\n",
       "  </script>\n",
       "</div>\n",
       "\n",
       "    </div>\n",
       "  </div>\n"
      ],
      "text/plain": [
       "                         _id                    movie_id  rating_val  \\\n",
       "4   5fc57c5c6758f69634519398                        mank           5   \n",
       "6   5fc57c5d6758f6963451a172          the-social-network          10   \n",
       "8   5fc57c5d6758f6963451a0a0                     saw-iii           7   \n",
       "10  5fc57c5d6758f6963451a0e0  the-girl-on-the-train-2016           8   \n",
       "11  5fc57c5d6758f6963451a11d                     yes-man           6   \n",
       "\n",
       "       user_id  \n",
       "4   deathproof  \n",
       "6   deathproof  \n",
       "8   deathproof  \n",
       "10  deathproof  \n",
       "11  deathproof  "
      ]
     },
     "execution_count": 12,
     "metadata": {},
     "output_type": "execute_result"
    }
   ],
   "source": [
    "#sanity check\n",
    "ratings_min.head()"
   ]
  },
  {
   "cell_type": "markdown",
   "id": "81fda351",
   "metadata": {},
   "source": [
    "Since we are using funk SVD we need to sort our users. It will identify them by the order it sees them, therefor they do not need to be numerical values. However, it is best practiec to sort our users and our items in order, lets do that now:"
   ]
  },
  {
   "cell_type": "code",
   "execution_count": 10,
   "id": "5a9ee006",
   "metadata": {
    "colab": {
     "base_uri": "https://localhost:8080/",
     "height": 206
    },
    "id": "5a9ee006",
    "outputId": "0b7069bf-803a-46d6-82a6-65d4ae1f58a3",
    "scrolled": true
   },
   "outputs": [
    {
     "data": {
      "text/html": [
       "<div>\n",
       "<style scoped>\n",
       "    .dataframe tbody tr th:only-of-type {\n",
       "        vertical-align: middle;\n",
       "    }\n",
       "\n",
       "    .dataframe tbody tr th {\n",
       "        vertical-align: top;\n",
       "    }\n",
       "\n",
       "    .dataframe thead th {\n",
       "        text-align: right;\n",
       "    }\n",
       "</style>\n",
       "<table border=\"1\" class=\"dataframe\">\n",
       "  <thead>\n",
       "    <tr style=\"text-align: right;\">\n",
       "      <th></th>\n",
       "      <th>user_id</th>\n",
       "      <th>movie_id</th>\n",
       "      <th>rating_val</th>\n",
       "    </tr>\n",
       "  </thead>\n",
       "  <tbody>\n",
       "    <tr>\n",
       "      <th>7053274</th>\n",
       "      <td>007filmreviwer</td>\n",
       "      <td>10-cloverfield-lane</td>\n",
       "      <td>8</td>\n",
       "    </tr>\n",
       "    <tr>\n",
       "      <th>7051785</th>\n",
       "      <td>007filmreviwer</td>\n",
       "      <td>10-things-i-hate-about-you</td>\n",
       "      <td>8</td>\n",
       "    </tr>\n",
       "    <tr>\n",
       "      <th>7053160</th>\n",
       "      <td>007filmreviwer</td>\n",
       "      <td>12-angry-men</td>\n",
       "      <td>10</td>\n",
       "    </tr>\n",
       "    <tr>\n",
       "      <th>7052029</th>\n",
       "      <td>007filmreviwer</td>\n",
       "      <td>12-years-a-slave</td>\n",
       "      <td>9</td>\n",
       "    </tr>\n",
       "    <tr>\n",
       "      <th>7053472</th>\n",
       "      <td>007filmreviwer</td>\n",
       "      <td>127-hours</td>\n",
       "      <td>7</td>\n",
       "    </tr>\n",
       "  </tbody>\n",
       "</table>\n",
       "</div>"
      ],
      "text/plain": [
       "                user_id                    movie_id  rating_val\n",
       "7053274  007filmreviwer         10-cloverfield-lane           8\n",
       "7051785  007filmreviwer  10-things-i-hate-about-you           8\n",
       "7053160  007filmreviwer                12-angry-men          10\n",
       "7052029  007filmreviwer            12-years-a-slave           9\n",
       "7053472  007filmreviwer                   127-hours           7"
      ]
     },
     "execution_count": 10,
     "metadata": {},
     "output_type": "execute_result"
    }
   ],
   "source": [
    "#Reformatting our df and dropping _id\n",
    "df = ratings_min[['user_id', 'movie_id', 'rating_val']].copy()\n",
    "\n",
    "#Sorting\n",
    "original_df = df.sort_values(by=['user_id', 'movie_id'])\n",
    "original_df.head()"
   ]
  },
  {
   "cell_type": "code",
   "execution_count": 11,
   "id": "220b91d6",
   "metadata": {
    "id": "220b91d6",
    "outputId": "acbb9994-bd41-4d87-9c21-16bc6132f33d"
   },
   "outputs": [
    {
     "name": "stdout",
     "output_type": "stream",
     "text": [
      "<class 'pandas.core.frame.DataFrame'>\n",
      "Index: 3583886 entries, 7053274 to 592400\n",
      "Data columns (total 3 columns):\n",
      " #   Column      Dtype \n",
      "---  ------      ----- \n",
      " 0   user_id     object\n",
      " 1   movie_id    object\n",
      " 2   rating_val  int64 \n",
      "dtypes: int64(1), object(2)\n",
      "memory usage: 109.4+ MB\n"
     ]
    }
   ],
   "source": [
    "original_df.info()"
   ]
  },
  {
   "cell_type": "markdown",
   "id": "fec2b616",
   "metadata": {
    "id": "fec2b616"
   },
   "source": [
    "Now we will turning our dataframe into a special suprise object called 'Dataset'."
   ]
  },
  {
   "cell_type": "code",
   "execution_count": null,
   "id": "beeac4e5",
   "metadata": {},
   "outputs": [],
   "source": [
    "from surprise import Dataset\n",
    "from surprise.reader import Reader"
   ]
  },
  {
   "cell_type": "code",
   "execution_count": 15,
   "id": "4e82137f",
   "metadata": {
    "id": "4e82137f"
   },
   "outputs": [],
   "source": [
    "#Converting from Pandas df to Surprise object called 'Dataset'\n",
    "my_dataset = Dataset.load_from_df(original_df, Reader(rating_scale=(1, 10)))"
   ]
  },
  {
   "cell_type": "markdown",
   "id": "354df077",
   "metadata": {},
   "source": [
    "Now our data is a Surprise object, as seen below:"
   ]
  },
  {
   "cell_type": "code",
   "execution_count": 16,
   "id": "869b33f2",
   "metadata": {
    "id": "869b33f2",
    "outputId": "fbce7f35-3dd6-4d02-b1ee-5f4167ed6248",
    "scrolled": false
   },
   "outputs": [
    {
     "data": {
      "text/plain": [
       "<surprise.dataset.DatasetAutoFolds at 0x19decaf90>"
      ]
     },
     "execution_count": 16,
     "metadata": {},
     "output_type": "execute_result"
    }
   ],
   "source": [
    "my_dataset"
   ]
  },
  {
   "cell_type": "markdown",
   "id": "413398c1",
   "metadata": {},
   "source": [
    "We can still see the contents of our data by doing .df:"
   ]
  },
  {
   "cell_type": "code",
   "execution_count": 20,
   "id": "1c6e57da",
   "metadata": {},
   "outputs": [
    {
     "data": {
      "text/html": [
       "<div>\n",
       "<style scoped>\n",
       "    .dataframe tbody tr th:only-of-type {\n",
       "        vertical-align: middle;\n",
       "    }\n",
       "\n",
       "    .dataframe tbody tr th {\n",
       "        vertical-align: top;\n",
       "    }\n",
       "\n",
       "    .dataframe thead th {\n",
       "        text-align: right;\n",
       "    }\n",
       "</style>\n",
       "<table border=\"1\" class=\"dataframe\">\n",
       "  <thead>\n",
       "    <tr style=\"text-align: right;\">\n",
       "      <th></th>\n",
       "      <th>user_id</th>\n",
       "      <th>movie_id</th>\n",
       "      <th>rating_val</th>\n",
       "    </tr>\n",
       "  </thead>\n",
       "  <tbody>\n",
       "    <tr>\n",
       "      <th>7053274</th>\n",
       "      <td>007filmreviwer</td>\n",
       "      <td>10-cloverfield-lane</td>\n",
       "      <td>8</td>\n",
       "    </tr>\n",
       "    <tr>\n",
       "      <th>7051785</th>\n",
       "      <td>007filmreviwer</td>\n",
       "      <td>10-things-i-hate-about-you</td>\n",
       "      <td>8</td>\n",
       "    </tr>\n",
       "    <tr>\n",
       "      <th>7053160</th>\n",
       "      <td>007filmreviwer</td>\n",
       "      <td>12-angry-men</td>\n",
       "      <td>10</td>\n",
       "    </tr>\n",
       "    <tr>\n",
       "      <th>7052029</th>\n",
       "      <td>007filmreviwer</td>\n",
       "      <td>12-years-a-slave</td>\n",
       "      <td>9</td>\n",
       "    </tr>\n",
       "    <tr>\n",
       "      <th>7053472</th>\n",
       "      <td>007filmreviwer</td>\n",
       "      <td>127-hours</td>\n",
       "      <td>7</td>\n",
       "    </tr>\n",
       "    <tr>\n",
       "      <th>...</th>\n",
       "      <td>...</td>\n",
       "      <td>...</td>\n",
       "      <td>...</td>\n",
       "    </tr>\n",
       "    <tr>\n",
       "      <th>9800879</th>\n",
       "      <td>zyopy</td>\n",
       "      <td>zola</td>\n",
       "      <td>7</td>\n",
       "    </tr>\n",
       "    <tr>\n",
       "      <th>591656</th>\n",
       "      <td>zyopy</td>\n",
       "      <td>zombieland</td>\n",
       "      <td>10</td>\n",
       "    </tr>\n",
       "    <tr>\n",
       "      <th>591438</th>\n",
       "      <td>zyopy</td>\n",
       "      <td>zombieland-double-tap</td>\n",
       "      <td>8</td>\n",
       "    </tr>\n",
       "    <tr>\n",
       "      <th>592888</th>\n",
       "      <td>zyopy</td>\n",
       "      <td>zoolander</td>\n",
       "      <td>6</td>\n",
       "    </tr>\n",
       "    <tr>\n",
       "      <th>592400</th>\n",
       "      <td>zyopy</td>\n",
       "      <td>zootopia</td>\n",
       "      <td>7</td>\n",
       "    </tr>\n",
       "  </tbody>\n",
       "</table>\n",
       "<p>3583886 rows × 3 columns</p>\n",
       "</div>"
      ],
      "text/plain": [
       "                user_id                    movie_id  rating_val\n",
       "7053274  007filmreviwer         10-cloverfield-lane           8\n",
       "7051785  007filmreviwer  10-things-i-hate-about-you           8\n",
       "7053160  007filmreviwer                12-angry-men          10\n",
       "7052029  007filmreviwer            12-years-a-slave           9\n",
       "7053472  007filmreviwer                   127-hours           7\n",
       "...                 ...                         ...         ...\n",
       "9800879           zyopy                        zola           7\n",
       "591656            zyopy                  zombieland          10\n",
       "591438            zyopy       zombieland-double-tap           8\n",
       "592888            zyopy                   zoolander           6\n",
       "592400            zyopy                    zootopia           7\n",
       "\n",
       "[3583886 rows x 3 columns]"
      ]
     },
     "execution_count": 20,
     "metadata": {},
     "output_type": "execute_result"
    }
   ],
   "source": [
    "#Sanity Check\n",
    "my_dataset.df"
   ]
  },
  {
   "cell_type": "markdown",
   "id": "472db35c",
   "metadata": {
    "id": "472db35c"
   },
   "source": [
    "## Baseline FunkSVD Model\n",
    "Next step is to initialize the FunkSVD algorithm, split into train and test using the surprise library, and then fit and predict using our algorithm.\n",
    "\n",
    "We will use the surprise version of train_test_split. Though in practice we may train on all of the data to maximize our learning of user behaviour, for the scope of this project for my brainstation capstone, we will train test split to put a stronger emphasis on evaluation of how the model is performing on unseen data.\n",
    "\n",
    "We will use a random state of 41 throughout this modelling."
   ]
  },
  {
   "cell_type": "code",
   "execution_count": 39,
   "id": "ee376a20",
   "metadata": {
    "scrolled": false
   },
   "outputs": [
    {
     "name": "stdout",
     "output_type": "stream",
     "text": [
      "RMSE: 1.3550\n"
     ]
    },
    {
     "data": {
      "text/plain": [
       "1.3549780023680686"
      ]
     },
     "execution_count": 39,
     "metadata": {},
     "output_type": "execute_result"
    }
   ],
   "source": [
    "from surprise import accuracy, SVD #Our funk SVD Algoritim and accuracy evaluation\n",
    "from surprise.model_selection import train_test_split\n",
    "\n",
    "# Setting our train test ration to 75-25\n",
    "trainset, testset = train_test_split(my_dataset, test_size=0.25, random_state=41)\n",
    "\n",
    "# We'll use the famous FunkSVD algorithm.\n",
    "my_SVD = SVD(random_state=41)\n",
    "\n",
    "# Train the algorithm on the trainset\n",
    "my_SVD.fit(trainset)\n",
    "\n",
    "#Predict ratings for the testset\n",
    "predictions = my_SVD.test(testset)\n",
    "\n",
    "# Compute RMSE\n",
    "accuracy.rmse(predictions)"
   ]
  },
  {
   "cell_type": "markdown",
   "id": "9ecb1143",
   "metadata": {},
   "source": [
    "# Baseline Results\n",
    "Our baseline model had a RMSE of 1.3550, which seems to be pretty solid. Lets get into what this means.\n",
    "\n",
    "\n",
    "## Predictions\n",
    "We can now make prediction based on the learned representations (latent factors) of both the user and the item within the lower-dimensional space obtained through matrix factorization.\n",
    "\n",
    "Seen above, my_SVD.test() predicts the ratings for these test set interactions based on the trained model. It computes predictions for each user-item pair in the test set, and using the latent factors the model found estimates the ratings that users would give to items they haven't interacted with before.\n",
    "\n",
    "\n",
    "## Evaluation Metrics\n",
    "The main metric we will look at for evaluating our performance will be **RMSE** or Root Mean Square Error, as that is what was the golden metric for the Netflix challenge. \n",
    "\n",
    "It calculates the average difference between predicted and actual values, emphasizing the magnitude of these errors.\n",
    "\n",
    "$$\\sqrt{\\frac{1}{n}\\sum_{ij}(R_{ij}-\\hat R_{ij})^2}$$\n",
    "\n",
    "In the context of Funk SVD, RMSE quantifies how well the model predicts user-item ratings within a recommendation matrix. \n",
    "\n",
    "A **lower RMSE** signifies that the model's predictions align closely with actual ratings, indicating higher accuracy in suggesting item preferences to users.\n",
    "\n",
    "Its appeal lies in simplicity and interpretability. Lower RMSE values imply better performance—closer predictions to actual ratings—making it a widely favored evaluation metric. A lower RMSE is desirable but achieving zero might not always be feasible or necessary, considering the inherent complexity of user preferences.\n",
    "\n",
    "we can also look at some other metrics below:"
   ]
  },
  {
   "cell_type": "markdown",
   "id": "907a3262",
   "metadata": {},
   "source": [
    "**MAE:** (Mean Absolute Error) measures the average of absolute differences between predicted and actual values. Unlike RMSE, it doesn't heavily penalize large errors, making it more robust to outliers."
   ]
  },
  {
   "cell_type": "code",
   "execution_count": 40,
   "id": "f690b983",
   "metadata": {
    "scrolled": true
   },
   "outputs": [
    {
     "name": "stdout",
     "output_type": "stream",
     "text": [
      "MAE: 1.020124238281551\n"
     ]
    }
   ],
   "source": [
    "MAE = accuracy.mae(predictions, verbose=False)\n",
    "\n",
    "print(f\"MAE: {MAE}\")"
   ]
  },
  {
   "cell_type": "markdown",
   "id": "ad664c42",
   "metadata": {},
   "source": [
    "**FCP:** (Fraction of Concordant Pairs) assesses the fraction of correctly ordered pairs in user-item rankings. It measures the likelihood that the model ranks a randomly chosen positive item higher than a randomly chosen negative item."
   ]
  },
  {
   "cell_type": "code",
   "execution_count": 41,
   "id": "6415f5e4",
   "metadata": {
    "scrolled": true
   },
   "outputs": [
    {
     "name": "stdout",
     "output_type": "stream",
     "text": [
      "MAE: 0.7950854600219408\n"
     ]
    }
   ],
   "source": [
    "FCP = accuracy.fcp(predictions, verbose=False)\n",
    "print(f\"FCP: {FCP}\")"
   ]
  },
  {
   "cell_type": "markdown",
   "id": "8845ad12",
   "metadata": {},
   "source": [
    "Looking at our RMSE of 1.355 our baseline model is performing reasonably well. We will see if we can improve it with a grid search and optimize a few parameters.\n",
    "\n",
    "**Reminder:** What we are trying to accomplish with FunkSVD is to extract latent variables that represent the relationships between movies and between users to help us predict how a certain user may rate a given movie.\n",
    "\n",
    "Given our User-Movie utility matrix R, we are decomposing into a User matrix (U) and a movie matrix (M), lets check U and M out below:"
   ]
  },
  {
   "cell_type": "code",
   "execution_count": 30,
   "id": "6d7912a0",
   "metadata": {
    "scrolled": true
   },
   "outputs": [
    {
     "data": {
      "text/plain": [
       "(7449, 100)"
      ]
     },
     "execution_count": 30,
     "metadata": {},
     "output_type": "execute_result"
    }
   ],
   "source": [
    "#Extracting User matrix\n",
    "U = my_SVD.pu\n",
    "U.shape"
   ]
  },
  {
   "cell_type": "markdown",
   "id": "58e3166b",
   "metadata": {},
   "source": [
    "The shape represent the 7449 users, and the 100 represents the 100 latent variuables we found.\n",
    "\n",
    "We can see the latent variables stored within U:"
   ]
  },
  {
   "cell_type": "code",
   "execution_count": 36,
   "id": "5baa8b83",
   "metadata": {
    "scrolled": false
   },
   "outputs": [
    {
     "data": {
      "text/plain": [
       "array([[-1.58656761e-01, -2.82734748e-01,  6.44370823e-02, ...,\n",
       "        -5.35314119e-02,  3.57438906e-01,  3.83527168e-01],\n",
       "       [ 6.08535937e-01, -2.24147381e-01, -1.21658711e-01, ...,\n",
       "        -4.81146924e-01, -1.58898850e-01,  5.81057505e-01],\n",
       "       [ 5.16700321e-02,  5.24298014e-01, -7.19980052e-02, ...,\n",
       "         1.19414295e-02,  1.43061819e-01,  2.61948375e-01],\n",
       "       ...,\n",
       "       [ 6.28629877e-02,  8.54125742e-02, -1.22526635e-01, ...,\n",
       "        -2.93400618e-02,  2.95032953e-01, -5.75835386e-02],\n",
       "       [ 6.99070325e-02,  5.91599563e-02,  1.54146793e-01, ...,\n",
       "        -4.20619731e-02, -1.60884101e-01, -5.66802220e-02],\n",
       "       [ 1.77662631e-01,  3.65143695e-02,  8.90084262e-03, ...,\n",
       "         1.49697334e-01, -1.78519835e-01,  2.37776347e-04]])"
      ]
     },
     "execution_count": 36,
     "metadata": {},
     "output_type": "execute_result"
    }
   ],
   "source": [
    "U"
   ]
  },
  {
   "cell_type": "markdown",
   "id": "8b0cd817",
   "metadata": {},
   "source": [
    "Now lets look at movies:"
   ]
  },
  {
   "cell_type": "code",
   "execution_count": 33,
   "id": "3fa4551f",
   "metadata": {
    "scrolled": true
   },
   "outputs": [
    {
     "data": {
      "text/plain": [
       "(100, 1434)"
      ]
     },
     "execution_count": 33,
     "metadata": {},
     "output_type": "execute_result"
    }
   ],
   "source": [
    "M = my_SVD.qi.T\n",
    "M.shape"
   ]
  },
  {
   "cell_type": "markdown",
   "id": "cbb8ae1e",
   "metadata": {},
   "source": [
    "Again the 100 represents the latent variables we found, the 1434 represents the amount of movies in our dataset. \n",
    "\n",
    "The FunkSVD approach treats rating prediction as an optimization problem. Our U and M matrices combine to form the observed ratings.\n",
    "\n",
    "Lets see what parameters we used for our base SVD and see if we can optimize any:"
   ]
  },
  {
   "cell_type": "code",
   "execution_count": 38,
   "id": "4fc1cf2f",
   "metadata": {},
   "outputs": [
    {
     "name": "stdout",
     "output_type": "stream",
     "text": [
      "{'n_factors': 100, 'n_epochs': 20, 'biased': True, 'init_mean': 0, 'init_std_dev': 0.1, 'lr_bu': 0.005, 'lr_bi': 0.005, 'lr_pu': 0.005, 'lr_qi': 0.005, 'reg_bu': 0.02, 'reg_bi': 0.02, 'reg_pu': 0.02, 'reg_qi': 0.02, 'random_state': None, 'verbose': False, 'bsl_options': {}, 'sim_options': {'user_based': True}, 'trainset': <surprise.trainset.Trainset object at 0x1e4343010>, 'bu': array([-0.93534735, -0.06473789,  0.05166334, ..., -0.06997745,\n",
      "        0.22014594, -0.44536114]), 'bi': array([ 0.80221399, -1.47047922,  0.10104054, ..., -0.76181467,\n",
      "        0.9676151 ,  0.68014741]), 'pu': array([[-1.58656761e-01, -2.82734748e-01,  6.44370823e-02, ...,\n",
      "        -5.35314119e-02,  3.57438906e-01,  3.83527168e-01],\n",
      "       [ 6.08535937e-01, -2.24147381e-01, -1.21658711e-01, ...,\n",
      "        -4.81146924e-01, -1.58898850e-01,  5.81057505e-01],\n",
      "       [ 5.16700321e-02,  5.24298014e-01, -7.19980052e-02, ...,\n",
      "         1.19414295e-02,  1.43061819e-01,  2.61948375e-01],\n",
      "       ...,\n",
      "       [ 6.28629877e-02,  8.54125742e-02, -1.22526635e-01, ...,\n",
      "        -2.93400618e-02,  2.95032953e-01, -5.75835386e-02],\n",
      "       [ 6.99070325e-02,  5.91599563e-02,  1.54146793e-01, ...,\n",
      "        -4.20619731e-02, -1.60884101e-01, -5.66802220e-02],\n",
      "       [ 1.77662631e-01,  3.65143695e-02,  8.90084262e-03, ...,\n",
      "         1.49697334e-01, -1.78519835e-01,  2.37776347e-04]]), 'qi': array([[ 0.4493303 ,  0.3301801 ,  0.46599705, ...,  0.16092229,\n",
      "        -0.33065068, -0.17398658],\n",
      "       [-0.543701  ,  0.32000273, -0.16434813, ..., -0.0948252 ,\n",
      "         0.00099868, -0.25165453],\n",
      "       [ 0.05337031,  0.45916475,  0.15968894, ...,  0.30146714,\n",
      "        -0.23959449,  0.53275773],\n",
      "       ...,\n",
      "       [-0.55260287,  0.2774036 , -0.05090599, ..., -0.4127437 ,\n",
      "        -0.20734365, -0.47674921],\n",
      "       [ 0.16659188,  0.12405965, -0.18297271, ...,  0.29171413,\n",
      "         0.32936999,  0.04909205],\n",
      "       [ 0.36666842,  0.271142  ,  0.1772822 , ...,  0.37512332,\n",
      "         0.05910537, -0.11126465]])}\n"
     ]
    }
   ],
   "source": [
    "print(my_SVD.__dict__)"
   ]
  },
  {
   "cell_type": "markdown",
   "id": "866ef72b",
   "metadata": {},
   "source": [
    "We can see our default parameters from our model above, notably:\n",
    "\n",
    "- **Number of factors (`n_factors`):** This refers to the number of latent factors the model will use.\n",
    "  - Default: 100\n",
    "\n",
    "- **Number of epochs (`n_epochs`):** This parameter determines the number of iterations the model will undergo during training. It signifies the number of times the entire dataset will be passed forward and backward through the model.\n",
    "  - Default: 20\n",
    "\n",
    "- **Biased (`biased`):** This parameter indicates whether to use biases or not in the model. Bias terms are additional constants that the model learns to adjust for different users and items, enhancing the precision of recommendations.\n",
    "  - Default: True\n",
    "\n",
    "- **Learning rate for all (`lr_all`):** Denoting the learning rate for all parameters in the model, this parameter controls the size of the steps taken during the optimization process. A smaller learning rate can lead to more precise convergence but might require more epochs for training.\n",
    "  - Default: 0.005\n",
    "\n",
    "- **Regularization for all (`reg_all`):** This parameter determines the regularization term applied to all parameters, preventing overfitting by penalizing large parameter values. It aids in generalizing the model by avoiding overly specific fits to the training data.\n",
    "  - Default: 0.02\n",
    "\n",
    "\n",
    "## Model Optimization\n",
    "Lets start to see if we can optimize these parameters and lower our RMSE. Lets start by looking at how model performance changes over a range of diffent epochs:"
   ]
  },
  {
   "cell_type": "code",
   "execution_count": 46,
   "id": "97d23db3",
   "metadata": {
    "scrolled": true
   },
   "outputs": [
    {
     "name": "stdout",
     "output_type": "stream",
     "text": [
      "30\r"
     ]
    }
   ],
   "source": [
    "# Create an empty list to store RMSE values\n",
    "RMSEs = [] \n",
    "\n",
    "# Define a range of values for the number of epochs (iterations)\n",
    "epochs = range(5, 35, 5)\n",
    "\n",
    "# Iterate through each value of epochs\n",
    "for n_epochs in epochs:\n",
    "    FUNK_RMSE = SVD(n_epochs=n_epochs, random_state=41) #Initialize model with current epochs\n",
    "\n",
    "    # Fit the model to the training set\n",
    "    FUNK_RMSE.fit(trainset)\n",
    "    #Predict values for the test set based on the model we trained\n",
    "    predictions = FUNK_RMSE.test(testset)\n",
    "    \n",
    "    # Calculate Root Mean Squared Error (RMSE) between predicted and actual ratings\n",
    "    RMSE = accuracy.rmse(predictions, verbose=False)\n",
    "    RMSEs.append(RMSE)\n",
    "    \n",
    "    #Print n_epochs to show progress\n",
    "    print(n_epochs, end=\"\\r\") "
   ]
  },
  {
   "cell_type": "markdown",
   "id": "82c26edb",
   "metadata": {},
   "source": [
    "Lets take a look at our results."
   ]
  },
  {
   "cell_type": "code",
   "execution_count": 49,
   "id": "afc6a03c",
   "metadata": {
    "scrolled": true
   },
   "outputs": [
    {
     "name": "stdout",
     "output_type": "stream",
     "text": [
      "   Epochs      RMSE\n",
      "0       5  1.345131\n",
      "1      10  1.325855\n",
      "2      15  1.342318\n",
      "3      20  1.354978\n",
      "4      25  1.363429\n",
      "5      30  1.369562\n"
     ]
    }
   ],
   "source": [
    "results = {'Epochs': epochs, 'RMSE': RMSEs}\n",
    "results_df = pd.DataFrame(results)\n",
    "\n",
    "print(results_df)"
   ]
  },
  {
   "cell_type": "markdown",
   "id": "d91dfb7c",
   "metadata": {},
   "source": [
    "Our lowest RMSE was at 10 epochs, lets see how this looks on a graph and then evaluate."
   ]
  },
  {
   "cell_type": "code",
   "execution_count": 50,
   "id": "aa1bdce2",
   "metadata": {
    "scrolled": true
   },
   "outputs": [
    {
     "data": {
      "image/png": "[encoded data removed]",
      "text/plain": [
       "<Figure size 800x600 with 1 Axes>"
      ]
     },
     "metadata": {},
     "output_type": "display_data"
    }
   ],
   "source": [
    "plt.figure(figsize=(8, 6))\n",
    "plt.plot(results_df['Epochs'], results_df['RMSE'], marker='o', linestyle='-')\n",
    "plt.title('RMSE vs. Number of Epochs')\n",
    "plt.xlabel('Number of Epochs')\n",
    "plt.ylabel('RMSE')\n",
    "plt.grid(True)\n",
    "plt.show()"
   ]
  },
  {
   "cell_type": "markdown",
   "id": "0758fb5f",
   "metadata": {},
   "source": [
    "We got our lowest RMSE of 1.325855 at 10 epochs before RMSE begain to trend up with each subsequent increase in epochs. \n",
    "\n",
    "Knowing this we can keep our epochs relatively low, but this may change as we change other parameters, particularily learning rate.\n",
    "\n",
    "Lets run am early gridsearch seef if we can optimize a few parameters. We will look at our n_epochs, our learning rate, and our regularization penalty. "
   ]
  },
  {
   "cell_type": "code",
   "execution_count": 52,
   "id": "93588df8",
   "metadata": {
    "scrolled": true
   },
   "outputs": [
    {
     "name": "stdout",
     "output_type": "stream",
     "text": [
      "1.3337146819362837\n",
      "{'n_epochs': 20, 'lr_all': 0.002, 'reg_all': 0.02, 'random_state': 41}\n"
     ]
    }
   ],
   "source": [
    "from surprise.model_selection import GridSearchCV\n",
    "\n",
    "param_grid = {\"n_epochs\": [10, 20], \n",
    "              \"lr_all\": [0.002, 0.005], \n",
    "              \"reg_all\": [0.01, 0.02], \n",
    "              \"random_state\": [41]}\n",
    "\n",
    "gs = GridSearchCV(SVD, param_grid, measures=[\"rmse\"], cv=3)\n",
    "\n",
    "gs.fit(my_dataset)\n",
    "\n",
    "# best RMSE score\n",
    "print(gs.best_score[\"rmse\"])\n",
    "\n",
    "# combination of parameters that gave the best RMSE score\n",
    "print(gs.best_params[\"rmse\"])"
   ]
  },
  {
   "cell_type": "markdown",
   "id": "003d9b28",
   "metadata": {},
   "source": [
    "Interesting.... as opposed to our early look into epochs, we are learning here that we can do a lower learning rate with a higher epochs to improve our RMSE.\n",
    "\n",
    "**Hypothesis:** With a lower learning rate we will have a higher epoch in order to find a better model. \n",
    "\n",
    "Lets see what our ideal n_epochs would be if we did a lower learnig rate 0.001 and 50 epochs. "
   ]
  },
  {
   "cell_type": "code",
   "execution_count": 53,
   "id": "d3dd2c5b",
   "metadata": {},
   "outputs": [
    {
     "name": "stdout",
     "output_type": "stream",
     "text": [
      "RMSE: 1.3274\n"
     ]
    },
    {
     "data": {
      "text/plain": [
       "1.327422673291403"
      ]
     },
     "execution_count": 53,
     "metadata": {},
     "output_type": "execute_result"
    }
   ],
   "source": [
    "my_SVD = SVD(n_epochs=50, lr_all=0.001, random_state=41)\n",
    "\n",
    "# Train the algorithm on the trainset, and predict ratings for the testset\n",
    "my_SVD.fit(trainset)\n",
    "predictions = my_SVD.test(testset)\n",
    "\n",
    "# Compute RMSE\n",
    "accuracy.rmse(predictions)"
   ]
  },
  {
   "cell_type": "markdown",
   "id": "5b5a8690",
   "metadata": {},
   "source": [
    "We took a good jump lower! lets see if we go even more:"
   ]
  },
  {
   "cell_type": "code",
   "execution_count": 56,
   "id": "2258c09e",
   "metadata": {},
   "outputs": [
    {
     "name": "stdout",
     "output_type": "stream",
     "text": [
      "RMSE: 1.3251\n"
     ]
    },
    {
     "data": {
      "text/plain": [
       "1.3250954470987863"
      ]
     },
     "execution_count": 56,
     "metadata": {},
     "output_type": "execute_result"
    }
   ],
   "source": [
    "my_SVD = SVD(n_epochs=75, lr_all=0.0005, random_state=41)\n",
    "\n",
    "# Train the algorithm on the trainset, and predict ratings for the testset\n",
    "my_SVD.fit(trainset)\n",
    "predictions = my_SVD.test(testset)\n",
    "\n",
    "# Compute RMSE\n",
    "accuracy.rmse(predictions)"
   ]
  },
  {
   "cell_type": "markdown",
   "id": "b9ef7743",
   "metadata": {},
   "source": [
    "Another improvement here with an RMSE of 1.3251 looks like our hypothesis was right, lets see if we try n_epochs 125 and learning rate of 0.0001."
   ]
  },
  {
   "cell_type": "code",
   "execution_count": 55,
   "id": "84bf9017",
   "metadata": {},
   "outputs": [
    {
     "name": "stdout",
     "output_type": "stream",
     "text": [
      "RMSE: 1.4137\n"
     ]
    },
    {
     "data": {
      "text/plain": [
       "1.413674013560839"
      ]
     },
     "execution_count": 55,
     "metadata": {},
     "output_type": "execute_result"
    }
   ],
   "source": [
    "my_SVD = SVD(n_epochs=125, lr_all=0.0001, random_state=41)\n",
    "\n",
    "# Train the algorithm on the trainset, and predict ratings for the testset\n",
    "my_SVD.fit(trainset)\n",
    "predictions = my_SVD.test(testset)\n",
    "\n",
    "# Compute RMSE\n",
    "accuracy.rmse(predictions)"
   ]
  },
  {
   "cell_type": "markdown",
   "id": "a685de03",
   "metadata": {},
   "source": [
    "And we now have a worse score, this gives us a good idea that our optimal n_epoch and lr_all combo is around 75 and 0.0005.\n",
    "\n",
    "Lets now look into n_factors. Will run a for a loop to see what happens over a range for our factors. Lets continue using our n_epoch of 75 and lr_all of 0.0005."
   ]
  },
  {
   "cell_type": "code",
   "execution_count": 57,
   "id": "901ea95f",
   "metadata": {},
   "outputs": [
    {
     "name": "stdout",
     "output_type": "stream",
     "text": [
      "160\r"
     ]
    }
   ],
   "source": [
    "RMSEs = [] \n",
    "\n",
    "factors = range(80, 180, 20)\n",
    "for n_factors in factors:\n",
    "    funk_factor = SVD(n_factors=n_factors,\n",
    "                    n_epochs=75,\n",
    "                    lr_all=0.0005,\n",
    "                    random_state=41) \n",
    "\n",
    "    funk_factor.fit(trainset)\n",
    "    predictions = funk_factor.test(testset)\n",
    "\n",
    "    RMSE = accuracy.rmse(predictions, verbose=False)\n",
    "    RMSEs.append(RMSE)\n",
    "    print(n_factors, end=\"\\r\")"
   ]
  },
  {
   "cell_type": "code",
   "execution_count": 59,
   "id": "5b0266b7",
   "metadata": {
    "scrolled": true
   },
   "outputs": [
    {
     "name": "stdout",
     "output_type": "stream",
     "text": [
      "   Factors      RMSE\n",
      "0       80  1.325253\n",
      "1      100  1.325095\n",
      "2      120  1.325022\n",
      "3      140  1.325988\n",
      "4      160  1.325232\n"
     ]
    }
   ],
   "source": [
    "data = {'Factors': factors, 'RMSE': RMSEs}\n",
    "df_results = pd.DataFrame(data)\n",
    "\n",
    "print(df_results)"
   ]
  },
  {
   "cell_type": "code",
   "execution_count": 60,
   "id": "319c5679",
   "metadata": {},
   "outputs": [
    {
     "data": {
      "image/png": "[encoded data removed]",
      "text/plain": [
       "<Figure size 800x600 with 1 Axes>"
      ]
     },
     "metadata": {},
     "output_type": "display_data"
    }
   ],
   "source": [
    "plt.figure(figsize=(8, 6))\n",
    "plt.plot(df_results['Factors'], df_results['RMSE'], marker='o', linestyle='-')\n",
    "plt.title('RMSE vs. Number of Factors')\n",
    "plt.xlabel('Number of Factors')\n",
    "plt.ylabel('RMSE')\n",
    "plt.grid(True)\n",
    "plt.show()"
   ]
  },
  {
   "cell_type": "markdown",
   "id": "30b336c7",
   "metadata": {},
   "source": [
    "Interesting... it started trending down towards 120 factor but then it shot back up at 140, then steeply comes back down. Lets do a quick check for 180 to see if it continues to come back down and if we are possibly missing something."
   ]
  },
  {
   "cell_type": "code",
   "execution_count": 62,
   "id": "7a96d93f",
   "metadata": {
    "scrolled": true
   },
   "outputs": [
    {
     "name": "stdout",
     "output_type": "stream",
     "text": [
      "RMSE: 1.3264324881622893\n"
     ]
    }
   ],
   "source": [
    "funk_factor = SVD(n_factors=180,\n",
    "                    n_epochs=75,\n",
    "                    lr_all=0.0005,\n",
    "                    random_state=41) \n",
    "\n",
    "funk_factor.fit(trainset)\n",
    "predictions = funk_factor.test(testset)\n",
    "\n",
    "RMSE = accuracy.rmse(predictions, verbose=False)\n",
    "print(f\"RMSE: {RMSE}\")"
   ]
  },
  {
   "cell_type": "markdown",
   "id": "59d1ddb9",
   "metadata": {},
   "source": [
    "Lets manually create a df to show how our results did:"
   ]
  },
  {
   "cell_type": "code",
   "execution_count": 68,
   "id": "e5511032",
   "metadata": {},
   "outputs": [
    {
     "data": {
      "text/html": [
       "<div>\n",
       "<style scoped>\n",
       "    .dataframe tbody tr th:only-of-type {\n",
       "        vertical-align: middle;\n",
       "    }\n",
       "\n",
       "    .dataframe tbody tr th {\n",
       "        vertical-align: top;\n",
       "    }\n",
       "\n",
       "    .dataframe thead th {\n",
       "        text-align: right;\n",
       "    }\n",
       "</style>\n",
       "<table border=\"1\" class=\"dataframe\">\n",
       "  <thead>\n",
       "    <tr style=\"text-align: right;\">\n",
       "      <th></th>\n",
       "      <th>Factors</th>\n",
       "      <th>RMSE</th>\n",
       "    </tr>\n",
       "  </thead>\n",
       "  <tbody>\n",
       "    <tr>\n",
       "      <th>0</th>\n",
       "      <td>80</td>\n",
       "      <td>1.325253</td>\n",
       "    </tr>\n",
       "    <tr>\n",
       "      <th>1</th>\n",
       "      <td>100</td>\n",
       "      <td>1.325095</td>\n",
       "    </tr>\n",
       "    <tr>\n",
       "      <th>2</th>\n",
       "      <td>120</td>\n",
       "      <td>1.325022</td>\n",
       "    </tr>\n",
       "    <tr>\n",
       "      <th>3</th>\n",
       "      <td>140</td>\n",
       "      <td>1.325988</td>\n",
       "    </tr>\n",
       "    <tr>\n",
       "      <th>4</th>\n",
       "      <td>160</td>\n",
       "      <td>1.325232</td>\n",
       "    </tr>\n",
       "    <tr>\n",
       "      <th>5</th>\n",
       "      <td>180</td>\n",
       "      <td>1.326432</td>\n",
       "    </tr>\n",
       "  </tbody>\n",
       "</table>\n",
       "</div>"
      ],
      "text/plain": [
       "   Factors      RMSE\n",
       "0       80  1.325253\n",
       "1      100  1.325095\n",
       "2      120  1.325022\n",
       "3      140  1.325988\n",
       "4      160  1.325232\n",
       "5      180  1.326432"
      ]
     },
     "execution_count": 68,
     "metadata": {},
     "output_type": "execute_result"
    }
   ],
   "source": [
    "#Re-creating our df so we can see how it compares\n",
    "data = {\n",
    "    'Factors': [80, 100, 120, 140, 160, 180],\n",
    "    'RMSE': [1.325253, 1.325095, 1.325022, 1.325988, 1.325232, 1.326432]\n",
    "}\n",
    "df_r2 = pd.DataFrame(data)\n",
    "\n",
    "df_r2"
   ]
  },
  {
   "cell_type": "markdown",
   "id": "f00de584",
   "metadata": {},
   "source": [
    "We can now comfirm that the RMSE looks to be continuing to trend up, so our lowest RMSE is at 120 factors when using a learning rate of 0.0005 and 75 epochs.\n",
    "\n",
    "Lets refresh our progress:\n",
    "* Our initial probing showed that 10 epochs were optimal with otherwise default parameters\n",
    "* Our grid search than showed that a higher epoch paired with a lower than default learning rate yields better results, landing us at 75 epochs a learning rate of 0.005\n",
    "* Our optimal factor at 75 epochs with a learning rate of 0.0005 is 120\n",
    "\n",
    "Lets run a final grid search to confirm our best model."
   ]
  },
  {
   "cell_type": "code",
   "execution_count": 69,
   "id": "b21970b8",
   "metadata": {
    "scrolled": true
   },
   "outputs": [
    {
     "name": "stdout",
     "output_type": "stream",
     "text": [
      "Best RMSE: 1.3731560892274721\n",
      "Best Parameters: {'n_epochs': 50, 'lr_all': 0.002, 'n_factors': 100, 'random_state': 41}\n"
     ]
    }
   ],
   "source": [
    "from surprise import SVD\n",
    "from surprise.model_selection import GridSearchCV\n",
    "from surprise import Dataset\n",
    "\n",
    "# Define the parameter grid\n",
    "param_grid = {'n_epochs': [50, 75, 100],\n",
    "              'lr_all': [0.002, 0.005, 0.01],\n",
    "              'n_factors': [100, 120, 150],\n",
    "              'random_state': [41]}\n",
    "\n",
    "# Instantiate the grid search with SVD as the algorithm of choice\n",
    "grid_search = GridSearchCV(SVD, param_grid, measures=['rmse'], cv=3)\n",
    "\n",
    "# Run the grid search\n",
    "grid_search.fit(my_dataset)\n",
    "\n",
    "# Get the best RMSE score\n",
    "best_rmse = grid_search.best_score['rmse']\n",
    "\n",
    "# Get the best parameters\n",
    "best_params = grid_search.best_params['rmse']\n",
    "\n",
    "print(f\"Best RMSE: {best_rmse}\")\n",
    "print(f\"Best Parameters: {best_params}\")\n"
   ]
  },
  {
   "cell_type": "markdown",
   "id": "41c94874",
   "metadata": {},
   "source": [
    "#### Grid Search Results\n",
    "We accidentally ran a grid search with 0.002, 0.005, and 0.010 instead of 0.0002, 0.0005, and 0.001, which is a bit of a waste of time but we can see that our results are confirmed taht we should be using a lower learning rate to get our best model "
   ]
  },
  {
   "cell_type": "code",
   "execution_count": 77,
   "id": "641d50ae",
   "metadata": {
    "scrolled": true
   },
   "outputs": [
    {
     "data": {
      "text/html": [
       "<div>\n",
       "<style scoped>\n",
       "    .dataframe tbody tr th:only-of-type {\n",
       "        vertical-align: middle;\n",
       "    }\n",
       "\n",
       "    .dataframe tbody tr th {\n",
       "        vertical-align: top;\n",
       "    }\n",
       "\n",
       "    .dataframe thead th {\n",
       "        text-align: right;\n",
       "    }\n",
       "</style>\n",
       "<table border=\"1\" class=\"dataframe\">\n",
       "  <thead>\n",
       "    <tr style=\"text-align: right;\">\n",
       "      <th></th>\n",
       "      <th>mean_test_rmse</th>\n",
       "      <th>param_n_epochs</th>\n",
       "      <th>param_lr_all</th>\n",
       "      <th>param_n_factors</th>\n",
       "    </tr>\n",
       "  </thead>\n",
       "  <tbody>\n",
       "    <tr>\n",
       "      <th>0</th>\n",
       "      <td>1.373156</td>\n",
       "      <td>50</td>\n",
       "      <td>0.002</td>\n",
       "      <td>100</td>\n",
       "    </tr>\n",
       "    <tr>\n",
       "      <th>1</th>\n",
       "      <td>1.379789</td>\n",
       "      <td>50</td>\n",
       "      <td>0.002</td>\n",
       "      <td>120</td>\n",
       "    </tr>\n",
       "    <tr>\n",
       "      <th>2</th>\n",
       "      <td>1.387281</td>\n",
       "      <td>50</td>\n",
       "      <td>0.002</td>\n",
       "      <td>150</td>\n",
       "    </tr>\n",
       "    <tr>\n",
       "      <th>3</th>\n",
       "      <td>1.407121</td>\n",
       "      <td>50</td>\n",
       "      <td>0.005</td>\n",
       "      <td>100</td>\n",
       "    </tr>\n",
       "    <tr>\n",
       "      <th>4</th>\n",
       "      <td>1.420191</td>\n",
       "      <td>50</td>\n",
       "      <td>0.005</td>\n",
       "      <td>120</td>\n",
       "    </tr>\n",
       "    <tr>\n",
       "      <th>5</th>\n",
       "      <td>1.433815</td>\n",
       "      <td>50</td>\n",
       "      <td>0.005</td>\n",
       "      <td>150</td>\n",
       "    </tr>\n",
       "    <tr>\n",
       "      <th>6</th>\n",
       "      <td>1.427161</td>\n",
       "      <td>50</td>\n",
       "      <td>0.010</td>\n",
       "      <td>100</td>\n",
       "    </tr>\n",
       "    <tr>\n",
       "      <th>7</th>\n",
       "      <td>1.442693</td>\n",
       "      <td>50</td>\n",
       "      <td>0.010</td>\n",
       "      <td>120</td>\n",
       "    </tr>\n",
       "    <tr>\n",
       "      <th>8</th>\n",
       "      <td>1.459435</td>\n",
       "      <td>50</td>\n",
       "      <td>0.010</td>\n",
       "      <td>150</td>\n",
       "    </tr>\n",
       "    <tr>\n",
       "      <th>9</th>\n",
       "      <td>1.390321</td>\n",
       "      <td>75</td>\n",
       "      <td>0.002</td>\n",
       "      <td>100</td>\n",
       "    </tr>\n",
       "    <tr>\n",
       "      <th>10</th>\n",
       "      <td>1.400240</td>\n",
       "      <td>75</td>\n",
       "      <td>0.002</td>\n",
       "      <td>120</td>\n",
       "    </tr>\n",
       "    <tr>\n",
       "      <th>11</th>\n",
       "      <td>1.410462</td>\n",
       "      <td>75</td>\n",
       "      <td>0.002</td>\n",
       "      <td>150</td>\n",
       "    </tr>\n",
       "    <tr>\n",
       "      <th>12</th>\n",
       "      <td>1.416735</td>\n",
       "      <td>75</td>\n",
       "      <td>0.005</td>\n",
       "      <td>100</td>\n",
       "    </tr>\n",
       "    <tr>\n",
       "      <th>13</th>\n",
       "      <td>1.431379</td>\n",
       "      <td>75</td>\n",
       "      <td>0.005</td>\n",
       "      <td>120</td>\n",
       "    </tr>\n",
       "    <tr>\n",
       "      <th>14</th>\n",
       "      <td>1.446367</td>\n",
       "      <td>75</td>\n",
       "      <td>0.005</td>\n",
       "      <td>150</td>\n",
       "    </tr>\n",
       "    <tr>\n",
       "      <th>15</th>\n",
       "      <td>1.432644</td>\n",
       "      <td>75</td>\n",
       "      <td>0.010</td>\n",
       "      <td>100</td>\n",
       "    </tr>\n",
       "    <tr>\n",
       "      <th>16</th>\n",
       "      <td>1.448915</td>\n",
       "      <td>75</td>\n",
       "      <td>0.010</td>\n",
       "      <td>120</td>\n",
       "    </tr>\n",
       "    <tr>\n",
       "      <th>17</th>\n",
       "      <td>1.466281</td>\n",
       "      <td>75</td>\n",
       "      <td>0.010</td>\n",
       "      <td>150</td>\n",
       "    </tr>\n",
       "    <tr>\n",
       "      <th>18</th>\n",
       "      <td>1.400167</td>\n",
       "      <td>100</td>\n",
       "      <td>0.002</td>\n",
       "      <td>100</td>\n",
       "    </tr>\n",
       "    <tr>\n",
       "      <th>19</th>\n",
       "      <td>1.411939</td>\n",
       "      <td>100</td>\n",
       "      <td>0.002</td>\n",
       "      <td>120</td>\n",
       "    </tr>\n",
       "    <tr>\n",
       "      <th>20</th>\n",
       "      <td>1.423687</td>\n",
       "      <td>100</td>\n",
       "      <td>0.002</td>\n",
       "      <td>150</td>\n",
       "    </tr>\n",
       "    <tr>\n",
       "      <th>21</th>\n",
       "      <td>1.421893</td>\n",
       "      <td>100</td>\n",
       "      <td>0.005</td>\n",
       "      <td>100</td>\n",
       "    </tr>\n",
       "    <tr>\n",
       "      <th>22</th>\n",
       "      <td>1.437247</td>\n",
       "      <td>100</td>\n",
       "      <td>0.005</td>\n",
       "      <td>120</td>\n",
       "    </tr>\n",
       "    <tr>\n",
       "      <th>23</th>\n",
       "      <td>1.452854</td>\n",
       "      <td>100</td>\n",
       "      <td>0.005</td>\n",
       "      <td>150</td>\n",
       "    </tr>\n",
       "    <tr>\n",
       "      <th>24</th>\n",
       "      <td>1.435341</td>\n",
       "      <td>100</td>\n",
       "      <td>0.010</td>\n",
       "      <td>100</td>\n",
       "    </tr>\n",
       "    <tr>\n",
       "      <th>25</th>\n",
       "      <td>1.451981</td>\n",
       "      <td>100</td>\n",
       "      <td>0.010</td>\n",
       "      <td>120</td>\n",
       "    </tr>\n",
       "    <tr>\n",
       "      <th>26</th>\n",
       "      <td>1.469633</td>\n",
       "      <td>100</td>\n",
       "      <td>0.010</td>\n",
       "      <td>150</td>\n",
       "    </tr>\n",
       "  </tbody>\n",
       "</table>\n",
       "</div>"
      ],
      "text/plain": [
       "    mean_test_rmse  param_n_epochs  param_lr_all  param_n_factors\n",
       "0         1.373156              50         0.002              100\n",
       "1         1.379789              50         0.002              120\n",
       "2         1.387281              50         0.002              150\n",
       "3         1.407121              50         0.005              100\n",
       "4         1.420191              50         0.005              120\n",
       "5         1.433815              50         0.005              150\n",
       "6         1.427161              50         0.010              100\n",
       "7         1.442693              50         0.010              120\n",
       "8         1.459435              50         0.010              150\n",
       "9         1.390321              75         0.002              100\n",
       "10        1.400240              75         0.002              120\n",
       "11        1.410462              75         0.002              150\n",
       "12        1.416735              75         0.005              100\n",
       "13        1.431379              75         0.005              120\n",
       "14        1.446367              75         0.005              150\n",
       "15        1.432644              75         0.010              100\n",
       "16        1.448915              75         0.010              120\n",
       "17        1.466281              75         0.010              150\n",
       "18        1.400167             100         0.002              100\n",
       "19        1.411939             100         0.002              120\n",
       "20        1.423687             100         0.002              150\n",
       "21        1.421893             100         0.005              100\n",
       "22        1.437247             100         0.005              120\n",
       "23        1.452854             100         0.005              150\n",
       "24        1.435341             100         0.010              100\n",
       "25        1.451981             100         0.010              120\n",
       "26        1.469633             100         0.010              150"
      ]
     },
     "execution_count": 77,
     "metadata": {},
     "output_type": "execute_result"
    }
   ],
   "source": [
    "# Get all results\n",
    "results_df = pd.DataFrame.from_dict(grid_search.cv_results)\n",
    "\n",
    "# Print all results\n",
    "results = results_df[['mean_test_rmse', 'param_n_epochs', 'param_lr_all', 'param_n_factors']]\n",
    "\n",
    "results"
   ]
  },
  {
   "cell_type": "markdown",
   "id": "25095581",
   "metadata": {},
   "source": [
    "### Final Grid Search\n",
    "\n",
    "**Summary so far**\n",
    "\n",
    "Lets look at some of our best models: \n",
    "\n",
    "| Test   | Factors | Epochs | Learning Rate | RMSE     |\n",
    "|--------|---------|--------|---------------|----------|\n",
    "| TEST 1 | 100     | 20     | 0.005         | 1.325855 |\n",
    "| TEST 2 | 100     | 75     | 0.0005        | 1.325095 |\n",
    "| TEST 3 | 120     | 75     | 0.0005         | 1.325022 |\n",
    "\n",
    "Our best model is Test 3 with 120 factors, 75 epochs, and 0.0005. However, these 3 best models of ours are all performing very similarily. \n",
    "\n",
    "Lets run one more grid search since we made en error in our last one:"
   ]
  },
  {
   "cell_type": "code",
   "execution_count": 78,
   "id": "ec7065b9",
   "metadata": {
    "scrolled": true
   },
   "outputs": [
    {
     "name": "stdout",
     "output_type": "stream",
     "text": [
      "Best RMSE: 1.3370350140295593\n",
      "Best Parameters: {'n_epochs': 120, 'lr_all': 0.0005, 'n_factors': 50, 'random_state': 41}\n"
     ]
    }
   ],
   "source": [
    "# Define the parameter grid\n",
    "param_grid = {'n_epochs': [70, 120],\n",
    "              'lr_all': [0.0002, 0.0005],\n",
    "              'n_factors': [50, 100, 120],\n",
    "              'random_state': [41]}\n",
    "\n",
    "# Instantiate the grid search with SVD as the algorithm of choice\n",
    "grid_search = GridSearchCV(SVD, param_grid, measures=['rmse'], cv=3)\n",
    "\n",
    "# Run the grid search\n",
    "grid_search.fit(my_dataset)\n",
    "\n",
    "# Get the best RMSE score\n",
    "best_rmse = grid_search.best_score['rmse']\n",
    "\n",
    "# Get the best parameters\n",
    "best_params = grid_search.best_params['rmse']\n",
    "\n",
    "print(f\"Best RMSE: {best_rmse}\")\n",
    "print(f\"Best Parameters: {best_params}\")\n"
   ]
  },
  {
   "cell_type": "markdown",
   "id": "86e1a94c",
   "metadata": {},
   "source": [
    "Okay that is enough grid searches. We used slightly different number of epochs with 70, 120. To see if our original baseline of 10 epochs was indicating our optimal solution was lower.\n",
    "\n",
    "We continued to lower our learning rate by tring 0.0002 but that did not improve model performance, and the optimal here was found at 0.0005. With the lower learning rate we may need a much higher number of epochs to improve RMSE performance, but we would then run a risk of overfitting.\n",
    "\n",
    "Our number of factors jumped down to 50 for the optimal solution in this grid search. However the model did not perform as good as our best model.\n",
    "\n",
    "Lets stop optimizing for now and conclude our modelling.  \n",
    "\n",
    "# Finalized Model\n",
    "Lets run and save our best model."
   ]
  },
  {
   "cell_type": "code",
   "execution_count": 79,
   "id": "6745644e",
   "metadata": {
    "scrolled": false
   },
   "outputs": [
    {
     "name": "stdout",
     "output_type": "stream",
     "text": [
      "RMSE: 1.3250\n",
      "MAE:  1.0007\n",
      "FCP:  0.8025\n",
      "     Model      RMSE       MAE       FCP\n",
      "0  FunkSVD  1.325022  1.000687  0.802484\n"
     ]
    }
   ],
   "source": [
    "# Setting our train test ration to 75-25\n",
    "trainset, testset = train_test_split(my_dataset, test_size=0.25, random_state=41)\n",
    "\n",
    "# We'll use the famous FunkSVD algorithm.\n",
    "my_FunkSVD = SVD(n_factors=120,\n",
    "                 n_epochs=75,\n",
    "                 lr_all=0.0005,\n",
    "                 random_state=41)\n",
    "\n",
    "# Train the algorithm on the trainset\n",
    "my_FunkSVD.fit(trainset)\n",
    "\n",
    "#Predict ratings for the testset\n",
    "predictions = my_FunkSVD.test(testset)\n",
    "\n",
    "# Compute RMSE\n",
    "RMSE = accuracy.rmse(predictions)\n",
    "# Calculate MAE\n",
    "MAE = accuracy.mae(predictions)\n",
    "# Calculate FCP\n",
    "FCP = accuracy.fcp(predictions)\n",
    "\n",
    "# Create a DataFrame to store the metrics\n",
    "metrics_df = pd.DataFrame({\n",
    "    'Model': ['FunkSVD'],\n",
    "    'RMSE': [RMSE],\n",
    "    'MAE': [MAE],\n",
    "    'FCP': [FCP]\n",
    "})\n",
    "\n",
    "print(metrics_df)"
   ]
  },
  {
   "cell_type": "markdown",
   "id": "a3c42082",
   "metadata": {},
   "source": [
    "Lets save the model:"
   ]
  },
  {
   "cell_type": "code",
   "execution_count": 82,
   "id": "afd58c59",
   "metadata": {},
   "outputs": [],
   "source": [
    "from surprise.dump import dump # To Save our model\n",
    "# Save the trained model to a file\n",
    "dump_file_funk = 'my_funky_svd_model.pkl'\n",
    "dump(dump_file_funk, algo=my_FunkSVD)"
   ]
  },
  {
   "cell_type": "markdown",
   "id": "73c3a5eb",
   "metadata": {},
   "source": [
    "# Conclusion & Final Evaluation\n",
    "Our best FunkSVD model had a RMSE of 1.325022 and was found with the following parameters:\n",
    "| Test       | Factors | Epochs | Learning Rate | RMSE     |\n",
    "|------------|---------|--------|---------------|----------|\n",
    "| Best Model | 120     | 75     | 0.0005         | 1.325022 |\n",
    "\n",
    "Overall we were able to get minimal improvements from our baseleine model's RMSE of 1.354978.\n",
    "\n",
    "| Test         | Factors | Epochs | Learning Rate | RMSE      | % Improvement |\n",
    "|--------------|---------|--------|---------------|-----------|---------------|\n",
    "| Baseline     | 100     | 20     | 0.005         | 1.354978  | -             |\n",
    "| Best Model   | 120     | 75     | 0.0005         | 1.325022  | 2.22%         |\n",
    "\n",
    "Lets compare our baseline vs. best model on the other metrics MAE and FCP. \n",
    "\n",
    "| Model       | RMSE     | MAE      | FCP      |\n",
    "|-------------|----------|----------|----------|\n",
    "| Baseline    | 1.354978 | 1.020124 | 0.795085 |\n",
    "| Best Model  | 1.325022 | 1.000687 | 0.802484 |\n",
    "\n",
    "**RMSE (Root Mean Squared Error):**\n",
    "The reduction in RMSE from 1.354978 in the baseline to 1.325022 in the best model signifies a tangible improvement. This decrease indicates a higher accuracy in our best model's predictions, showcasing a noticeable reduction in the average magnitude of errors between predicted and actual ratings.\n",
    "\n",
    "**MAE (Mean Absolute Error):**\n",
    "Similar to RMSE, the decline from a baseline MAE of 1.020124 to 1.000687 in the best model underscores an enhanced accuracy in predicting ratings. This reduction in absolute differences between predicted and actual ratings suggests improved precision in our best model.\n",
    "\n",
    "**FCP (Fraction of Concordant Pairs):**\n",
    "Though the change in FCP is more subtle, the slight increase from 0.795085 in the baseline to 0.802484 in the best model indicates an improved ability to rank items correctly based on user preferences. While this improvement is modest, it showcases a positive trend in the model's performance in ranking predictions."
   ]
  },
  {
   "cell_type": "markdown",
   "id": "6fae7444",
   "metadata": {},
   "source": [
    "# Model Next steps\n",
    "Overall we have made improvement and our model is performing fairly well. Here is what we could continue to improve our model:\n",
    "* **Regularization**\n",
    "    * Look into Regularization rate as this could significantly impact the model's performance on unseen data, contributing to better generalization.\n",
    "* **Enhanced Optimization**\n",
    "    * Experiment with significantly higher epochs and lower learning rates. This becomes computationally more expensive, and runs the risk of overfitting but in combination with optimizing regularization rates we could improve our model.\n",
    "* **Model Interpretability**\n",
    "    * Enhance the model's interpretability to gain insights into its recommendation mechanism. Techniques such as employing explainable models or methods for model explainability can shed light on user preferences and the reasoning behind the model's decisions.\n",
    "    \n",
    "# Project Next Steps\n",
    "We are now able to make content based reccomendations to user, given a movie suggest them similar movies based on the Movie Description. \n",
    "\n",
    "With our FunkSVD we can now also predict how a user will rate a movie.\n",
    "\n",
    "I would like to combine these two approaches to tie together my reccomender system.\n",
    "* First taking users data to find X number of similar movies,\n",
    "* Then predicting ratings for those movies based on our FunkSVD model,\n",
    "* Finally reccomend the user the top rated movie of the similar movies. "
   ]
  },
  {
   "cell_type": "code",
   "execution_count": null,
   "id": "5a35d54a",
   "metadata": {},
   "outputs": [],
   "source": []
  }
 ],
 "metadata": {
  "colab": {
   "provenance": []
  },
  "kernelspec": {
   "display_name": "Python 3 (ipykernel)",
   "language": "python",
   "name": "python3"
  },
  "language_info": {
   "codemirror_mode": {
    "name": "ipython",
    "version": 3
   },
   "file_extension": ".py",
   "mimetype": "text/x-python",
   "name": "python",
   "nbconvert_exporter": "python",
   "pygments_lexer": "ipython3",
   "version": "3.11.5"
  }
 },
 "nbformat": 4,
 "nbformat_minor": 5
}
