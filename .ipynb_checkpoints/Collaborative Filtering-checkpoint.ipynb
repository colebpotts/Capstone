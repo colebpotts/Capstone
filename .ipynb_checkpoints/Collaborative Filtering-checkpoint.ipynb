{
 "cells": [
  {
   "cell_type": "markdown",
   "id": "837f6a50",
   "metadata": {},
   "source": [
    "# Sp.3 - Capstone - Collaborative Filtering\n",
    "\n",
    "\n",
    "**Project:** Movie Reccomender System (Captstone)\n",
    "\n",
    "**Date Created:** January 4th 2024\n",
    "\n",
    "**Author:** Cole Beevor-Potts\n"
   ]
  },
  {
   "cell_type": "markdown",
   "id": "9732a3bf",
   "metadata": {},
   "source": [
    "## Introduction\n",
    "This workbook is part of my movie reccomender system for my Brainstation Capstone Project. This workbook will be devoted to collaborative filtering.\n",
    "\n",
    "We will work on a Letterboxd dataset from Kaggle. This dataset has 3 files:\n",
    "* Movies data \n",
    "* Users Data\n",
    "* Ratings data\n",
    "\n",
    "This workbook will primarily look at the ratings data. \n",
    "\n",
    "We will be performing collaborative filtering using funkSVD for matrix factoriziation. Hoping to pick up on some of the latent meaning behind ratings.\n",
    "\n",
    "We will be able to evaluate our collaborative model with Root Mean Square Error.\n",
    "\n",
    "Lets dive in."
   ]
  },
  {
   "cell_type": "code",
   "execution_count": 1,
   "id": "698452ef",
   "metadata": {},
   "outputs": [],
   "source": [
    "import pandas as pd\n",
    "import numpy as np\n",
    "import matplotlib.pyplot as plt\n",
    "import seaborn as sns"
   ]
  },
  {
   "cell_type": "code",
   "execution_count": 2,
   "id": "97aba507",
   "metadata": {},
   "outputs": [],
   "source": [
    "ratings = pd.read_csv(\"data/ratings_export.csv\")"
   ]
  },
  {
   "cell_type": "code",
   "execution_count": 3,
   "id": "2f14ab45",
   "metadata": {
    "scrolled": true
   },
   "outputs": [
    {
     "data": {
      "text/plain": [
       "(11078167, 4)"
      ]
     },
     "execution_count": 3,
     "metadata": {},
     "output_type": "execute_result"
    }
   ],
   "source": [
    "ratings.shape"
   ]
  },
  {
   "cell_type": "markdown",
   "id": "cd5274e4",
   "metadata": {},
   "source": [
    "We have 11 million unique ratings. We will probably set a minimum threshold so that we only look at movies with a certain number of ratings.\n",
    "\n",
    "For the content side of our reccomendation system, we set this threshold to 400 ratings."
   ]
  },
  {
   "cell_type": "code",
   "execution_count": 4,
   "id": "849634a9",
   "metadata": {
    "scrolled": true
   },
   "outputs": [
    {
     "data": {
      "text/html": [
       "<div>\n",
       "<style scoped>\n",
       "    .dataframe tbody tr th:only-of-type {\n",
       "        vertical-align: middle;\n",
       "    }\n",
       "\n",
       "    .dataframe tbody tr th {\n",
       "        vertical-align: top;\n",
       "    }\n",
       "\n",
       "    .dataframe thead th {\n",
       "        text-align: right;\n",
       "    }\n",
       "</style>\n",
       "<table border=\"1\" class=\"dataframe\">\n",
       "  <thead>\n",
       "    <tr style=\"text-align: right;\">\n",
       "      <th></th>\n",
       "      <th>_id</th>\n",
       "      <th>movie_id</th>\n",
       "      <th>rating_val</th>\n",
       "      <th>user_id</th>\n",
       "    </tr>\n",
       "  </thead>\n",
       "  <tbody>\n",
       "    <tr>\n",
       "      <th>0</th>\n",
       "      <td>5fc57c5d6758f6963451a07f</td>\n",
       "      <td>feast-2014</td>\n",
       "      <td>7</td>\n",
       "      <td>deathproof</td>\n",
       "    </tr>\n",
       "    <tr>\n",
       "      <th>1</th>\n",
       "      <td>5fc57c5d6758f6963451a063</td>\n",
       "      <td>loving-2016</td>\n",
       "      <td>7</td>\n",
       "      <td>deathproof</td>\n",
       "    </tr>\n",
       "    <tr>\n",
       "      <th>2</th>\n",
       "      <td>5fc57c5d6758f6963451a0ef</td>\n",
       "      <td>scripted-content</td>\n",
       "      <td>7</td>\n",
       "      <td>deathproof</td>\n",
       "    </tr>\n",
       "    <tr>\n",
       "      <th>3</th>\n",
       "      <td>5fc57c5d6758f6963451a060</td>\n",
       "      <td>the-future</td>\n",
       "      <td>4</td>\n",
       "      <td>deathproof</td>\n",
       "    </tr>\n",
       "    <tr>\n",
       "      <th>4</th>\n",
       "      <td>5fc57c5c6758f69634519398</td>\n",
       "      <td>mank</td>\n",
       "      <td>5</td>\n",
       "      <td>deathproof</td>\n",
       "    </tr>\n",
       "  </tbody>\n",
       "</table>\n",
       "</div>"
      ],
      "text/plain": [
       "                        _id          movie_id  rating_val     user_id\n",
       "0  5fc57c5d6758f6963451a07f        feast-2014           7  deathproof\n",
       "1  5fc57c5d6758f6963451a063       loving-2016           7  deathproof\n",
       "2  5fc57c5d6758f6963451a0ef  scripted-content           7  deathproof\n",
       "3  5fc57c5d6758f6963451a060        the-future           4  deathproof\n",
       "4  5fc57c5c6758f69634519398              mank           5  deathproof"
      ]
     },
     "execution_count": 4,
     "metadata": {},
     "output_type": "execute_result"
    }
   ],
   "source": [
    "ratings.head()"
   ]
  },
  {
   "cell_type": "markdown",
   "id": "44f2fef8",
   "metadata": {},
   "source": [
    "This is a nice a simple table we wont have to do much more pre-processing on to get our Utility matrix."
   ]
  },
  {
   "cell_type": "markdown",
   "id": "de1cad53",
   "metadata": {},
   "source": [
    "### Extra EDA\n",
    "\n",
    "Lets look quickly at the distribution of ratings per movie and the ratins per user."
   ]
  },
  {
   "cell_type": "code",
   "execution_count": 5,
   "id": "ad3dffdd",
   "metadata": {
    "scrolled": false
   },
   "outputs": [
    {
     "data": {
      "image/png": "[encoded data removed]",
      "text/plain": [
       "<Figure size 1000x600 with 1 Axes>"
      ]
     },
     "metadata": {},
     "output_type": "display_data"
    }
   ],
   "source": [
    "#Ratings per movie:\n",
    "# Grouping by movie_id and counting the number of ratings for each movie\n",
    "ratings_per_movie = ratings.groupby('movie_id').size()\n",
    "\n",
    "# Plotting the distribution of reviews per movie\n",
    "plt.figure(figsize=(10, 6))\n",
    "plt.hist(ratings_per_movie, bins=200, color='skyblue', edgecolor='black')\n",
    "plt.title('Distribution of Reviews per Movie')\n",
    "plt.xlabel('Number of Reviews')\n",
    "plt.ylabel('Frequency')\n",
    "plt.grid(True)\n",
    "plt.show()"
   ]
  },
  {
   "cell_type": "markdown",
   "id": "e6e2e1a8",
   "metadata": {},
   "source": [
    "As we can see this is greatly skewed right, we will probably set a threshold so that we do not have to deal with so many nulls (even though SVD should make this easier).\n",
    "\n",
    "**Note that there are approximately 286k movies in our dataset as is.**"
   ]
  },
  {
   "cell_type": "code",
   "execution_count": 6,
   "id": "c1781809",
   "metadata": {
    "scrolled": false
   },
   "outputs": [
    {
     "data": {
      "text/plain": [
       "286070"
      ]
     },
     "execution_count": 6,
     "metadata": {},
     "output_type": "execute_result"
    }
   ],
   "source": [
    "ratings['movie_id'].nunique()"
   ]
  },
  {
   "cell_type": "code",
   "execution_count": 102,
   "id": "f79f8c3a",
   "metadata": {},
   "outputs": [
    {
     "data": {
      "text/plain": [
       "7477"
      ]
     },
     "execution_count": 102,
     "metadata": {},
     "output_type": "execute_result"
    }
   ],
   "source": [
    "#unique users in our dataset\n",
    "ratings['user_id'].nunique()"
   ]
  },
  {
   "cell_type": "markdown",
   "id": "91683bc8",
   "metadata": {},
   "source": [
    "Lets start by setting the threshold the same as our content side of the reccomender system, minimum 400 ratings."
   ]
  },
  {
   "cell_type": "code",
   "execution_count": 81,
   "id": "1ceee856",
   "metadata": {},
   "outputs": [],
   "source": [
    "threshold = 1500 \n",
    "\n",
    "# Grouping by movie_id and counting the number of ratings for each movie\n",
    "movie_ratings_count = ratings.groupby('movie_id').size()\n",
    "\n",
    "# Filtering movies meeting the threshold value of ratings\n",
    "popular_movies = movie_ratings_count[movie_ratings_count >= threshold]\n",
    "\n",
    "# Extracting the movie IDs that meet the criteria\n",
    "popular_movie_ids = popular_movies.index.tolist()\n",
    "\n",
    "# Filtering the original DataFrame for movies with at least 400 ratings\n",
    "ratings_min = ratings[ratings['movie_id'].isin(popular_movie_ids)]"
   ]
  },
  {
   "cell_type": "code",
   "execution_count": 82,
   "id": "b34dcb6e",
   "metadata": {
    "scrolled": false
   },
   "outputs": [
    {
     "data": {
      "text/html": [
       "<div>\n",
       "<style scoped>\n",
       "    .dataframe tbody tr th:only-of-type {\n",
       "        vertical-align: middle;\n",
       "    }\n",
       "\n",
       "    .dataframe tbody tr th {\n",
       "        vertical-align: top;\n",
       "    }\n",
       "\n",
       "    .dataframe thead th {\n",
       "        text-align: right;\n",
       "    }\n",
       "</style>\n",
       "<table border=\"1\" class=\"dataframe\">\n",
       "  <thead>\n",
       "    <tr style=\"text-align: right;\">\n",
       "      <th></th>\n",
       "      <th>_id</th>\n",
       "      <th>movie_id</th>\n",
       "      <th>rating_val</th>\n",
       "      <th>user_id</th>\n",
       "    </tr>\n",
       "  </thead>\n",
       "  <tbody>\n",
       "    <tr>\n",
       "      <th>4</th>\n",
       "      <td>5fc57c5c6758f69634519398</td>\n",
       "      <td>mank</td>\n",
       "      <td>5</td>\n",
       "      <td>deathproof</td>\n",
       "    </tr>\n",
       "    <tr>\n",
       "      <th>6</th>\n",
       "      <td>5fc57c5d6758f6963451a172</td>\n",
       "      <td>the-social-network</td>\n",
       "      <td>10</td>\n",
       "      <td>deathproof</td>\n",
       "    </tr>\n",
       "    <tr>\n",
       "      <th>8</th>\n",
       "      <td>5fc57c5d6758f6963451a0a0</td>\n",
       "      <td>saw-iii</td>\n",
       "      <td>7</td>\n",
       "      <td>deathproof</td>\n",
       "    </tr>\n",
       "    <tr>\n",
       "      <th>10</th>\n",
       "      <td>5fc57c5d6758f6963451a0e0</td>\n",
       "      <td>the-girl-on-the-train-2016</td>\n",
       "      <td>8</td>\n",
       "      <td>deathproof</td>\n",
       "    </tr>\n",
       "    <tr>\n",
       "      <th>11</th>\n",
       "      <td>5fc57c5d6758f6963451a11d</td>\n",
       "      <td>yes-man</td>\n",
       "      <td>6</td>\n",
       "      <td>deathproof</td>\n",
       "    </tr>\n",
       "  </tbody>\n",
       "</table>\n",
       "</div>"
      ],
      "text/plain": [
       "                         _id                    movie_id  rating_val  \\\n",
       "4   5fc57c5c6758f69634519398                        mank           5   \n",
       "6   5fc57c5d6758f6963451a172          the-social-network          10   \n",
       "8   5fc57c5d6758f6963451a0a0                     saw-iii           7   \n",
       "10  5fc57c5d6758f6963451a0e0  the-girl-on-the-train-2016           8   \n",
       "11  5fc57c5d6758f6963451a11d                     yes-man           6   \n",
       "\n",
       "       user_id  \n",
       "4   deathproof  \n",
       "6   deathproof  \n",
       "8   deathproof  \n",
       "10  deathproof  \n",
       "11  deathproof  "
      ]
     },
     "execution_count": 82,
     "metadata": {},
     "output_type": "execute_result"
    }
   ],
   "source": [
    "#sanity check\n",
    "ratings_min.head()"
   ]
  },
  {
   "cell_type": "code",
   "execution_count": 83,
   "id": "6519d6a3",
   "metadata": {
    "scrolled": true
   },
   "outputs": [
    {
     "data": {
      "text/plain": [
       "(3583886, 4)"
      ]
     },
     "execution_count": 83,
     "metadata": {},
     "output_type": "execute_result"
    }
   ],
   "source": [
    "#shape of new ratings dataset with threshold \n",
    "ratings_min.shape"
   ]
  },
  {
   "cell_type": "code",
   "execution_count": 84,
   "id": "6e8fe37f",
   "metadata": {
    "scrolled": false
   },
   "outputs": [
    {
     "data": {
      "text/plain": [
       "1434"
      ]
     },
     "execution_count": 84,
     "metadata": {},
     "output_type": "execute_result"
    }
   ],
   "source": [
    "#number of movies in our new df\n",
    "ratings_min['movie_id'].nunique()"
   ]
  },
  {
   "cell_type": "code",
   "execution_count": 85,
   "id": "1b8f48fb",
   "metadata": {},
   "outputs": [
    {
     "data": {
      "text/plain": [
       "7454"
      ]
     },
     "execution_count": 85,
     "metadata": {},
     "output_type": "execute_result"
    }
   ],
   "source": [
    "#number of users in our new df\n",
    "ratings_min['user_id'].nunique()"
   ]
  },
  {
   "cell_type": "code",
   "execution_count": 86,
   "id": "64281bcf",
   "metadata": {
    "scrolled": true
   },
   "outputs": [
    {
     "name": "stdout",
     "output_type": "stream",
     "text": [
      "Percentage of ratings: 32.35089342848867, Percentage of movies: 0.5012759114901947\n"
     ]
    }
   ],
   "source": [
    "#Percent of ratings from original ratings df\n",
    "threshold_effect_ratings = 100 * ratings_min.shape[0]/ratings.shape[0]\n",
    "\n",
    "#Percent of movies from original ratings df\n",
    "threshold_effect_movies = 100 * ratings_min['movie_id'].nunique()/ratings['movie_id'].nunique()\n",
    "\n",
    "print(f\"Percentage of ratings: {threshold_effect_ratings}, Percentage of movies: {threshold_effect_movies}\")"
   ]
  },
  {
   "cell_type": "markdown",
   "id": "b32d631d",
   "metadata": {},
   "source": [
    "Though we only kept a mere 2.06% of our orignal 286k movies (5891 movies), we kept a whopping 63.34% of our ~11 million ratings (7,016,549 ratings). We will now have a much more full utility matrix in the steps to come.\n",
    "\n",
    "Lets build our utility martix now: \n"
   ]
  },
  {
   "cell_type": "code",
   "execution_count": 87,
   "id": "05badc4b",
   "metadata": {},
   "outputs": [
    {
     "data": {
      "text/plain": [
       "_id           0\n",
       "movie_id      0\n",
       "rating_val    0\n",
       "user_id       0\n",
       "dtype: int64"
      ]
     },
     "execution_count": 87,
     "metadata": {},
     "output_type": "execute_result"
    }
   ],
   "source": [
    "ratings_min.isna().sum()"
   ]
  },
  {
   "cell_type": "code",
   "execution_count": 88,
   "id": "3d1cf7b4",
   "metadata": {},
   "outputs": [],
   "source": [
    "# Create a user-item matrix (assuming unique users and movies)\n",
    "users = ratings_min['user_id'].unique()\n",
    "movies = ratings_min['movie_id'].unique()\n",
    "\n",
    "num_users = len(users)\n",
    "num_movies = len(movies)\n",
    "\n",
    "# np.nan means they user has not reviewed the movie\n",
    "R = np.full((num_users, num_movies), np.nan)\n",
    "\n",
    "# Build the user-item matrix\n",
    "for row in ratings_min.itertuples():\n",
    "    user = np.where(users == row.user_id)[0][0]  # Index of user\n",
    "    movie = np.where(movies == row.movie_id)[0][0]  # Index of movie\n",
    "    rating = row.rating_val\n",
    "    \n",
    "    R[user, movie] = rating\n",
    "\n",
    "R_df = pd.DataFrame(data=R, index=users, columns=movies)"
   ]
  },
  {
   "cell_type": "code",
   "execution_count": 89,
   "id": "fff890e4",
   "metadata": {
    "scrolled": true
   },
   "outputs": [
    {
     "data": {
      "text/html": [
       "<div>\n",
       "<style scoped>\n",
       "    .dataframe tbody tr th:only-of-type {\n",
       "        vertical-align: middle;\n",
       "    }\n",
       "\n",
       "    .dataframe tbody tr th {\n",
       "        vertical-align: top;\n",
       "    }\n",
       "\n",
       "    .dataframe thead th {\n",
       "        text-align: right;\n",
       "    }\n",
       "</style>\n",
       "<table border=\"1\" class=\"dataframe\">\n",
       "  <thead>\n",
       "    <tr style=\"text-align: right;\">\n",
       "      <th></th>\n",
       "      <th>mank</th>\n",
       "      <th>the-social-network</th>\n",
       "      <th>saw-iii</th>\n",
       "      <th>the-girl-on-the-train-2016</th>\n",
       "      <th>yes-man</th>\n",
       "      <th>insidious</th>\n",
       "      <th>nerve-2016</th>\n",
       "      <th>mud</th>\n",
       "      <th>hush-2016</th>\n",
       "      <th>deadpool</th>\n",
       "      <th>...</th>\n",
       "      <th>eternals</th>\n",
       "      <th>malignant-2021</th>\n",
       "      <th>squid-game</th>\n",
       "      <th>licorice-pizza</th>\n",
       "      <th>house-of-gucci</th>\n",
       "      <th>tick-tick-boom-2021</th>\n",
       "      <th>encanto</th>\n",
       "      <th>nightmare-alley-2021</th>\n",
       "      <th>ex-machina-2015</th>\n",
       "      <th>scream-2022</th>\n",
       "    </tr>\n",
       "  </thead>\n",
       "  <tbody>\n",
       "    <tr>\n",
       "      <th>deathproof</th>\n",
       "      <td>5.0</td>\n",
       "      <td>10.0</td>\n",
       "      <td>7.0</td>\n",
       "      <td>8.0</td>\n",
       "      <td>6.0</td>\n",
       "      <td>10.0</td>\n",
       "      <td>7.0</td>\n",
       "      <td>4.0</td>\n",
       "      <td>8.0</td>\n",
       "      <td>5.0</td>\n",
       "      <td>...</td>\n",
       "      <td>6.0</td>\n",
       "      <td>8.0</td>\n",
       "      <td>NaN</td>\n",
       "      <td>7.0</td>\n",
       "      <td>NaN</td>\n",
       "      <td>NaN</td>\n",
       "      <td>NaN</td>\n",
       "      <td>6.0</td>\n",
       "      <td>9.0</td>\n",
       "      <td>7.0</td>\n",
       "    </tr>\n",
       "    <tr>\n",
       "      <th>kurstboy</th>\n",
       "      <td>6.0</td>\n",
       "      <td>10.0</td>\n",
       "      <td>NaN</td>\n",
       "      <td>NaN</td>\n",
       "      <td>NaN</td>\n",
       "      <td>NaN</td>\n",
       "      <td>NaN</td>\n",
       "      <td>NaN</td>\n",
       "      <td>NaN</td>\n",
       "      <td>5.0</td>\n",
       "      <td>...</td>\n",
       "      <td>NaN</td>\n",
       "      <td>7.0</td>\n",
       "      <td>NaN</td>\n",
       "      <td>8.0</td>\n",
       "      <td>7.0</td>\n",
       "      <td>8.0</td>\n",
       "      <td>7.0</td>\n",
       "      <td>8.0</td>\n",
       "      <td>9.0</td>\n",
       "      <td>NaN</td>\n",
       "    </tr>\n",
       "    <tr>\n",
       "      <th>davidehrlich</th>\n",
       "      <td>8.0</td>\n",
       "      <td>10.0</td>\n",
       "      <td>NaN</td>\n",
       "      <td>3.0</td>\n",
       "      <td>NaN</td>\n",
       "      <td>NaN</td>\n",
       "      <td>7.0</td>\n",
       "      <td>NaN</td>\n",
       "      <td>NaN</td>\n",
       "      <td>3.0</td>\n",
       "      <td>...</td>\n",
       "      <td>5.0</td>\n",
       "      <td>NaN</td>\n",
       "      <td>NaN</td>\n",
       "      <td>10.0</td>\n",
       "      <td>7.0</td>\n",
       "      <td>7.0</td>\n",
       "      <td>NaN</td>\n",
       "      <td>7.0</td>\n",
       "      <td>6.0</td>\n",
       "      <td>NaN</td>\n",
       "    </tr>\n",
       "    <tr>\n",
       "      <th>adrianbalboa</th>\n",
       "      <td>8.0</td>\n",
       "      <td>10.0</td>\n",
       "      <td>7.0</td>\n",
       "      <td>7.0</td>\n",
       "      <td>NaN</td>\n",
       "      <td>NaN</td>\n",
       "      <td>5.0</td>\n",
       "      <td>8.0</td>\n",
       "      <td>8.0</td>\n",
       "      <td>7.0</td>\n",
       "      <td>...</td>\n",
       "      <td>NaN</td>\n",
       "      <td>NaN</td>\n",
       "      <td>NaN</td>\n",
       "      <td>NaN</td>\n",
       "      <td>NaN</td>\n",
       "      <td>NaN</td>\n",
       "      <td>NaN</td>\n",
       "      <td>NaN</td>\n",
       "      <td>NaN</td>\n",
       "      <td>NaN</td>\n",
       "    </tr>\n",
       "    <tr>\n",
       "      <th>ingridgoeswest</th>\n",
       "      <td>NaN</td>\n",
       "      <td>10.0</td>\n",
       "      <td>NaN</td>\n",
       "      <td>1.0</td>\n",
       "      <td>4.0</td>\n",
       "      <td>9.0</td>\n",
       "      <td>7.0</td>\n",
       "      <td>9.0</td>\n",
       "      <td>7.0</td>\n",
       "      <td>7.0</td>\n",
       "      <td>...</td>\n",
       "      <td>NaN</td>\n",
       "      <td>9.0</td>\n",
       "      <td>NaN</td>\n",
       "      <td>7.0</td>\n",
       "      <td>7.0</td>\n",
       "      <td>NaN</td>\n",
       "      <td>NaN</td>\n",
       "      <td>7.0</td>\n",
       "      <td>10.0</td>\n",
       "      <td>NaN</td>\n",
       "    </tr>\n",
       "    <tr>\n",
       "      <th>...</th>\n",
       "      <td>...</td>\n",
       "      <td>...</td>\n",
       "      <td>...</td>\n",
       "      <td>...</td>\n",
       "      <td>...</td>\n",
       "      <td>...</td>\n",
       "      <td>...</td>\n",
       "      <td>...</td>\n",
       "      <td>...</td>\n",
       "      <td>...</td>\n",
       "      <td>...</td>\n",
       "      <td>...</td>\n",
       "      <td>...</td>\n",
       "      <td>...</td>\n",
       "      <td>...</td>\n",
       "      <td>...</td>\n",
       "      <td>...</td>\n",
       "      <td>...</td>\n",
       "      <td>...</td>\n",
       "      <td>...</td>\n",
       "      <td>...</td>\n",
       "    </tr>\n",
       "    <tr>\n",
       "      <th>mateazember</th>\n",
       "      <td>NaN</td>\n",
       "      <td>NaN</td>\n",
       "      <td>NaN</td>\n",
       "      <td>NaN</td>\n",
       "      <td>NaN</td>\n",
       "      <td>NaN</td>\n",
       "      <td>NaN</td>\n",
       "      <td>NaN</td>\n",
       "      <td>NaN</td>\n",
       "      <td>NaN</td>\n",
       "      <td>...</td>\n",
       "      <td>NaN</td>\n",
       "      <td>NaN</td>\n",
       "      <td>NaN</td>\n",
       "      <td>NaN</td>\n",
       "      <td>NaN</td>\n",
       "      <td>NaN</td>\n",
       "      <td>2.0</td>\n",
       "      <td>NaN</td>\n",
       "      <td>NaN</td>\n",
       "      <td>NaN</td>\n",
       "    </tr>\n",
       "    <tr>\n",
       "      <th>finnvor1</th>\n",
       "      <td>NaN</td>\n",
       "      <td>NaN</td>\n",
       "      <td>NaN</td>\n",
       "      <td>NaN</td>\n",
       "      <td>NaN</td>\n",
       "      <td>NaN</td>\n",
       "      <td>NaN</td>\n",
       "      <td>NaN</td>\n",
       "      <td>NaN</td>\n",
       "      <td>NaN</td>\n",
       "      <td>...</td>\n",
       "      <td>NaN</td>\n",
       "      <td>NaN</td>\n",
       "      <td>NaN</td>\n",
       "      <td>10.0</td>\n",
       "      <td>NaN</td>\n",
       "      <td>10.0</td>\n",
       "      <td>NaN</td>\n",
       "      <td>NaN</td>\n",
       "      <td>8.0</td>\n",
       "      <td>NaN</td>\n",
       "    </tr>\n",
       "    <tr>\n",
       "      <th>daniel</th>\n",
       "      <td>6.0</td>\n",
       "      <td>8.0</td>\n",
       "      <td>5.0</td>\n",
       "      <td>6.0</td>\n",
       "      <td>NaN</td>\n",
       "      <td>6.0</td>\n",
       "      <td>6.0</td>\n",
       "      <td>NaN</td>\n",
       "      <td>6.0</td>\n",
       "      <td>7.0</td>\n",
       "      <td>...</td>\n",
       "      <td>4.0</td>\n",
       "      <td>7.0</td>\n",
       "      <td>NaN</td>\n",
       "      <td>NaN</td>\n",
       "      <td>NaN</td>\n",
       "      <td>NaN</td>\n",
       "      <td>NaN</td>\n",
       "      <td>7.0</td>\n",
       "      <td>8.0</td>\n",
       "      <td>NaN</td>\n",
       "    </tr>\n",
       "    <tr>\n",
       "      <th>butterflyfilms</th>\n",
       "      <td>8.0</td>\n",
       "      <td>NaN</td>\n",
       "      <td>7.0</td>\n",
       "      <td>NaN</td>\n",
       "      <td>6.0</td>\n",
       "      <td>NaN</td>\n",
       "      <td>NaN</td>\n",
       "      <td>NaN</td>\n",
       "      <td>NaN</td>\n",
       "      <td>8.0</td>\n",
       "      <td>...</td>\n",
       "      <td>6.0</td>\n",
       "      <td>NaN</td>\n",
       "      <td>6.0</td>\n",
       "      <td>NaN</td>\n",
       "      <td>NaN</td>\n",
       "      <td>NaN</td>\n",
       "      <td>5.0</td>\n",
       "      <td>NaN</td>\n",
       "      <td>NaN</td>\n",
       "      <td>NaN</td>\n",
       "    </tr>\n",
       "    <tr>\n",
       "      <th>poellnerson</th>\n",
       "      <td>6.0</td>\n",
       "      <td>8.0</td>\n",
       "      <td>4.0</td>\n",
       "      <td>NaN</td>\n",
       "      <td>5.0</td>\n",
       "      <td>3.0</td>\n",
       "      <td>5.0</td>\n",
       "      <td>NaN</td>\n",
       "      <td>7.0</td>\n",
       "      <td>7.0</td>\n",
       "      <td>...</td>\n",
       "      <td>4.0</td>\n",
       "      <td>NaN</td>\n",
       "      <td>7.0</td>\n",
       "      <td>7.0</td>\n",
       "      <td>6.0</td>\n",
       "      <td>7.0</td>\n",
       "      <td>6.0</td>\n",
       "      <td>7.0</td>\n",
       "      <td>NaN</td>\n",
       "      <td>NaN</td>\n",
       "    </tr>\n",
       "  </tbody>\n",
       "</table>\n",
       "<p>7454 rows × 1434 columns</p>\n",
       "</div>"
      ],
      "text/plain": [
       "                mank  the-social-network  saw-iii  the-girl-on-the-train-2016  \\\n",
       "deathproof       5.0                10.0      7.0                         8.0   \n",
       "kurstboy         6.0                10.0      NaN                         NaN   \n",
       "davidehrlich     8.0                10.0      NaN                         3.0   \n",
       "adrianbalboa     8.0                10.0      7.0                         7.0   \n",
       "ingridgoeswest   NaN                10.0      NaN                         1.0   \n",
       "...              ...                 ...      ...                         ...   \n",
       "mateazember      NaN                 NaN      NaN                         NaN   \n",
       "finnvor1         NaN                 NaN      NaN                         NaN   \n",
       "daniel           6.0                 8.0      5.0                         6.0   \n",
       "butterflyfilms   8.0                 NaN      7.0                         NaN   \n",
       "poellnerson      6.0                 8.0      4.0                         NaN   \n",
       "\n",
       "                yes-man  insidious  nerve-2016  mud  hush-2016  deadpool  ...  \\\n",
       "deathproof          6.0       10.0         7.0  4.0        8.0       5.0  ...   \n",
       "kurstboy            NaN        NaN         NaN  NaN        NaN       5.0  ...   \n",
       "davidehrlich        NaN        NaN         7.0  NaN        NaN       3.0  ...   \n",
       "adrianbalboa        NaN        NaN         5.0  8.0        8.0       7.0  ...   \n",
       "ingridgoeswest      4.0        9.0         7.0  9.0        7.0       7.0  ...   \n",
       "...                 ...        ...         ...  ...        ...       ...  ...   \n",
       "mateazember         NaN        NaN         NaN  NaN        NaN       NaN  ...   \n",
       "finnvor1            NaN        NaN         NaN  NaN        NaN       NaN  ...   \n",
       "daniel              NaN        6.0         6.0  NaN        6.0       7.0  ...   \n",
       "butterflyfilms      6.0        NaN         NaN  NaN        NaN       8.0  ...   \n",
       "poellnerson         5.0        3.0         5.0  NaN        7.0       7.0  ...   \n",
       "\n",
       "                eternals  malignant-2021  squid-game  licorice-pizza  \\\n",
       "deathproof           6.0             8.0         NaN             7.0   \n",
       "kurstboy             NaN             7.0         NaN             8.0   \n",
       "davidehrlich         5.0             NaN         NaN            10.0   \n",
       "adrianbalboa         NaN             NaN         NaN             NaN   \n",
       "ingridgoeswest       NaN             9.0         NaN             7.0   \n",
       "...                  ...             ...         ...             ...   \n",
       "mateazember          NaN             NaN         NaN             NaN   \n",
       "finnvor1             NaN             NaN         NaN            10.0   \n",
       "daniel               4.0             7.0         NaN             NaN   \n",
       "butterflyfilms       6.0             NaN         6.0             NaN   \n",
       "poellnerson          4.0             NaN         7.0             7.0   \n",
       "\n",
       "                house-of-gucci  tick-tick-boom-2021  encanto  \\\n",
       "deathproof                 NaN                  NaN      NaN   \n",
       "kurstboy                   7.0                  8.0      7.0   \n",
       "davidehrlich               7.0                  7.0      NaN   \n",
       "adrianbalboa               NaN                  NaN      NaN   \n",
       "ingridgoeswest             7.0                  NaN      NaN   \n",
       "...                        ...                  ...      ...   \n",
       "mateazember                NaN                  NaN      2.0   \n",
       "finnvor1                   NaN                 10.0      NaN   \n",
       "daniel                     NaN                  NaN      NaN   \n",
       "butterflyfilms             NaN                  NaN      5.0   \n",
       "poellnerson                6.0                  7.0      6.0   \n",
       "\n",
       "                nightmare-alley-2021  ex-machina-2015  scream-2022  \n",
       "deathproof                       6.0              9.0          7.0  \n",
       "kurstboy                         8.0              9.0          NaN  \n",
       "davidehrlich                     7.0              6.0          NaN  \n",
       "adrianbalboa                     NaN              NaN          NaN  \n",
       "ingridgoeswest                   7.0             10.0          NaN  \n",
       "...                              ...              ...          ...  \n",
       "mateazember                      NaN              NaN          NaN  \n",
       "finnvor1                         NaN              8.0          NaN  \n",
       "daniel                           7.0              8.0          NaN  \n",
       "butterflyfilms                   NaN              NaN          NaN  \n",
       "poellnerson                      7.0              NaN          NaN  \n",
       "\n",
       "[7454 rows x 1434 columns]"
      ]
     },
     "execution_count": 89,
     "metadata": {},
     "output_type": "execute_result"
    }
   ],
   "source": [
    "R_df"
   ]
  },
  {
   "cell_type": "markdown",
   "id": "9ee03293",
   "metadata": {},
   "source": [
    "Wicked! Lets save this as a CSV as it took 45 minutes to run."
   ]
  },
  {
   "cell_type": "code",
   "execution_count": 90,
   "id": "2a224e3e",
   "metadata": {},
   "outputs": [],
   "source": [
    "file_path = 'data/R_df_smaller.csv'\n",
    "R_df.to_csv(file_path)"
   ]
  },
  {
   "cell_type": "markdown",
   "id": "5ce78409",
   "metadata": {},
   "source": [
    "Now that we have our User-Item utility matrix we'll be employing a technique known as FunkSVD (short for Funk Singular Value Decomposition). This approach tackles the challenge as an optimization puzzle.\n",
    "\n",
    "Our starting point is a matrix with known data, and our goal is to uncover 𝑥 latent variables. The aim is to discover two matrices, 𝑈 and 𝑀, that closely approximate the values already identified in our dataset.\n",
    "\n",
    "First, lets pip install scikit learn's surprise package which we will need:"
   ]
  },
  {
   "cell_type": "code",
   "execution_count": 15,
   "id": "a716e5b8",
   "metadata": {
    "scrolled": true
   },
   "outputs": [
    {
     "name": "stdout",
     "output_type": "stream",
     "text": [
      "Requirement already satisfied: scikit-surprise in /Users/colebeevor-potts/anaconda3/lib/python3.11/site-packages (1.1.3)\n",
      "Requirement already satisfied: joblib>=1.0.0 in /Users/colebeevor-potts/anaconda3/lib/python3.11/site-packages (from scikit-surprise) (1.2.0)\n",
      "Requirement already satisfied: numpy>=1.17.3 in /Users/colebeevor-potts/anaconda3/lib/python3.11/site-packages (from scikit-surprise) (1.24.3)\n",
      "Requirement already satisfied: scipy>=1.3.2 in /Users/colebeevor-potts/anaconda3/lib/python3.11/site-packages (from scikit-surprise) (1.11.3)\n"
     ]
    }
   ],
   "source": [
    "!pip install scikit-surprise"
   ]
  },
  {
   "cell_type": "code",
   "execution_count": 16,
   "id": "1d6ca85a",
   "metadata": {},
   "outputs": [],
   "source": [
    "from surprise import Dataset\n",
    "from surprise.reader import Reader\n",
    "from surprise.prediction_algorithms.matrix_factorization import SVD as FunkSVD"
   ]
  },
  {
   "cell_type": "markdown",
   "id": "f47c8327",
   "metadata": {},
   "source": [
    "Now we will load our data using suprise:"
   ]
  },
  {
   "cell_type": "code",
   "execution_count": 91,
   "id": "ef582956",
   "metadata": {},
   "outputs": [
    {
     "data": {
      "text/html": [
       "<div>\n",
       "<style scoped>\n",
       "    .dataframe tbody tr th:only-of-type {\n",
       "        vertical-align: middle;\n",
       "    }\n",
       "\n",
       "    .dataframe tbody tr th {\n",
       "        vertical-align: top;\n",
       "    }\n",
       "\n",
       "    .dataframe thead th {\n",
       "        text-align: right;\n",
       "    }\n",
       "</style>\n",
       "<table border=\"1\" class=\"dataframe\">\n",
       "  <thead>\n",
       "    <tr style=\"text-align: right;\">\n",
       "      <th></th>\n",
       "      <th>_id</th>\n",
       "      <th>movie_id</th>\n",
       "      <th>rating_val</th>\n",
       "      <th>user_id</th>\n",
       "    </tr>\n",
       "  </thead>\n",
       "  <tbody>\n",
       "    <tr>\n",
       "      <th>4</th>\n",
       "      <td>5fc57c5c6758f69634519398</td>\n",
       "      <td>mank</td>\n",
       "      <td>5</td>\n",
       "      <td>deathproof</td>\n",
       "    </tr>\n",
       "    <tr>\n",
       "      <th>6</th>\n",
       "      <td>5fc57c5d6758f6963451a172</td>\n",
       "      <td>the-social-network</td>\n",
       "      <td>10</td>\n",
       "      <td>deathproof</td>\n",
       "    </tr>\n",
       "    <tr>\n",
       "      <th>8</th>\n",
       "      <td>5fc57c5d6758f6963451a0a0</td>\n",
       "      <td>saw-iii</td>\n",
       "      <td>7</td>\n",
       "      <td>deathproof</td>\n",
       "    </tr>\n",
       "    <tr>\n",
       "      <th>10</th>\n",
       "      <td>5fc57c5d6758f6963451a0e0</td>\n",
       "      <td>the-girl-on-the-train-2016</td>\n",
       "      <td>8</td>\n",
       "      <td>deathproof</td>\n",
       "    </tr>\n",
       "    <tr>\n",
       "      <th>11</th>\n",
       "      <td>5fc57c5d6758f6963451a11d</td>\n",
       "      <td>yes-man</td>\n",
       "      <td>6</td>\n",
       "      <td>deathproof</td>\n",
       "    </tr>\n",
       "  </tbody>\n",
       "</table>\n",
       "</div>"
      ],
      "text/plain": [
       "                         _id                    movie_id  rating_val  \\\n",
       "4   5fc57c5c6758f69634519398                        mank           5   \n",
       "6   5fc57c5d6758f6963451a172          the-social-network          10   \n",
       "8   5fc57c5d6758f6963451a0a0                     saw-iii           7   \n",
       "10  5fc57c5d6758f6963451a0e0  the-girl-on-the-train-2016           8   \n",
       "11  5fc57c5d6758f6963451a11d                     yes-man           6   \n",
       "\n",
       "       user_id  \n",
       "4   deathproof  \n",
       "6   deathproof  \n",
       "8   deathproof  \n",
       "10  deathproof  \n",
       "11  deathproof  "
      ]
     },
     "execution_count": 91,
     "metadata": {},
     "output_type": "execute_result"
    }
   ],
   "source": [
    "#sanity check\n",
    "ratings_min.head()"
   ]
  },
  {
   "cell_type": "code",
   "execution_count": 92,
   "id": "5a9ee006",
   "metadata": {
    "scrolled": true
   },
   "outputs": [
    {
     "data": {
      "text/html": [
       "<div>\n",
       "<style scoped>\n",
       "    .dataframe tbody tr th:only-of-type {\n",
       "        vertical-align: middle;\n",
       "    }\n",
       "\n",
       "    .dataframe tbody tr th {\n",
       "        vertical-align: top;\n",
       "    }\n",
       "\n",
       "    .dataframe thead th {\n",
       "        text-align: right;\n",
       "    }\n",
       "</style>\n",
       "<table border=\"1\" class=\"dataframe\">\n",
       "  <thead>\n",
       "    <tr style=\"text-align: right;\">\n",
       "      <th></th>\n",
       "      <th>user_id</th>\n",
       "      <th>movie_id</th>\n",
       "      <th>rating_val</th>\n",
       "    </tr>\n",
       "  </thead>\n",
       "  <tbody>\n",
       "    <tr>\n",
       "      <th>7053274</th>\n",
       "      <td>007filmreviwer</td>\n",
       "      <td>10-cloverfield-lane</td>\n",
       "      <td>8</td>\n",
       "    </tr>\n",
       "    <tr>\n",
       "      <th>7051785</th>\n",
       "      <td>007filmreviwer</td>\n",
       "      <td>10-things-i-hate-about-you</td>\n",
       "      <td>8</td>\n",
       "    </tr>\n",
       "    <tr>\n",
       "      <th>7053160</th>\n",
       "      <td>007filmreviwer</td>\n",
       "      <td>12-angry-men</td>\n",
       "      <td>10</td>\n",
       "    </tr>\n",
       "    <tr>\n",
       "      <th>7052029</th>\n",
       "      <td>007filmreviwer</td>\n",
       "      <td>12-years-a-slave</td>\n",
       "      <td>9</td>\n",
       "    </tr>\n",
       "    <tr>\n",
       "      <th>7053472</th>\n",
       "      <td>007filmreviwer</td>\n",
       "      <td>127-hours</td>\n",
       "      <td>7</td>\n",
       "    </tr>\n",
       "  </tbody>\n",
       "</table>\n",
       "</div>"
      ],
      "text/plain": [
       "                user_id                    movie_id  rating_val\n",
       "7053274  007filmreviwer         10-cloverfield-lane           8\n",
       "7051785  007filmreviwer  10-things-i-hate-about-you           8\n",
       "7053160  007filmreviwer                12-angry-men          10\n",
       "7052029  007filmreviwer            12-years-a-slave           9\n",
       "7053472  007filmreviwer                   127-hours           7"
      ]
     },
     "execution_count": 92,
     "metadata": {},
     "output_type": "execute_result"
    }
   ],
   "source": [
    "#Reformatting our df and dropping _id\n",
    "df = ratings_min[['user_id', 'movie_id', 'rating_val']].copy()\n",
    "                              \n",
    "#Sorting \n",
    "original_df = df.sort_values(by=['user_id', 'movie_id'])\n",
    "original_df.head()"
   ]
  },
  {
   "cell_type": "code",
   "execution_count": 93,
   "id": "220b91d6",
   "metadata": {},
   "outputs": [
    {
     "name": "stdout",
     "output_type": "stream",
     "text": [
      "<class 'pandas.core.frame.DataFrame'>\n",
      "Index: 3583886 entries, 7053274 to 592400\n",
      "Data columns (total 3 columns):\n",
      " #   Column      Dtype \n",
      "---  ------      ----- \n",
      " 0   user_id     object\n",
      " 1   movie_id    object\n",
      " 2   rating_val  int64 \n",
      "dtypes: int64(1), object(2)\n",
      "memory usage: 109.4+ MB\n"
     ]
    }
   ],
   "source": [
    "original_df.info()"
   ]
  },
  {
   "cell_type": "markdown",
   "id": "fec2b616",
   "metadata": {},
   "source": [
    "Now we will load our dataframe as a special Dataset object from surprise: "
   ]
  },
  {
   "cell_type": "code",
   "execution_count": 94,
   "id": "4e82137f",
   "metadata": {},
   "outputs": [],
   "source": [
    "my_dataset = Dataset.load_from_df(original_df, Reader(rating_scale=(1, 10)))\n",
    "\n",
    "#Dataset to train our SVD on\n",
    "my_train_dataset = my_dataset.build_full_trainset()"
   ]
  },
  {
   "cell_type": "code",
   "execution_count": 95,
   "id": "869b33f2",
   "metadata": {},
   "outputs": [
    {
     "data": {
      "text/plain": [
       "<surprise.trainset.Trainset at 0x18e07cf10>"
      ]
     },
     "execution_count": 95,
     "metadata": {},
     "output_type": "execute_result"
    }
   ],
   "source": [
    "my_train_dataset"
   ]
  },
  {
   "cell_type": "markdown",
   "id": "472db35c",
   "metadata": {},
   "source": [
    "Next step is to initialize the algorithm, define the desired number of latent variables and iterations, and then run our algorithm."
   ]
  },
  {
   "cell_type": "markdown",
   "id": "20d25109",
   "metadata": {},
   "source": [
    "## This method  trains on entire dataset (no test)"
   ]
  },
  {
   "cell_type": "code",
   "execution_count": 96,
   "id": "1c8b728c",
   "metadata": {},
   "outputs": [
    {
     "data": {
      "text/plain": [
       "<surprise.prediction_algorithms.matrix_factorization.SVD at 0x30489b550>"
      ]
     },
     "execution_count": 96,
     "metadata": {},
     "output_type": "execute_result"
    }
   ],
   "source": [
    "#Inititalize our algogrithm\n",
    "my_algorithm = FunkSVD(n_factors=25, \n",
    "                       n_epochs=200, \n",
    "                       lr_all=0.1,    # Learning rate for each epoch\n",
    "                       biased=False,  # This forces the algorithm to store all latent information in the matrices\n",
    "                       verbose=0)\n",
    "\n",
    "my_algorithm.fit(my_train_dataset)"
   ]
  },
  {
   "cell_type": "markdown",
   "id": "2fba9cc2",
   "metadata": {},
   "source": [
    "## This method has train test split"
   ]
  },
  {
   "cell_type": "code",
   "execution_count": 70,
   "id": "7ffa7dad",
   "metadata": {
    "scrolled": true
   },
   "outputs": [
    {
     "data": {
      "text/plain": [
       "<surprise.prediction_algorithms.matrix_factorization.SVD at 0x2435f11d0>"
      ]
     },
     "execution_count": 70,
     "metadata": {},
     "output_type": "execute_result"
    }
   ],
   "source": [
    "\n",
    "#from surprise.model_selection import train_test_split\n",
    "\n",
    "\n",
    "#train_dataset, test_dataset = train_test_split(my_dataset, test_size=0.3)\n",
    "\n",
    "#Inititalize our algogrithm\n",
    "#my_algorithm = FunkSVD(n_factors=25, \n",
    "                       n_epochs=200, \n",
    "                       lr_all=0.25,    # Learning rate for each epoch\n",
    "                       biased=False,  # This forces the algorithm to store all latent information in the matrices\n",
    "                       verbose=0)\n",
    "\n",
    "\n",
    "# Train the algorithm on the training set\n",
    "#my_algorithm.fit(train_dataset)"
   ]
  },
  {
   "cell_type": "code",
   "execution_count": 97,
   "id": "bb655b86",
   "metadata": {
    "scrolled": true
   },
   "outputs": [
    {
     "name": "stdout",
     "output_type": "stream",
     "text": [
      "2.9362115163740787\n"
     ]
    }
   ],
   "source": [
    "from surprise import accuracy\n",
    "# Make predictions on the test set\n",
    "predictions = my_algorithm.test(my_test_dataset)\n",
    "\n",
    "# RMSE\n",
    "RMSE = accuracy.rmse(predictions, verbose=False)\n",
    "print(RMSE)"
   ]
  },
  {
   "cell_type": "markdown",
   "id": "0ae03a24",
   "metadata": {},
   "source": [
    "The user matrix is stored under the SVD.pu attribute"
   ]
  },
  {
   "cell_type": "code",
   "execution_count": 98,
   "id": "d49244cc",
   "metadata": {
    "scrolled": true
   },
   "outputs": [
    {
     "data": {
      "text/plain": [
       "(7454, 25)"
      ]
     },
     "execution_count": 98,
     "metadata": {},
     "output_type": "execute_result"
    }
   ],
   "source": [
    "#Extracting User matrix\n",
    "U = my_algorithm.pu\n",
    "U.shape"
   ]
  },
  {
   "cell_type": "code",
   "execution_count": 99,
   "id": "caccee1d",
   "metadata": {},
   "outputs": [
    {
     "data": {
      "text/plain": [
       "array([[nan, nan, nan, ..., nan, nan, nan],\n",
       "       [nan, nan, nan, ..., nan, nan, nan],\n",
       "       [nan, nan, nan, ..., nan, nan, nan],\n",
       "       ...,\n",
       "       [nan, nan, nan, ..., nan, nan, nan],\n",
       "       [nan, nan, nan, ..., nan, nan, nan],\n",
       "       [nan, nan, nan, ..., nan, nan, nan]])"
      ]
     },
     "execution_count": 99,
     "metadata": {},
     "output_type": "execute_result"
    }
   ],
   "source": [
    "U"
   ]
  },
  {
   "cell_type": "markdown",
   "id": "18e70f3b",
   "metadata": {},
   "source": [
    "The movie matrix is stored under the SVD.qi attribute"
   ]
  },
  {
   "cell_type": "code",
   "execution_count": 100,
   "id": "0b4f3008",
   "metadata": {
    "scrolled": true
   },
   "outputs": [
    {
     "data": {
      "text/plain": [
       "(25, 1434)"
      ]
     },
     "execution_count": 100,
     "metadata": {},
     "output_type": "execute_result"
    }
   ],
   "source": [
    "M = my_algorithm.qi.T #Transpose the matrix\n",
    "M.shape"
   ]
  },
  {
   "cell_type": "code",
   "execution_count": 101,
   "id": "e21c5554",
   "metadata": {},
   "outputs": [
    {
     "data": {
      "text/plain": [
       "array([[nan, nan, nan, ..., nan, nan, nan],\n",
       "       [nan, nan, nan, ..., nan, nan, nan],\n",
       "       [nan, nan, nan, ..., nan, nan, nan],\n",
       "       ...,\n",
       "       [nan, nan, nan, ..., nan, nan, nan],\n",
       "       [nan, nan, nan, ..., nan, nan, nan],\n",
       "       [nan, nan, nan, ..., nan, nan, nan]])"
      ]
     },
     "execution_count": 101,
     "metadata": {},
     "output_type": "execute_result"
    }
   ],
   "source": [
    "M"
   ]
  },
  {
   "cell_type": "code",
   "execution_count": 45,
   "id": "0704ca0d",
   "metadata": {
    "scrolled": true
   },
   "outputs": [
    {
     "data": {
      "text/html": [
       "<div>\n",
       "<style scoped>\n",
       "    .dataframe tbody tr th:only-of-type {\n",
       "        vertical-align: middle;\n",
       "    }\n",
       "\n",
       "    .dataframe tbody tr th {\n",
       "        vertical-align: top;\n",
       "    }\n",
       "\n",
       "    .dataframe thead th {\n",
       "        text-align: right;\n",
       "    }\n",
       "</style>\n",
       "<table border=\"1\" class=\"dataframe\">\n",
       "  <thead>\n",
       "    <tr style=\"text-align: right;\">\n",
       "      <th></th>\n",
       "      <th>feast-2014</th>\n",
       "      <th>loving-2016</th>\n",
       "      <th>mank</th>\n",
       "      <th>the-social-network</th>\n",
       "      <th>saw-iii</th>\n",
       "    </tr>\n",
       "  </thead>\n",
       "  <tbody>\n",
       "    <tr>\n",
       "      <th>deathproof</th>\n",
       "      <td>7.0</td>\n",
       "      <td>7.0</td>\n",
       "      <td>5.0</td>\n",
       "      <td>10.0</td>\n",
       "      <td>7.0</td>\n",
       "    </tr>\n",
       "    <tr>\n",
       "      <th>kurstboy</th>\n",
       "      <td>NaN</td>\n",
       "      <td>NaN</td>\n",
       "      <td>6.0</td>\n",
       "      <td>10.0</td>\n",
       "      <td>NaN</td>\n",
       "    </tr>\n",
       "    <tr>\n",
       "      <th>davidehrlich</th>\n",
       "      <td>NaN</td>\n",
       "      <td>7.0</td>\n",
       "      <td>8.0</td>\n",
       "      <td>10.0</td>\n",
       "      <td>NaN</td>\n",
       "    </tr>\n",
       "    <tr>\n",
       "      <th>adrianbalboa</th>\n",
       "      <td>NaN</td>\n",
       "      <td>9.0</td>\n",
       "      <td>8.0</td>\n",
       "      <td>10.0</td>\n",
       "      <td>7.0</td>\n",
       "    </tr>\n",
       "    <tr>\n",
       "      <th>ingridgoeswest</th>\n",
       "      <td>10.0</td>\n",
       "      <td>9.0</td>\n",
       "      <td>NaN</td>\n",
       "      <td>10.0</td>\n",
       "      <td>NaN</td>\n",
       "    </tr>\n",
       "  </tbody>\n",
       "</table>\n",
       "</div>"
      ],
      "text/plain": [
       "                feast-2014  loving-2016  mank  the-social-network  saw-iii\n",
       "deathproof             7.0          7.0   5.0                10.0      7.0\n",
       "kurstboy               NaN          NaN   6.0                10.0      NaN\n",
       "davidehrlich           NaN          7.0   8.0                10.0      NaN\n",
       "adrianbalboa           NaN          9.0   8.0                10.0      7.0\n",
       "ingridgoeswest        10.0          9.0   NaN                10.0      NaN"
      ]
     },
     "execution_count": 45,
     "metadata": {},
     "output_type": "execute_result"
    }
   ],
   "source": [
    "R_df.iloc[:5, :5]"
   ]
  },
  {
   "cell_type": "code",
   "execution_count": 111,
   "id": "3762a725",
   "metadata": {},
   "outputs": [
    {
     "data": {
      "text/html": [
       "<div>\n",
       "<style scoped>\n",
       "    .dataframe tbody tr th:only-of-type {\n",
       "        vertical-align: middle;\n",
       "    }\n",
       "\n",
       "    .dataframe tbody tr th {\n",
       "        vertical-align: top;\n",
       "    }\n",
       "\n",
       "    .dataframe thead th {\n",
       "        text-align: right;\n",
       "    }\n",
       "</style>\n",
       "<table border=\"1\" class=\"dataframe\">\n",
       "  <thead>\n",
       "    <tr style=\"text-align: right;\">\n",
       "      <th></th>\n",
       "      <th>mank</th>\n",
       "      <th>the-social-network</th>\n",
       "      <th>saw-iii</th>\n",
       "      <th>the-girl-on-the-train-2016</th>\n",
       "      <th>yes-man</th>\n",
       "      <th>insidious</th>\n",
       "      <th>nerve-2016</th>\n",
       "      <th>mud</th>\n",
       "      <th>hush-2016</th>\n",
       "      <th>deadpool</th>\n",
       "      <th>...</th>\n",
       "      <th>eternals</th>\n",
       "      <th>malignant-2021</th>\n",
       "      <th>squid-game</th>\n",
       "      <th>licorice-pizza</th>\n",
       "      <th>house-of-gucci</th>\n",
       "      <th>tick-tick-boom-2021</th>\n",
       "      <th>encanto</th>\n",
       "      <th>nightmare-alley-2021</th>\n",
       "      <th>ex-machina-2015</th>\n",
       "      <th>scream-2022</th>\n",
       "    </tr>\n",
       "  </thead>\n",
       "  <tbody>\n",
       "    <tr>\n",
       "      <th>deathproof</th>\n",
       "      <td>5.0</td>\n",
       "      <td>10.0</td>\n",
       "      <td>7.0</td>\n",
       "      <td>8.0</td>\n",
       "      <td>6.0</td>\n",
       "      <td>10.0</td>\n",
       "      <td>7.0</td>\n",
       "      <td>4.0</td>\n",
       "      <td>8.0</td>\n",
       "      <td>5.0</td>\n",
       "      <td>...</td>\n",
       "      <td>6.0</td>\n",
       "      <td>8.0</td>\n",
       "      <td>NaN</td>\n",
       "      <td>7.0</td>\n",
       "      <td>NaN</td>\n",
       "      <td>NaN</td>\n",
       "      <td>NaN</td>\n",
       "      <td>6.0</td>\n",
       "      <td>9.0</td>\n",
       "      <td>7.0</td>\n",
       "    </tr>\n",
       "    <tr>\n",
       "      <th>kurstboy</th>\n",
       "      <td>6.0</td>\n",
       "      <td>10.0</td>\n",
       "      <td>NaN</td>\n",
       "      <td>NaN</td>\n",
       "      <td>NaN</td>\n",
       "      <td>NaN</td>\n",
       "      <td>NaN</td>\n",
       "      <td>NaN</td>\n",
       "      <td>NaN</td>\n",
       "      <td>5.0</td>\n",
       "      <td>...</td>\n",
       "      <td>NaN</td>\n",
       "      <td>7.0</td>\n",
       "      <td>NaN</td>\n",
       "      <td>8.0</td>\n",
       "      <td>7.0</td>\n",
       "      <td>8.0</td>\n",
       "      <td>7.0</td>\n",
       "      <td>8.0</td>\n",
       "      <td>9.0</td>\n",
       "      <td>NaN</td>\n",
       "    </tr>\n",
       "    <tr>\n",
       "      <th>davidehrlich</th>\n",
       "      <td>8.0</td>\n",
       "      <td>10.0</td>\n",
       "      <td>NaN</td>\n",
       "      <td>3.0</td>\n",
       "      <td>NaN</td>\n",
       "      <td>NaN</td>\n",
       "      <td>7.0</td>\n",
       "      <td>NaN</td>\n",
       "      <td>NaN</td>\n",
       "      <td>3.0</td>\n",
       "      <td>...</td>\n",
       "      <td>5.0</td>\n",
       "      <td>NaN</td>\n",
       "      <td>NaN</td>\n",
       "      <td>10.0</td>\n",
       "      <td>7.0</td>\n",
       "      <td>7.0</td>\n",
       "      <td>NaN</td>\n",
       "      <td>7.0</td>\n",
       "      <td>6.0</td>\n",
       "      <td>NaN</td>\n",
       "    </tr>\n",
       "    <tr>\n",
       "      <th>adrianbalboa</th>\n",
       "      <td>8.0</td>\n",
       "      <td>10.0</td>\n",
       "      <td>7.0</td>\n",
       "      <td>7.0</td>\n",
       "      <td>NaN</td>\n",
       "      <td>NaN</td>\n",
       "      <td>5.0</td>\n",
       "      <td>8.0</td>\n",
       "      <td>8.0</td>\n",
       "      <td>7.0</td>\n",
       "      <td>...</td>\n",
       "      <td>NaN</td>\n",
       "      <td>NaN</td>\n",
       "      <td>NaN</td>\n",
       "      <td>NaN</td>\n",
       "      <td>NaN</td>\n",
       "      <td>NaN</td>\n",
       "      <td>NaN</td>\n",
       "      <td>NaN</td>\n",
       "      <td>NaN</td>\n",
       "      <td>NaN</td>\n",
       "    </tr>\n",
       "    <tr>\n",
       "      <th>ingridgoeswest</th>\n",
       "      <td>NaN</td>\n",
       "      <td>10.0</td>\n",
       "      <td>NaN</td>\n",
       "      <td>1.0</td>\n",
       "      <td>4.0</td>\n",
       "      <td>9.0</td>\n",
       "      <td>7.0</td>\n",
       "      <td>9.0</td>\n",
       "      <td>7.0</td>\n",
       "      <td>7.0</td>\n",
       "      <td>...</td>\n",
       "      <td>NaN</td>\n",
       "      <td>9.0</td>\n",
       "      <td>NaN</td>\n",
       "      <td>7.0</td>\n",
       "      <td>7.0</td>\n",
       "      <td>NaN</td>\n",
       "      <td>NaN</td>\n",
       "      <td>7.0</td>\n",
       "      <td>10.0</td>\n",
       "      <td>NaN</td>\n",
       "    </tr>\n",
       "    <tr>\n",
       "      <th>...</th>\n",
       "      <td>...</td>\n",
       "      <td>...</td>\n",
       "      <td>...</td>\n",
       "      <td>...</td>\n",
       "      <td>...</td>\n",
       "      <td>...</td>\n",
       "      <td>...</td>\n",
       "      <td>...</td>\n",
       "      <td>...</td>\n",
       "      <td>...</td>\n",
       "      <td>...</td>\n",
       "      <td>...</td>\n",
       "      <td>...</td>\n",
       "      <td>...</td>\n",
       "      <td>...</td>\n",
       "      <td>...</td>\n",
       "      <td>...</td>\n",
       "      <td>...</td>\n",
       "      <td>...</td>\n",
       "      <td>...</td>\n",
       "      <td>...</td>\n",
       "    </tr>\n",
       "    <tr>\n",
       "      <th>mateazember</th>\n",
       "      <td>NaN</td>\n",
       "      <td>NaN</td>\n",
       "      <td>NaN</td>\n",
       "      <td>NaN</td>\n",
       "      <td>NaN</td>\n",
       "      <td>NaN</td>\n",
       "      <td>NaN</td>\n",
       "      <td>NaN</td>\n",
       "      <td>NaN</td>\n",
       "      <td>NaN</td>\n",
       "      <td>...</td>\n",
       "      <td>NaN</td>\n",
       "      <td>NaN</td>\n",
       "      <td>NaN</td>\n",
       "      <td>NaN</td>\n",
       "      <td>NaN</td>\n",
       "      <td>NaN</td>\n",
       "      <td>2.0</td>\n",
       "      <td>NaN</td>\n",
       "      <td>NaN</td>\n",
       "      <td>NaN</td>\n",
       "    </tr>\n",
       "    <tr>\n",
       "      <th>finnvor1</th>\n",
       "      <td>NaN</td>\n",
       "      <td>NaN</td>\n",
       "      <td>NaN</td>\n",
       "      <td>NaN</td>\n",
       "      <td>NaN</td>\n",
       "      <td>NaN</td>\n",
       "      <td>NaN</td>\n",
       "      <td>NaN</td>\n",
       "      <td>NaN</td>\n",
       "      <td>NaN</td>\n",
       "      <td>...</td>\n",
       "      <td>NaN</td>\n",
       "      <td>NaN</td>\n",
       "      <td>NaN</td>\n",
       "      <td>10.0</td>\n",
       "      <td>NaN</td>\n",
       "      <td>10.0</td>\n",
       "      <td>NaN</td>\n",
       "      <td>NaN</td>\n",
       "      <td>8.0</td>\n",
       "      <td>NaN</td>\n",
       "    </tr>\n",
       "    <tr>\n",
       "      <th>daniel</th>\n",
       "      <td>6.0</td>\n",
       "      <td>8.0</td>\n",
       "      <td>5.0</td>\n",
       "      <td>6.0</td>\n",
       "      <td>NaN</td>\n",
       "      <td>6.0</td>\n",
       "      <td>6.0</td>\n",
       "      <td>NaN</td>\n",
       "      <td>6.0</td>\n",
       "      <td>7.0</td>\n",
       "      <td>...</td>\n",
       "      <td>4.0</td>\n",
       "      <td>7.0</td>\n",
       "      <td>NaN</td>\n",
       "      <td>NaN</td>\n",
       "      <td>NaN</td>\n",
       "      <td>NaN</td>\n",
       "      <td>NaN</td>\n",
       "      <td>7.0</td>\n",
       "      <td>8.0</td>\n",
       "      <td>NaN</td>\n",
       "    </tr>\n",
       "    <tr>\n",
       "      <th>butterflyfilms</th>\n",
       "      <td>8.0</td>\n",
       "      <td>NaN</td>\n",
       "      <td>7.0</td>\n",
       "      <td>NaN</td>\n",
       "      <td>6.0</td>\n",
       "      <td>NaN</td>\n",
       "      <td>NaN</td>\n",
       "      <td>NaN</td>\n",
       "      <td>NaN</td>\n",
       "      <td>8.0</td>\n",
       "      <td>...</td>\n",
       "      <td>6.0</td>\n",
       "      <td>NaN</td>\n",
       "      <td>6.0</td>\n",
       "      <td>NaN</td>\n",
       "      <td>NaN</td>\n",
       "      <td>NaN</td>\n",
       "      <td>5.0</td>\n",
       "      <td>NaN</td>\n",
       "      <td>NaN</td>\n",
       "      <td>NaN</td>\n",
       "    </tr>\n",
       "    <tr>\n",
       "      <th>poellnerson</th>\n",
       "      <td>6.0</td>\n",
       "      <td>8.0</td>\n",
       "      <td>4.0</td>\n",
       "      <td>NaN</td>\n",
       "      <td>5.0</td>\n",
       "      <td>3.0</td>\n",
       "      <td>5.0</td>\n",
       "      <td>NaN</td>\n",
       "      <td>7.0</td>\n",
       "      <td>7.0</td>\n",
       "      <td>...</td>\n",
       "      <td>4.0</td>\n",
       "      <td>NaN</td>\n",
       "      <td>7.0</td>\n",
       "      <td>7.0</td>\n",
       "      <td>6.0</td>\n",
       "      <td>7.0</td>\n",
       "      <td>6.0</td>\n",
       "      <td>7.0</td>\n",
       "      <td>NaN</td>\n",
       "      <td>NaN</td>\n",
       "    </tr>\n",
       "  </tbody>\n",
       "</table>\n",
       "<p>7454 rows × 1434 columns</p>\n",
       "</div>"
      ],
      "text/plain": [
       "                mank  the-social-network  saw-iii  the-girl-on-the-train-2016  \\\n",
       "deathproof       5.0                10.0      7.0                         8.0   \n",
       "kurstboy         6.0                10.0      NaN                         NaN   \n",
       "davidehrlich     8.0                10.0      NaN                         3.0   \n",
       "adrianbalboa     8.0                10.0      7.0                         7.0   \n",
       "ingridgoeswest   NaN                10.0      NaN                         1.0   \n",
       "...              ...                 ...      ...                         ...   \n",
       "mateazember      NaN                 NaN      NaN                         NaN   \n",
       "finnvor1         NaN                 NaN      NaN                         NaN   \n",
       "daniel           6.0                 8.0      5.0                         6.0   \n",
       "butterflyfilms   8.0                 NaN      7.0                         NaN   \n",
       "poellnerson      6.0                 8.0      4.0                         NaN   \n",
       "\n",
       "                yes-man  insidious  nerve-2016  mud  hush-2016  deadpool  ...  \\\n",
       "deathproof          6.0       10.0         7.0  4.0        8.0       5.0  ...   \n",
       "kurstboy            NaN        NaN         NaN  NaN        NaN       5.0  ...   \n",
       "davidehrlich        NaN        NaN         7.0  NaN        NaN       3.0  ...   \n",
       "adrianbalboa        NaN        NaN         5.0  8.0        8.0       7.0  ...   \n",
       "ingridgoeswest      4.0        9.0         7.0  9.0        7.0       7.0  ...   \n",
       "...                 ...        ...         ...  ...        ...       ...  ...   \n",
       "mateazember         NaN        NaN         NaN  NaN        NaN       NaN  ...   \n",
       "finnvor1            NaN        NaN         NaN  NaN        NaN       NaN  ...   \n",
       "daniel              NaN        6.0         6.0  NaN        6.0       7.0  ...   \n",
       "butterflyfilms      6.0        NaN         NaN  NaN        NaN       8.0  ...   \n",
       "poellnerson         5.0        3.0         5.0  NaN        7.0       7.0  ...   \n",
       "\n",
       "                eternals  malignant-2021  squid-game  licorice-pizza  \\\n",
       "deathproof           6.0             8.0         NaN             7.0   \n",
       "kurstboy             NaN             7.0         NaN             8.0   \n",
       "davidehrlich         5.0             NaN         NaN            10.0   \n",
       "adrianbalboa         NaN             NaN         NaN             NaN   \n",
       "ingridgoeswest       NaN             9.0         NaN             7.0   \n",
       "...                  ...             ...         ...             ...   \n",
       "mateazember          NaN             NaN         NaN             NaN   \n",
       "finnvor1             NaN             NaN         NaN            10.0   \n",
       "daniel               4.0             7.0         NaN             NaN   \n",
       "butterflyfilms       6.0             NaN         6.0             NaN   \n",
       "poellnerson          4.0             NaN         7.0             7.0   \n",
       "\n",
       "                house-of-gucci  tick-tick-boom-2021  encanto  \\\n",
       "deathproof                 NaN                  NaN      NaN   \n",
       "kurstboy                   7.0                  8.0      7.0   \n",
       "davidehrlich               7.0                  7.0      NaN   \n",
       "adrianbalboa               NaN                  NaN      NaN   \n",
       "ingridgoeswest             7.0                  NaN      NaN   \n",
       "...                        ...                  ...      ...   \n",
       "mateazember                NaN                  NaN      2.0   \n",
       "finnvor1                   NaN                 10.0      NaN   \n",
       "daniel                     NaN                  NaN      NaN   \n",
       "butterflyfilms             NaN                  NaN      5.0   \n",
       "poellnerson                6.0                  7.0      6.0   \n",
       "\n",
       "                nightmare-alley-2021  ex-machina-2015  scream-2022  \n",
       "deathproof                       6.0              9.0          7.0  \n",
       "kurstboy                         8.0              9.0          NaN  \n",
       "davidehrlich                     7.0              6.0          NaN  \n",
       "adrianbalboa                     NaN              NaN          NaN  \n",
       "ingridgoeswest                   7.0             10.0          NaN  \n",
       "...                              ...              ...          ...  \n",
       "mateazember                      NaN              NaN          NaN  \n",
       "finnvor1                         NaN              8.0          NaN  \n",
       "daniel                           7.0              8.0          NaN  \n",
       "butterflyfilms                   NaN              NaN          NaN  \n",
       "poellnerson                      7.0              NaN          NaN  \n",
       "\n",
       "[7454 rows x 1434 columns]"
      ]
     },
     "execution_count": 111,
     "metadata": {},
     "output_type": "execute_result"
    }
   ],
   "source": [
    "R_df"
   ]
  },
  {
   "cell_type": "code",
   "execution_count": 46,
   "id": "efcbb706",
   "metadata": {},
   "outputs": [
    {
     "data": {
      "text/plain": [
       "array([nan, nan, nan, nan, nan, nan, nan, nan, nan, nan, nan, nan, nan,\n",
       "       nan, nan, nan, nan, nan, nan, nan, nan, nan, nan, nan, nan, nan,\n",
       "       nan, nan, nan, nan, nan, nan, nan, nan, nan, nan, nan, nan, nan,\n",
       "       nan, nan, nan, nan, nan, nan, nan, nan, nan, nan, nan])"
      ]
     },
     "execution_count": 46,
     "metadata": {},
     "output_type": "execute_result"
    }
   ],
   "source": [
    "#First grabbing user profile\n",
    "inner_user_id = my_train_dataset.to_inner_uid(\"deathproof\") # find the inner representation of user 1\n",
    "user_profile = U[inner_user_id]\n",
    "user_profile"
   ]
  },
  {
   "cell_type": "code",
   "execution_count": 29,
   "id": "67789590",
   "metadata": {},
   "outputs": [
    {
     "data": {
      "text/plain": [
       "array([nan, nan, nan, nan, nan, nan, nan, nan, nan, nan])"
      ]
     },
     "execution_count": 29,
     "metadata": {},
     "output_type": "execute_result"
    }
   ],
   "source": [
    "#Then movie profile\n",
    "inner_movie_id = my_train_dataset.to_inner_iid(\"feast-2014\") # find the inner representation of item 1\n",
    "movie_profile = M[:, inner_movie_id]\n",
    "movie_profile"
   ]
  },
  {
   "cell_type": "markdown",
   "id": "f25922e3",
   "metadata": {},
   "source": [
    "Our expected rating of this movie by this user is the dot product of these two profiles:"
   ]
  },
  {
   "cell_type": "code",
   "execution_count": 30,
   "id": "e5201988",
   "metadata": {
    "scrolled": true
   },
   "outputs": [
    {
     "data": {
      "text/plain": [
       "nan"
      ]
     },
     "execution_count": 30,
     "metadata": {},
     "output_type": "execute_result"
    }
   ],
   "source": [
    "expected_rating = np.dot(user_profile, movie_profile)\n",
    "expected_rating"
   ]
  },
  {
   "cell_type": "code",
   "execution_count": null,
   "id": "60b7c916",
   "metadata": {},
   "outputs": [],
   "source": []
  },
  {
   "cell_type": "markdown",
   "id": "4034bea9",
   "metadata": {},
   "source": [
    "Baseline mode:"
   ]
  },
  {
   "cell_type": "code",
   "execution_count": 103,
   "id": "2ad5ab64",
   "metadata": {
    "scrolled": false
   },
   "outputs": [
    {
     "name": "stdout",
     "output_type": "stream",
     "text": [
      "RMSE: 1.3447\n",
      "RMSE: 1.3446877646298245\n"
     ]
    }
   ],
   "source": [
    "from surprise import Dataset, Reader\n",
    "from surprise import SVD\n",
    "from surprise.model_selection import train_test_split\n",
    "from surprise import accuracy\n",
    "\n",
    "# Assuming you have a DataFrame called original_df with columns: 'user_id', 'movie_id', 'rating_val'\n",
    "\n",
    "# Define the Reader with the specified rating scale\n",
    "reader = Reader(rating_scale=(1, 10))  # Adjust the rating scale according to your data\n",
    "\n",
    "# Load your dataset from the DataFrame\n",
    "my_dataset = Dataset.load_from_df(original_df[['user_id', 'movie_id', 'rating_val']], reader)\n",
    "\n",
    "# Split the data into train and test sets (adjust test_size as needed)\n",
    "trainset, testset = train_test_split(my_dataset, test_size=0.2)\n",
    "\n",
    "# Initialize the SVD algorithm (FunkSVD)\n",
    "my_algorithm = SVD()\n",
    "\n",
    "# Train the algorithm on the trainset\n",
    "my_algorithm.fit(trainset)\n",
    "\n",
    "# Predict ratings for the testset\n",
    "predictions = my_algorithm.test(testset)\n",
    "\n",
    "# Evaluate model performance (e.g., RMSE)\n",
    "RMSE = accuracy.rmse(predictions)\n",
    "print(f\"RMSE: {RMSE}\")\n"
   ]
  },
  {
   "cell_type": "markdown",
   "id": "297ac293",
   "metadata": {},
   "source": [
    "In case we delete teh above vode the below is pre req for grid search"
   ]
  },
  {
   "cell_type": "code",
   "execution_count": null,
   "id": "0e500463",
   "metadata": {},
   "outputs": [],
   "source": [
    "# Define the Reader with the specified rating scale\n",
    "#reader = Reader(rating_scale=(1, 10))  # Adjust the rating scale according to your data\n",
    "\n",
    "# Load your dataset from the DataFrame\n",
    "#my_dataset = Dataset.load_from_df(original_df[['user_id', 'movie_id', 'rating_val']], reader)"
   ]
  },
  {
   "cell_type": "code",
   "execution_count": null,
   "id": "ec2e8c57",
   "metadata": {},
   "outputs": [],
   "source": [
    "from surprise.model_selection import GridSearchCV\n",
    "from surprise import Dataset, Reader\n",
    "from surprise import SVD\n",
    "import pandas as pd\n",
    "\n",
    "# Assuming you have a DataFrame called original_df with columns: 'user_id', 'movie_id', 'rating_val'\n",
    "\n",
    "# Define the Reader with the specified rating scale\n",
    "reader = Reader(rating_scale=(1, 10))  # Adjust the rating scale according to your data\n",
    "\n",
    "# Load your dataset from the DataFrame\n",
    "my_dataset = Dataset.load_from_df(original_df[['user_id', 'movie_id', 'rating_val']], reader)\n",
    "\n",
    "# Define the parameter grid\n",
    "param_grid = {'n_factors': [50, 100, 150],\n",
    "              'n_epochs': [20, 30, 40],\n",
    "              'lr_all': [0.002, 0.005, 0.01],\n",
    "              'reg_all': [0.02, 0.05, 0.1]}\n",
    "\n",
    "# Initialize the SVD algorithm\n",
    "svd_algo = SVD()\n",
    "\n",
    "# Set up GridSearchCV\n",
    "grid_search = GridSearchCV(SVD, param_grid, measures=['RMSE'], cv=5)\n",
    "grid_search.fit(my_dataset)\n",
    "\n",
    "# Print combinations and RMSE scores\n",
    "results_df = pd.DataFrame.from_dict(grid_search.cv_results)\n",
    "print(results_df[['param_n_factors', 'param_n_epochs', 'param_lr_all', 'param_reg_all', 'mean_test_rmse']])\n"
   ]
  },
  {
   "cell_type": "code",
   "execution_count": null,
   "id": "92b5bdea",
   "metadata": {},
   "outputs": [],
   "source": []
  },
  {
   "cell_type": "code",
   "execution_count": 104,
   "id": "5f402d55",
   "metadata": {},
   "outputs": [],
   "source": [
    "#also uses surprise import SVD\n",
    "\n",
    "bdef predict_score(model, user_id, movie_id):\n",
    "    \"\"\"\n",
    "    Predicts a rating score for a specific user and movie using a trained Surprise model.\n",
    "\n",
    "    Args:\n",
    "    - model (SVD): Trained Surprise model (FunkSVD or similar).\n",
    "    - user_id (str): ID of the user for whom the prediction is made.\n",
    "    - movie_id (str): ID of the movie for which the prediction is made.\n",
    "\n",
    "    Returns:\n",
    "    - float: Predicted rating score for the specified user and movie.\n",
    "    \"\"\"\n",
    "    # Predict a rating for the specified user and movie\n",
    "    predicted_score = model.predict(user_id, movie_id)\n",
    "    return predicted_score.est"
   ]
  },
  {
   "cell_type": "code",
   "execution_count": 1,
   "id": "a5fc7244",
   "metadata": {},
   "outputs": [
    {
     "ename": "NameError",
     "evalue": "name 'predict_score' is not defined",
     "output_type": "error",
     "traceback": [
      "\u001b[0;31m---------------------------------------------------------------------------\u001b[0m",
      "\u001b[0;31mNameError\u001b[0m                                 Traceback (most recent call last)",
      "Cell \u001b[0;32mIn[1], line 1\u001b[0m\n\u001b[0;32m----> 1\u001b[0m predict_score(my_algorithm, \u001b[38;5;124m'\u001b[39m\u001b[38;5;124mdeathproof\u001b[39m\u001b[38;5;124m'\u001b[39m, \u001b[38;5;124m'\u001b[39m\u001b[38;5;124mfeast-2014\u001b[39m\u001b[38;5;124m'\u001b[39m)\n",
      "\u001b[0;31mNameError\u001b[0m: name 'predict_score' is not defined"
     ]
    }
   ],
   "source": [
    "predict_score(my_algorithm, 'deathproof', 'feast-2014')\n"
   ]
  },
  {
   "cell_type": "code",
   "execution_count": 110,
   "id": "1742dfb7",
   "metadata": {},
   "outputs": [
    {
     "data": {
      "text/plain": [
       "7.798825700735215"
      ]
     },
     "execution_count": 110,
     "metadata": {},
     "output_type": "execute_result"
    }
   ],
   "source": [
    "predict_score(my_algorithm, 'deathproof', 'saw-iii')\n"
   ]
  }
 ],
 "metadata": {
  "kernelspec": {
   "display_name": "Python 3 (ipykernel)",
   "language": "python",
   "name": "python3"
  },
  "language_info": {
   "codemirror_mode": {
    "name": "ipython",
    "version": 3
   },
   "file_extension": ".py",
   "mimetype": "text/x-python",
   "name": "python",
   "nbconvert_exporter": "python",
   "pygments_lexer": "ipython3",
   "version": "3.11.5"
  }
 },
 "nbformat": 4,
 "nbformat_minor": 5
}
